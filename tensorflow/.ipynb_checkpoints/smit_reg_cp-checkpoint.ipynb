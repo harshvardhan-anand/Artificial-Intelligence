{
 "cells": [
  {
   "cell_type": "code",
   "execution_count": 91,
   "metadata": {
    "collapsed": true
   },
   "outputs": [],
   "source": [
    "import pandas as pd"
   ]
  },
  {
   "cell_type": "code",
   "execution_count": 92,
   "metadata": {
    "collapsed": true
   },
   "outputs": [],
   "source": [
    "marks_data=pd.read_csv('C:\\\\Users\\\\Brothers\\\\Desktop\\\\data.csv')"
   ]
  },
  {
   "cell_type": "code",
   "execution_count": 93,
   "metadata": {},
   "outputs": [
    {
     "data": {
      "text/html": [
       "<div>\n",
       "<style>\n",
       "    .dataframe thead tr:only-child th {\n",
       "        text-align: right;\n",
       "    }\n",
       "\n",
       "    .dataframe thead th {\n",
       "        text-align: left;\n",
       "    }\n",
       "\n",
       "    .dataframe tbody tr th {\n",
       "        vertical-align: top;\n",
       "    }\n",
       "</style>\n",
       "<table border=\"1\" class=\"dataframe\">\n",
       "  <thead>\n",
       "    <tr style=\"text-align: right;\">\n",
       "      <th></th>\n",
       "      <th>internals</th>\n",
       "      <th>external</th>\n",
       "      <th>grade</th>\n",
       "    </tr>\n",
       "  </thead>\n",
       "  <tbody>\n",
       "    <tr>\n",
       "      <th>0</th>\n",
       "      <td>24.50</td>\n",
       "      <td>33.5</td>\n",
       "      <td>C</td>\n",
       "    </tr>\n",
       "    <tr>\n",
       "      <th>1</th>\n",
       "      <td>32.40</td>\n",
       "      <td>25</td>\n",
       "      <td>C</td>\n",
       "    </tr>\n",
       "    <tr>\n",
       "      <th>2</th>\n",
       "      <td>27.05</td>\n",
       "      <td>27.5</td>\n",
       "      <td>C</td>\n",
       "    </tr>\n",
       "    <tr>\n",
       "      <th>3</th>\n",
       "      <td>34.50</td>\n",
       "      <td>29</td>\n",
       "      <td>B</td>\n",
       "    </tr>\n",
       "    <tr>\n",
       "      <th>4</th>\n",
       "      <td>19.30</td>\n",
       "      <td>28</td>\n",
       "      <td>D</td>\n",
       "    </tr>\n",
       "  </tbody>\n",
       "</table>\n",
       "</div>"
      ],
      "text/plain": [
       "   internals external grade\n",
       "0      24.50     33.5     C\n",
       "1      32.40       25     C\n",
       "2      27.05     27.5     C\n",
       "3      34.50       29     B\n",
       "4      19.30       28     D"
      ]
     },
     "execution_count": 93,
     "metadata": {},
     "output_type": "execute_result"
    }
   ],
   "source": [
    "marks_data.head()"
   ]
  },
  {
   "cell_type": "markdown",
   "metadata": {},
   "source": [
    "**x_data= data**\n",
    "\n",
    "**y_label= label**"
   ]
  },
  {
   "cell_type": "code",
   "execution_count": 94,
   "metadata": {
    "collapsed": true
   },
   "outputs": [],
   "source": [
    "data=marks_data.drop('external', axis=1)"
   ]
  },
  {
   "cell_type": "code",
   "execution_count": 95,
   "metadata": {
    "collapsed": true
   },
   "outputs": [],
   "source": [
    "label=pd.DataFrame(marks_data['external'])"
   ]
  },
  {
   "cell_type": "code",
   "execution_count": 96,
   "metadata": {},
   "outputs": [
    {
     "data": {
      "text/html": [
       "<div>\n",
       "<style>\n",
       "    .dataframe thead tr:only-child th {\n",
       "        text-align: right;\n",
       "    }\n",
       "\n",
       "    .dataframe thead th {\n",
       "        text-align: left;\n",
       "    }\n",
       "\n",
       "    .dataframe tbody tr th {\n",
       "        vertical-align: top;\n",
       "    }\n",
       "</style>\n",
       "<table border=\"1\" class=\"dataframe\">\n",
       "  <thead>\n",
       "    <tr style=\"text-align: right;\">\n",
       "      <th></th>\n",
       "      <th>internals</th>\n",
       "      <th>grade</th>\n",
       "    </tr>\n",
       "  </thead>\n",
       "  <tbody>\n",
       "    <tr>\n",
       "      <th>0</th>\n",
       "      <td>24.50</td>\n",
       "      <td>C</td>\n",
       "    </tr>\n",
       "    <tr>\n",
       "      <th>1</th>\n",
       "      <td>32.40</td>\n",
       "      <td>C</td>\n",
       "    </tr>\n",
       "    <tr>\n",
       "      <th>2</th>\n",
       "      <td>27.05</td>\n",
       "      <td>C</td>\n",
       "    </tr>\n",
       "    <tr>\n",
       "      <th>3</th>\n",
       "      <td>34.50</td>\n",
       "      <td>B</td>\n",
       "    </tr>\n",
       "    <tr>\n",
       "      <th>4</th>\n",
       "      <td>19.30</td>\n",
       "      <td>D</td>\n",
       "    </tr>\n",
       "  </tbody>\n",
       "</table>\n",
       "</div>"
      ],
      "text/plain": [
       "   internals grade\n",
       "0      24.50     C\n",
       "1      32.40     C\n",
       "2      27.05     C\n",
       "3      34.50     B\n",
       "4      19.30     D"
      ]
     },
     "execution_count": 96,
     "metadata": {},
     "output_type": "execute_result"
    }
   ],
   "source": [
    "data.head()"
   ]
  },
  {
   "cell_type": "code",
   "execution_count": 97,
   "metadata": {},
   "outputs": [
    {
     "data": {
      "text/html": [
       "<div>\n",
       "<style>\n",
       "    .dataframe thead tr:only-child th {\n",
       "        text-align: right;\n",
       "    }\n",
       "\n",
       "    .dataframe thead th {\n",
       "        text-align: left;\n",
       "    }\n",
       "\n",
       "    .dataframe tbody tr th {\n",
       "        vertical-align: top;\n",
       "    }\n",
       "</style>\n",
       "<table border=\"1\" class=\"dataframe\">\n",
       "  <thead>\n",
       "    <tr style=\"text-align: right;\">\n",
       "      <th></th>\n",
       "      <th>external</th>\n",
       "    </tr>\n",
       "  </thead>\n",
       "  <tbody>\n",
       "    <tr>\n",
       "      <th>0</th>\n",
       "      <td>33.5</td>\n",
       "    </tr>\n",
       "    <tr>\n",
       "      <th>1</th>\n",
       "      <td>25</td>\n",
       "    </tr>\n",
       "    <tr>\n",
       "      <th>2</th>\n",
       "      <td>27.5</td>\n",
       "    </tr>\n",
       "    <tr>\n",
       "      <th>3</th>\n",
       "      <td>29</td>\n",
       "    </tr>\n",
       "    <tr>\n",
       "      <th>4</th>\n",
       "      <td>28</td>\n",
       "    </tr>\n",
       "  </tbody>\n",
       "</table>\n",
       "</div>"
      ],
      "text/plain": [
       "  external\n",
       "0     33.5\n",
       "1       25\n",
       "2     27.5\n",
       "3       29\n",
       "4       28"
      ]
     },
     "execution_count": 97,
     "metadata": {},
     "output_type": "execute_result"
    }
   ],
   "source": [
    "label.head()"
   ]
  },
  {
   "cell_type": "code",
   "execution_count": 98,
   "metadata": {},
   "outputs": [
    {
     "data": {
      "text/plain": [
       "array(['33.5', '25', '27.5', '29', '28', '18.5', '30.5', '17', '21', '16',\n",
       "       '1.5', '22.5', '18', '31.5', '23.5', '36', '19.5', '23', '12.5',\n",
       "       '14.5', '43', '39', '30', '43.5', '22', '28.5', '32', '34.5',\n",
       "       '24.5', '6', '   DT', '34', '26.5', '24', '36.5', '21.5', '48.5',\n",
       "       ' MP', '17.5', '19', '35', '9.5', '37', '16.5', '42', '9', '13',\n",
       "       '3', '15.5', '33', '10', '38', '47.5', '40', '25.5', '   AB',\n",
       "       '40.5', '27', '42.5', '14', '6.5', '4.5', '49.5', '31', '0', '20.5',\n",
       "       '44.5', '29.5', '34.75', '4', '15', '   MP', '45.5', '35.5', '41',\n",
       "       '32.5', '10.5', '39.5', '47', '45', '38.5', '  MP', '26', '13.5'], dtype=object)"
      ]
     },
     "execution_count": 98,
     "metadata": {},
     "output_type": "execute_result"
    }
   ],
   "source": [
    "label['external'].unique()"
   ]
  },
  {
   "cell_type": "code",
   "execution_count": 99,
   "metadata": {
    "collapsed": true
   },
   "outputs": [],
   "source": [
    "def label_fix(label):\n",
    "    if label=='   DT' or label=='   MP' or label=='   AB' or label=='  MP' or label==' MP' or label=='   DT':\n",
    "        return 0.0\n",
    "    else:\n",
    "        return float(label)# i have explictly conveted to float because features are in float"
   ]
  },
  {
   "cell_type": "code",
   "execution_count": 100,
   "metadata": {
    "collapsed": true
   },
   "outputs": [],
   "source": [
    "def feat_fix(feature):\n",
    "    if feature=='F' or feature=='I' or feature=='DT' or feature=='E' or feature=='MP' or feature=='AB':\n",
    "        return 0.0\n",
    "    else:\n",
    "        return 1.0"
   ]
  },
  {
   "cell_type": "code",
   "execution_count": 101,
   "metadata": {
    "collapsed": true
   },
   "outputs": [],
   "source": [
    "data['grade']=data['grade'].apply(feat_fix)"
   ]
  },
  {
   "cell_type": "code",
   "execution_count": 102,
   "metadata": {
    "collapsed": true
   },
   "outputs": [],
   "source": [
    "label['external']=label['external'].apply(label_fix)"
   ]
  },
  {
   "cell_type": "code",
   "execution_count": 103,
   "metadata": {},
   "outputs": [
    {
     "data": {
      "text/html": [
       "<div>\n",
       "<style>\n",
       "    .dataframe thead tr:only-child th {\n",
       "        text-align: right;\n",
       "    }\n",
       "\n",
       "    .dataframe thead th {\n",
       "        text-align: left;\n",
       "    }\n",
       "\n",
       "    .dataframe tbody tr th {\n",
       "        vertical-align: top;\n",
       "    }\n",
       "</style>\n",
       "<table border=\"1\" class=\"dataframe\">\n",
       "  <thead>\n",
       "    <tr style=\"text-align: right;\">\n",
       "      <th></th>\n",
       "      <th>external</th>\n",
       "    </tr>\n",
       "  </thead>\n",
       "  <tbody>\n",
       "    <tr>\n",
       "      <th>0</th>\n",
       "      <td>33.5</td>\n",
       "    </tr>\n",
       "    <tr>\n",
       "      <th>1</th>\n",
       "      <td>25.0</td>\n",
       "    </tr>\n",
       "    <tr>\n",
       "      <th>2</th>\n",
       "      <td>27.5</td>\n",
       "    </tr>\n",
       "    <tr>\n",
       "      <th>3</th>\n",
       "      <td>29.0</td>\n",
       "    </tr>\n",
       "    <tr>\n",
       "      <th>4</th>\n",
       "      <td>28.0</td>\n",
       "    </tr>\n",
       "  </tbody>\n",
       "</table>\n",
       "</div>"
      ],
      "text/plain": [
       "   external\n",
       "0      33.5\n",
       "1      25.0\n",
       "2      27.5\n",
       "3      29.0\n",
       "4      28.0"
      ]
     },
     "execution_count": 103,
     "metadata": {},
     "output_type": "execute_result"
    }
   ],
   "source": [
    "label.head()"
   ]
  },
  {
   "cell_type": "markdown",
   "metadata": {},
   "source": [
    "**Visualizing data**"
   ]
  },
  {
   "cell_type": "code",
   "execution_count": 104,
   "metadata": {},
   "outputs": [],
   "source": [
    "viz_df=pd.concat([marks_data['internals'], label], axis=1)"
   ]
  },
  {
   "cell_type": "code",
   "execution_count": 105,
   "metadata": {},
   "outputs": [
    {
     "data": {
      "text/html": [
       "<div>\n",
       "<style>\n",
       "    .dataframe thead tr:only-child th {\n",
       "        text-align: right;\n",
       "    }\n",
       "\n",
       "    .dataframe thead th {\n",
       "        text-align: left;\n",
       "    }\n",
       "\n",
       "    .dataframe tbody tr th {\n",
       "        vertical-align: top;\n",
       "    }\n",
       "</style>\n",
       "<table border=\"1\" class=\"dataframe\">\n",
       "  <thead>\n",
       "    <tr style=\"text-align: right;\">\n",
       "      <th></th>\n",
       "      <th>internals</th>\n",
       "      <th>external</th>\n",
       "    </tr>\n",
       "  </thead>\n",
       "  <tbody>\n",
       "    <tr>\n",
       "      <th>0</th>\n",
       "      <td>24.50</td>\n",
       "      <td>33.5</td>\n",
       "    </tr>\n",
       "    <tr>\n",
       "      <th>1</th>\n",
       "      <td>32.40</td>\n",
       "      <td>25.0</td>\n",
       "    </tr>\n",
       "    <tr>\n",
       "      <th>2</th>\n",
       "      <td>27.05</td>\n",
       "      <td>27.5</td>\n",
       "    </tr>\n",
       "    <tr>\n",
       "      <th>3</th>\n",
       "      <td>34.50</td>\n",
       "      <td>29.0</td>\n",
       "    </tr>\n",
       "    <tr>\n",
       "      <th>4</th>\n",
       "      <td>19.30</td>\n",
       "      <td>28.0</td>\n",
       "    </tr>\n",
       "  </tbody>\n",
       "</table>\n",
       "</div>"
      ],
      "text/plain": [
       "   internals  external\n",
       "0      24.50      33.5\n",
       "1      32.40      25.0\n",
       "2      27.05      27.5\n",
       "3      34.50      29.0\n",
       "4      19.30      28.0"
      ]
     },
     "execution_count": 105,
     "metadata": {},
     "output_type": "execute_result"
    }
   ],
   "source": [
    "viz_df.head()"
   ]
  },
  {
   "cell_type": "code",
   "execution_count": 106,
   "metadata": {
    "collapsed": true
   },
   "outputs": [],
   "source": [
    "import matplotlib.pyplot as plt"
   ]
  },
  {
   "cell_type": "code",
   "execution_count": 107,
   "metadata": {},
   "outputs": [
    {
     "data": {
      "image/png": "[encoded data removed]",
      "text/plain": [
       "<matplotlib.figure.Figure at 0x2d8c5f404a8>"
      ]
     },
     "metadata": {},
     "output_type": "display_data"
    }
   ],
   "source": [
    "viz_df.plot(kind='scatter', x='internals', y='external')\n",
    "plt.show()"
   ]
  },
  {
   "cell_type": "markdown",
   "metadata": {},
   "source": [
    "**Performing train test split**"
   ]
  },
  {
   "cell_type": "code",
   "execution_count": 108,
   "metadata": {
    "collapsed": true
   },
   "outputs": [],
   "source": [
    "from sklearn.model_selection import train_test_split"
   ]
  },
  {
   "cell_type": "code",
   "execution_count": 109,
   "metadata": {
    "collapsed": true
   },
   "outputs": [],
   "source": [
    "x_train, x_test, y_train, y_test= train_test_split(data, label, test_size=0.3)"
   ]
  },
  {
   "cell_type": "code",
   "execution_count": 110,
   "metadata": {},
   "outputs": [
    {
     "data": {
      "text/html": [
       "<div>\n",
       "<style>\n",
       "    .dataframe thead tr:only-child th {\n",
       "        text-align: right;\n",
       "    }\n",
       "\n",
       "    .dataframe thead th {\n",
       "        text-align: left;\n",
       "    }\n",
       "\n",
       "    .dataframe tbody tr th {\n",
       "        vertical-align: top;\n",
       "    }\n",
       "</style>\n",
       "<table border=\"1\" class=\"dataframe\">\n",
       "  <thead>\n",
       "    <tr style=\"text-align: right;\">\n",
       "      <th></th>\n",
       "      <th>internals</th>\n",
       "      <th>grade</th>\n",
       "    </tr>\n",
       "  </thead>\n",
       "  <tbody>\n",
       "    <tr>\n",
       "      <th>127</th>\n",
       "      <td>11.40</td>\n",
       "      <td>0.0</td>\n",
       "    </tr>\n",
       "    <tr>\n",
       "      <th>109</th>\n",
       "      <td>25.40</td>\n",
       "      <td>1.0</td>\n",
       "    </tr>\n",
       "    <tr>\n",
       "      <th>106</th>\n",
       "      <td>31.40</td>\n",
       "      <td>1.0</td>\n",
       "    </tr>\n",
       "    <tr>\n",
       "      <th>67</th>\n",
       "      <td>36.15</td>\n",
       "      <td>1.0</td>\n",
       "    </tr>\n",
       "    <tr>\n",
       "      <th>92</th>\n",
       "      <td>0.00</td>\n",
       "      <td>0.0</td>\n",
       "    </tr>\n",
       "  </tbody>\n",
       "</table>\n",
       "</div>"
      ],
      "text/plain": [
       "     internals  grade\n",
       "127      11.40    0.0\n",
       "109      25.40    1.0\n",
       "106      31.40    1.0\n",
       "67       36.15    1.0\n",
       "92        0.00    0.0"
      ]
     },
     "execution_count": 110,
     "metadata": {},
     "output_type": "execute_result"
    }
   ],
   "source": [
    "x_train.head()"
   ]
  },
  {
   "cell_type": "code",
   "execution_count": 111,
   "metadata": {},
   "outputs": [
    {
     "data": {
      "text/plain": [
       "Index(['internals', 'grade'], dtype='object')"
      ]
     },
     "execution_count": 111,
     "metadata": {},
     "output_type": "execute_result"
    }
   ],
   "source": [
    "x_train.columns"
   ]
  },
  {
   "cell_type": "markdown",
   "metadata": {},
   "source": [
    "**Creating Feature Columns**"
   ]
  },
  {
   "cell_type": "code",
   "execution_count": 112,
   "metadata": {
    "collapsed": true
   },
   "outputs": [],
   "source": [
    "import tensorflow as tf"
   ]
  },
  {
   "cell_type": "code",
   "execution_count": 113,
   "metadata": {
    "collapsed": true
   },
   "outputs": [],
   "source": [
    "# see here both label data-type and feature data-type must match"
   ]
  },
  {
   "cell_type": "code",
   "execution_count": 114,
   "metadata": {},
   "outputs": [
    {
     "name": "stdout",
     "output_type": "stream",
     "text": [
      "<class 'pandas.core.frame.DataFrame'>\n",
      "Int64Index: 159 entries, 127 to 203\n",
      "Data columns (total 2 columns):\n",
      "internals    159 non-null float64\n",
      "grade        159 non-null float64\n",
      "dtypes: float64(2)\n",
      "memory usage: 3.7 KB\n"
     ]
    }
   ],
   "source": [
    "x_train.info()"
   ]
  },
  {
   "cell_type": "code",
   "execution_count": 115,
   "metadata": {},
   "outputs": [
    {
     "name": "stdout",
     "output_type": "stream",
     "text": [
      "<class 'pandas.core.frame.DataFrame'>\n",
      "Int64Index: 69 entries, 171 to 86\n",
      "Data columns (total 1 columns):\n",
      "external    69 non-null float64\n",
      "dtypes: float64(1)\n",
      "memory usage: 1.1 KB\n"
     ]
    }
   ],
   "source": [
    "y_test.info()"
   ]
  },
  {
   "cell_type": "code",
   "execution_count": 116,
   "metadata": {
    "collapsed": true
   },
   "outputs": [],
   "source": [
    "feat_internals=tf.feature_column.numeric_column('internals', shape=1)"
   ]
  },
  {
   "cell_type": "code",
   "execution_count": 117,
   "metadata": {
    "collapsed": true
   },
   "outputs": [],
   "source": [
    "feat_grade=tf.feature_column.numeric_column('grade', shape=1)"
   ]
  },
  {
   "cell_type": "markdown",
   "metadata": {},
   "source": [
    "**Creating embedded cols for DNN_R**(in case if used)"
   ]
  },
  {
   "cell_type": "markdown",
   "metadata": {},
   "source": [
    "embed_grade=tf.feature_column.embedding_column(feat_grade, dimension=1)"
   ]
  },
  {
   "cell_type": "code",
   "execution_count": 118,
   "metadata": {
    "collapsed": true
   },
   "outputs": [],
   "source": [
    "feat_cols=[feat_grade, feat_internals]"
   ]
  },
  {
   "cell_type": "code",
   "execution_count": 119,
   "metadata": {},
   "outputs": [
    {
     "name": "stdout",
     "output_type": "stream",
     "text": [
      "INFO:tensorflow:Using default config.\n",
      "WARNING:tensorflow:Using temporary folder as model directory: C:\\Users\\Brothers\\AppData\\Local\\Temp\\tmpfwhvp9ko\n",
      "INFO:tensorflow:Using config: {'_save_checkpoints_steps': None, '_log_step_count_steps': 100, '_keep_checkpoint_max': 5, '_model_dir': 'C:\\\\Users\\\\Brothers\\\\AppData\\\\Local\\\\Temp\\\\tmpfwhvp9ko', '_tf_random_seed': 1, '_keep_checkpoint_every_n_hours': 10000, '_session_config': None, '_save_checkpoints_secs': 600, '_save_summary_steps': 100}\n"
     ]
    }
   ],
   "source": [
    "model=tf.estimator.LinearRegressor(feat_cols)"
   ]
  },
  {
   "cell_type": "code",
   "execution_count": 120,
   "metadata": {
    "collapsed": true
   },
   "outputs": [],
   "source": [
    "train_input_fn=tf.estimator.inputs.pandas_input_fn(x_train, y_train, num_epochs=2000, shuffle=True, batch_size=10)"
   ]
  },
  {
   "cell_type": "code",
   "execution_count": 121,
   "metadata": {
    "collapsed": true
   },
   "outputs": [],
   "source": [
    "eval_input_fn=tf.estimator.inputs.pandas_input_fn(x_test, y_test, shuffle=False, num_epochs=1, batch_size=10)"
   ]
  },
  {
   "cell_type": "code",
   "execution_count": 122,
   "metadata": {},
   "outputs": [
    {
     "name": "stdout",
     "output_type": "stream",
     "text": [
      "INFO:tensorflow:Create CheckpointSaverHook.\n",
      "INFO:tensorflow:Saving checkpoints for 1 into C:\\Users\\Brothers\\AppData\\Local\\Temp\\tmpfwhvp9ko\\model.ckpt.\n",
      "INFO:tensorflow:step = 1, loss = 6721.75\n",
      "INFO:tensorflow:global_step/sec: 280.134\n",
      "INFO:tensorflow:step = 101, loss = 383.217 (0.372 sec)\n",
      "INFO:tensorflow:global_step/sec: 349.671\n",
      "INFO:tensorflow:step = 201, loss = 276.311 (0.283 sec)\n",
      "INFO:tensorflow:global_step/sec: 374.541\n",
      "INFO:tensorflow:step = 301, loss = 506.437 (0.268 sec)\n",
      "INFO:tensorflow:global_step/sec: 190.852\n",
      "INFO:tensorflow:step = 401, loss = 210.805 (0.526 sec)\n",
      "INFO:tensorflow:global_step/sec: 190.122\n",
      "INFO:tensorflow:step = 501, loss = 87.1525 (0.526 sec)\n",
      "INFO:tensorflow:global_step/sec: 184.515\n",
      "INFO:tensorflow:step = 601, loss = 260.463 (0.544 sec)\n",
      "INFO:tensorflow:global_step/sec: 367.602\n",
      "INFO:tensorflow:step = 701, loss = 228.299 (0.267 sec)\n",
      "INFO:tensorflow:global_step/sec: 348.508\n",
      "INFO:tensorflow:step = 801, loss = 191.527 (0.278 sec)\n",
      "INFO:tensorflow:global_step/sec: 355.834\n",
      "INFO:tensorflow:step = 901, loss = 182.192 (0.281 sec)\n",
      "INFO:tensorflow:global_step/sec: 365.043\n",
      "INFO:tensorflow:step = 1001, loss = 567.594 (0.274 sec)\n",
      "INFO:tensorflow:global_step/sec: 204.51\n",
      "INFO:tensorflow:step = 1101, loss = 300.222 (0.502 sec)\n",
      "INFO:tensorflow:global_step/sec: 207.051\n",
      "INFO:tensorflow:step = 1201, loss = 246.25 (0.482 sec)\n",
      "INFO:tensorflow:global_step/sec: 266.678\n",
      "INFO:tensorflow:step = 1301, loss = 334.884 (0.372 sec)\n",
      "INFO:tensorflow:global_step/sec: 409.863\n",
      "INFO:tensorflow:step = 1401, loss = 266.558 (0.244 sec)\n",
      "INFO:tensorflow:global_step/sec: 257.084\n",
      "INFO:tensorflow:step = 1501, loss = 366.605 (0.385 sec)\n",
      "INFO:tensorflow:global_step/sec: 309.608\n",
      "INFO:tensorflow:step = 1601, loss = 261.558 (0.327 sec)\n",
      "INFO:tensorflow:global_step/sec: 254.468\n",
      "INFO:tensorflow:step = 1701, loss = 462.87 (0.399 sec)\n",
      "INFO:tensorflow:global_step/sec: 248.773\n",
      "INFO:tensorflow:step = 1801, loss = 523.579 (0.393 sec)\n",
      "INFO:tensorflow:global_step/sec: 386.116\n",
      "INFO:tensorflow:step = 1901, loss = 207.747 (0.263 sec)\n",
      "INFO:tensorflow:Saving checkpoints for 2000 into C:\\Users\\Brothers\\AppData\\Local\\Temp\\tmpfwhvp9ko\\model.ckpt.\n",
      "INFO:tensorflow:Loss for final step: 311.868.\n"
     ]
    },
    {
     "data": {
      "text/plain": [
       "<tensorflow.python.estimator.canned.linear.LinearRegressor at 0x2d8c7f56e10>"
      ]
     },
     "execution_count": 122,
     "metadata": {},
     "output_type": "execute_result"
    }
   ],
   "source": [
    "model.train(input_fn=train_input_fn, steps=2000)"
   ]
  },
  {
   "cell_type": "code",
   "execution_count": 123,
   "metadata": {},
   "outputs": [
    {
     "name": "stdout",
     "output_type": "stream",
     "text": [
      "INFO:tensorflow:Starting evaluation at 2019-04-30-23:38:27\n",
      "INFO:tensorflow:Restoring parameters from C:\\Users\\Brothers\\AppData\\Local\\Temp\\tmpfwhvp9ko\\model.ckpt-2000\n",
      "INFO:tensorflow:Finished evaluation at 2019-04-30-23:38:28\n",
      "INFO:tensorflow:Saving dict for global step 2000: average_loss = 41.4703, global_step = 2000, loss = 408.778\n"
     ]
    },
    {
     "data": {
      "text/plain": [
       "{'average_loss': 41.47028, 'global_step': 2000, 'loss': 408.77847}"
      ]
     },
     "execution_count": 123,
     "metadata": {},
     "output_type": "execute_result"
    }
   ],
   "source": [
    "model.evaluate(eval_input_fn)"
   ]
  },
  {
   "cell_type": "markdown",
   "metadata": {},
   "source": [
    "**TEST DATA**"
   ]
  },
  {
   "cell_type": "code",
   "execution_count": 124,
   "metadata": {
    "collapsed": true
   },
   "outputs": [],
   "source": [
    "test_data=pd.read_csv('C:\\\\Users\\\\Brothers\\\\Desktop\\\\2018 c.csv')"
   ]
  },
  {
   "cell_type": "code",
   "execution_count": 125,
   "metadata": {
    "collapsed": true
   },
   "outputs": [],
   "source": [
    "test_data['internals'].unique();"
   ]
  },
  {
   "cell_type": "code",
   "execution_count": 126,
   "metadata": {
    "collapsed": true
   },
   "outputs": [],
   "source": [
    "def test_grade_fix(feature):\n",
    "    if feature=='F' or feature=='I' or feature=='DT' or feature=='E' or feature=='MP' or feature=='AB':\n",
    "        return 0.0\n",
    "    else:\n",
    "        return 1.0"
   ]
  },
  {
   "cell_type": "code",
   "execution_count": 127,
   "metadata": {
    "collapsed": true
   },
   "outputs": [],
   "source": [
    "test_data['grade']=test_data['grade'].apply(test_grade_fix)"
   ]
  },
  {
   "cell_type": "code",
   "execution_count": 128,
   "metadata": {
    "collapsed": true
   },
   "outputs": [],
   "source": [
    "pred_fn=tf.estimator.inputs.pandas_input_fn(test_data,batch_size=10, shuffle=False)"
   ]
  },
  {
   "cell_type": "code",
   "execution_count": 129,
   "metadata": {
    "collapsed": true
   },
   "outputs": [],
   "source": [
    "result=model.predict(pred_fn)"
   ]
  },
  {
   "cell_type": "code",
   "execution_count": 130,
   "metadata": {},
   "outputs": [
    {
     "name": "stdout",
     "output_type": "stream",
     "text": [
      "INFO:tensorflow:Restoring parameters from C:\\Users\\Brothers\\AppData\\Local\\Temp\\tmpfwhvp9ko\\model.ckpt-2000\n"
     ]
    }
   ],
   "source": [
    "predicted=[]\n",
    "for pred in result:\n",
    "    predicted.append(pred['predictions'])"
   ]
  },
  {
   "cell_type": "code",
   "execution_count": 159,
   "metadata": {},
   "outputs": [],
   "source": [
    "df=pd.DataFrame(predicted)"
   ]
  },
  {
   "cell_type": "code",
   "execution_count": 160,
   "metadata": {},
   "outputs": [
    {
     "data": {
      "text/plain": [
       "(246, 1)"
      ]
     },
     "execution_count": 160,
     "metadata": {},
     "output_type": "execute_result"
    }
   ],
   "source": [
    "df.shape"
   ]
  },
  {
   "cell_type": "code",
   "execution_count": 161,
   "metadata": {},
   "outputs": [],
   "source": [
    "viz_df=pd.concat([test_data['internals'], df], axis=1)"
   ]
  },
  {
   "cell_type": "code",
   "execution_count": 162,
   "metadata": {},
   "outputs": [
    {
     "data": {
      "text/html": [
       "<div>\n",
       "<style>\n",
       "    .dataframe thead tr:only-child th {\n",
       "        text-align: right;\n",
       "    }\n",
       "\n",
       "    .dataframe thead th {\n",
       "        text-align: left;\n",
       "    }\n",
       "\n",
       "    .dataframe tbody tr th {\n",
       "        vertical-align: top;\n",
       "    }\n",
       "</style>\n",
       "<table border=\"1\" class=\"dataframe\">\n",
       "  <thead>\n",
       "    <tr style=\"text-align: right;\">\n",
       "      <th></th>\n",
       "      <th>internals</th>\n",
       "      <th>0</th>\n",
       "    </tr>\n",
       "  </thead>\n",
       "  <tbody>\n",
       "    <tr>\n",
       "      <th>0</th>\n",
       "      <td>25.55</td>\n",
       "      <td>26.691408</td>\n",
       "    </tr>\n",
       "    <tr>\n",
       "      <th>1</th>\n",
       "      <td>22.80</td>\n",
       "      <td>24.262648</td>\n",
       "    </tr>\n",
       "    <tr>\n",
       "      <th>2</th>\n",
       "      <td>20.45</td>\n",
       "      <td>22.187162</td>\n",
       "    </tr>\n",
       "    <tr>\n",
       "      <th>3</th>\n",
       "      <td>23.30</td>\n",
       "      <td>24.704241</td>\n",
       "    </tr>\n",
       "    <tr>\n",
       "      <th>4</th>\n",
       "      <td>26.15</td>\n",
       "      <td>27.221319</td>\n",
       "    </tr>\n",
       "    <tr>\n",
       "      <th>5</th>\n",
       "      <td>11.60</td>\n",
       "      <td>10.222006</td>\n",
       "    </tr>\n",
       "    <tr>\n",
       "      <th>6</th>\n",
       "      <td>39.00</td>\n",
       "      <td>38.570251</td>\n",
       "    </tr>\n",
       "    <tr>\n",
       "      <th>7</th>\n",
       "      <td>30.05</td>\n",
       "      <td>30.665745</td>\n",
       "    </tr>\n",
       "    <tr>\n",
       "      <th>8</th>\n",
       "      <td>25.70</td>\n",
       "      <td>26.823887</td>\n",
       "    </tr>\n",
       "    <tr>\n",
       "      <th>9</th>\n",
       "      <td>20.30</td>\n",
       "      <td>17.905722</td>\n",
       "    </tr>\n",
       "    <tr>\n",
       "      <th>10</th>\n",
       "      <td>39.35</td>\n",
       "      <td>38.879372</td>\n",
       "    </tr>\n",
       "    <tr>\n",
       "      <th>11</th>\n",
       "      <td>17.75</td>\n",
       "      <td>15.653598</td>\n",
       "    </tr>\n",
       "    <tr>\n",
       "      <th>12</th>\n",
       "      <td>26.60</td>\n",
       "      <td>27.618753</td>\n",
       "    </tr>\n",
       "    <tr>\n",
       "      <th>13</th>\n",
       "      <td>29.75</td>\n",
       "      <td>30.400789</td>\n",
       "    </tr>\n",
       "    <tr>\n",
       "      <th>14</th>\n",
       "      <td>25.45</td>\n",
       "      <td>26.603090</td>\n",
       "    </tr>\n",
       "    <tr>\n",
       "      <th>15</th>\n",
       "      <td>12.35</td>\n",
       "      <td>10.884396</td>\n",
       "    </tr>\n",
       "    <tr>\n",
       "      <th>16</th>\n",
       "      <td>28.10</td>\n",
       "      <td>28.943533</td>\n",
       "    </tr>\n",
       "    <tr>\n",
       "      <th>17</th>\n",
       "      <td>38.70</td>\n",
       "      <td>38.305298</td>\n",
       "    </tr>\n",
       "    <tr>\n",
       "      <th>18</th>\n",
       "      <td>21.70</td>\n",
       "      <td>23.291145</td>\n",
       "    </tr>\n",
       "    <tr>\n",
       "      <th>19</th>\n",
       "      <td>19.20</td>\n",
       "      <td>16.934219</td>\n",
       "    </tr>\n",
       "    <tr>\n",
       "      <th>20</th>\n",
       "      <td>14.50</td>\n",
       "      <td>12.783244</td>\n",
       "    </tr>\n",
       "    <tr>\n",
       "      <th>21</th>\n",
       "      <td>21.00</td>\n",
       "      <td>18.523952</td>\n",
       "    </tr>\n",
       "    <tr>\n",
       "      <th>22</th>\n",
       "      <td>41.85</td>\n",
       "      <td>41.087334</td>\n",
       "    </tr>\n",
       "    <tr>\n",
       "      <th>23</th>\n",
       "      <td>40.95</td>\n",
       "      <td>40.292465</td>\n",
       "    </tr>\n",
       "    <tr>\n",
       "      <th>24</th>\n",
       "      <td>25.70</td>\n",
       "      <td>26.823887</td>\n",
       "    </tr>\n",
       "    <tr>\n",
       "      <th>25</th>\n",
       "      <td>18.25</td>\n",
       "      <td>16.095192</td>\n",
       "    </tr>\n",
       "    <tr>\n",
       "      <th>26</th>\n",
       "      <td>17.75</td>\n",
       "      <td>15.653598</td>\n",
       "    </tr>\n",
       "    <tr>\n",
       "      <th>27</th>\n",
       "      <td>14.90</td>\n",
       "      <td>13.136518</td>\n",
       "    </tr>\n",
       "    <tr>\n",
       "      <th>28</th>\n",
       "      <td>16.90</td>\n",
       "      <td>14.902889</td>\n",
       "    </tr>\n",
       "    <tr>\n",
       "      <th>29</th>\n",
       "      <td>28.60</td>\n",
       "      <td>29.385126</td>\n",
       "    </tr>\n",
       "    <tr>\n",
       "      <th>...</th>\n",
       "      <td>...</td>\n",
       "      <td>...</td>\n",
       "    </tr>\n",
       "    <tr>\n",
       "      <th>216</th>\n",
       "      <td>34.70</td>\n",
       "      <td>34.772556</td>\n",
       "    </tr>\n",
       "    <tr>\n",
       "      <th>217</th>\n",
       "      <td>22.95</td>\n",
       "      <td>24.395126</td>\n",
       "    </tr>\n",
       "    <tr>\n",
       "      <th>218</th>\n",
       "      <td>38.75</td>\n",
       "      <td>38.349457</td>\n",
       "    </tr>\n",
       "    <tr>\n",
       "      <th>219</th>\n",
       "      <td>23.20</td>\n",
       "      <td>20.466961</td>\n",
       "    </tr>\n",
       "    <tr>\n",
       "      <th>220</th>\n",
       "      <td>33.45</td>\n",
       "      <td>33.668575</td>\n",
       "    </tr>\n",
       "    <tr>\n",
       "      <th>221</th>\n",
       "      <td>36.55</td>\n",
       "      <td>36.406448</td>\n",
       "    </tr>\n",
       "    <tr>\n",
       "      <th>222</th>\n",
       "      <td>13.75</td>\n",
       "      <td>12.120855</td>\n",
       "    </tr>\n",
       "    <tr>\n",
       "      <th>223</th>\n",
       "      <td>39.45</td>\n",
       "      <td>38.967690</td>\n",
       "    </tr>\n",
       "    <tr>\n",
       "      <th>224</th>\n",
       "      <td>14.70</td>\n",
       "      <td>12.959881</td>\n",
       "    </tr>\n",
       "    <tr>\n",
       "      <th>225</th>\n",
       "      <td>14.95</td>\n",
       "      <td>13.180677</td>\n",
       "    </tr>\n",
       "    <tr>\n",
       "      <th>226</th>\n",
       "      <td>24.20</td>\n",
       "      <td>21.350147</td>\n",
       "    </tr>\n",
       "    <tr>\n",
       "      <th>227</th>\n",
       "      <td>18.60</td>\n",
       "      <td>16.404306</td>\n",
       "    </tr>\n",
       "    <tr>\n",
       "      <th>228</th>\n",
       "      <td>0.00</td>\n",
       "      <td>-0.022948</td>\n",
       "    </tr>\n",
       "    <tr>\n",
       "      <th>229</th>\n",
       "      <td>11.70</td>\n",
       "      <td>10.310324</td>\n",
       "    </tr>\n",
       "    <tr>\n",
       "      <th>230</th>\n",
       "      <td>18.35</td>\n",
       "      <td>16.183510</td>\n",
       "    </tr>\n",
       "    <tr>\n",
       "      <th>231</th>\n",
       "      <td>17.30</td>\n",
       "      <td>15.256164</td>\n",
       "    </tr>\n",
       "    <tr>\n",
       "      <th>232</th>\n",
       "      <td>5.05</td>\n",
       "      <td>4.437140</td>\n",
       "    </tr>\n",
       "    <tr>\n",
       "      <th>233</th>\n",
       "      <td>19.90</td>\n",
       "      <td>17.552448</td>\n",
       "    </tr>\n",
       "    <tr>\n",
       "      <th>234</th>\n",
       "      <td>0.00</td>\n",
       "      <td>-0.022948</td>\n",
       "    </tr>\n",
       "    <tr>\n",
       "      <th>235</th>\n",
       "      <td>4.75</td>\n",
       "      <td>4.172184</td>\n",
       "    </tr>\n",
       "    <tr>\n",
       "      <th>236</th>\n",
       "      <td>9.15</td>\n",
       "      <td>8.058201</td>\n",
       "    </tr>\n",
       "    <tr>\n",
       "      <th>237</th>\n",
       "      <td>11.90</td>\n",
       "      <td>10.486961</td>\n",
       "    </tr>\n",
       "    <tr>\n",
       "      <th>238</th>\n",
       "      <td>4.20</td>\n",
       "      <td>3.686432</td>\n",
       "    </tr>\n",
       "    <tr>\n",
       "      <th>239</th>\n",
       "      <td>0.00</td>\n",
       "      <td>-0.022948</td>\n",
       "    </tr>\n",
       "    <tr>\n",
       "      <th>240</th>\n",
       "      <td>0.00</td>\n",
       "      <td>-0.022948</td>\n",
       "    </tr>\n",
       "    <tr>\n",
       "      <th>241</th>\n",
       "      <td>0.00</td>\n",
       "      <td>-0.022948</td>\n",
       "    </tr>\n",
       "    <tr>\n",
       "      <th>242</th>\n",
       "      <td>14.95</td>\n",
       "      <td>13.180677</td>\n",
       "    </tr>\n",
       "    <tr>\n",
       "      <th>243</th>\n",
       "      <td>12.05</td>\n",
       "      <td>10.619439</td>\n",
       "    </tr>\n",
       "    <tr>\n",
       "      <th>244</th>\n",
       "      <td>23.70</td>\n",
       "      <td>25.057516</td>\n",
       "    </tr>\n",
       "    <tr>\n",
       "      <th>245</th>\n",
       "      <td>10.80</td>\n",
       "      <td>9.515457</td>\n",
       "    </tr>\n",
       "  </tbody>\n",
       "</table>\n",
       "<p>246 rows × 2 columns</p>\n",
       "</div>"
      ],
      "text/plain": [
       "     internals          0\n",
       "0        25.55  26.691408\n",
       "1        22.80  24.262648\n",
       "2        20.45  22.187162\n",
       "3        23.30  24.704241\n",
       "4        26.15  27.221319\n",
       "5        11.60  10.222006\n",
       "6        39.00  38.570251\n",
       "7        30.05  30.665745\n",
       "8        25.70  26.823887\n",
       "9        20.30  17.905722\n",
       "10       39.35  38.879372\n",
       "11       17.75  15.653598\n",
       "12       26.60  27.618753\n",
       "13       29.75  30.400789\n",
       "14       25.45  26.603090\n",
       "15       12.35  10.884396\n",
       "16       28.10  28.943533\n",
       "17       38.70  38.305298\n",
       "18       21.70  23.291145\n",
       "19       19.20  16.934219\n",
       "20       14.50  12.783244\n",
       "21       21.00  18.523952\n",
       "22       41.85  41.087334\n",
       "23       40.95  40.292465\n",
       "24       25.70  26.823887\n",
       "25       18.25  16.095192\n",
       "26       17.75  15.653598\n",
       "27       14.90  13.136518\n",
       "28       16.90  14.902889\n",
       "29       28.60  29.385126\n",
       "..         ...        ...\n",
       "216      34.70  34.772556\n",
       "217      22.95  24.395126\n",
       "218      38.75  38.349457\n",
       "219      23.20  20.466961\n",
       "220      33.45  33.668575\n",
       "221      36.55  36.406448\n",
       "222      13.75  12.120855\n",
       "223      39.45  38.967690\n",
       "224      14.70  12.959881\n",
       "225      14.95  13.180677\n",
       "226      24.20  21.350147\n",
       "227      18.60  16.404306\n",
       "228       0.00  -0.022948\n",
       "229      11.70  10.310324\n",
       "230      18.35  16.183510\n",
       "231      17.30  15.256164\n",
       "232       5.05   4.437140\n",
       "233      19.90  17.552448\n",
       "234       0.00  -0.022948\n",
       "235       4.75   4.172184\n",
       "236       9.15   8.058201\n",
       "237      11.90  10.486961\n",
       "238       4.20   3.686432\n",
       "239       0.00  -0.022948\n",
       "240       0.00  -0.022948\n",
       "241       0.00  -0.022948\n",
       "242      14.95  13.180677\n",
       "243      12.05  10.619439\n",
       "244      23.70  25.057516\n",
       "245      10.80   9.515457\n",
       "\n",
       "[246 rows x 2 columns]"
      ]
     },
     "execution_count": 162,
     "metadata": {},
     "output_type": "execute_result"
    }
   ],
   "source": [
    "viz_df"
   ]
  },
  {
   "cell_type": "code",
   "execution_count": 168,
   "metadata": {},
   "outputs": [
    {
     "data": {
      "image/png": "[encoded data removed]",
      "text/plain": [
       "<matplotlib.figure.Figure at 0x2d8ca6d9320>"
      ]
     },
     "metadata": {},
     "output_type": "display_data"
    }
   ],
   "source": [
    "viz_df.sample(50).plot(kind='scatter', x='internals', y=0)\n",
    "plt.show()"
   ]
  },
  {
   "cell_type": "code",
   "execution_count": null,
   "metadata": {
    "collapsed": true
   },
   "outputs": [],
   "source": []
  }
 ],
 "metadata": {
  "kernelspec": {
   "display_name": "Python 3",
   "language": "python",
   "name": "python3"
  },
  "language_info": {
   "codemirror_mode": {
    "name": "ipython",
    "version": 3
   },
   "file_extension": ".py",
   "mimetype": "text/x-python",
   "name": "python",
   "nbconvert_exporter": "python",
   "pygments_lexer": "ipython3",
   "version": "3.5.4"
  }
 },
 "nbformat": 4,
 "nbformat_minor": 2
}
