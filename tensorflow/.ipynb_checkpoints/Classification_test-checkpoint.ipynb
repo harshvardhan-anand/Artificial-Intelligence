{
 "cells": [
  {
   "cell_type": "markdown",
   "metadata": {
    "collapsed": true
   },
   "source": [
    "**Reading datas**"
   ]
  },
  {
   "cell_type": "code",
   "execution_count": 69,
   "metadata": {
    "collapsed": true
   },
   "outputs": [],
   "source": [
    "import pandas as pd"
   ]
  },
  {
   "cell_type": "code",
   "execution_count": 70,
   "metadata": {
    "collapsed": true
   },
   "outputs": [],
   "source": [
    "my_data=pd.read_csv(\"C:\\\\Users\\\\Brothers\\\\Desktop\\\\Tensorflow-Bootcamp-master\\\\02-TensorFlow-Basics\\\\census_data.csv\")"
   ]
  },
  {
   "cell_type": "code",
   "execution_count": 71,
   "metadata": {},
   "outputs": [
    {
     "data": {
      "text/html": [
       "<div>\n",
       "<style>\n",
       "    .dataframe thead tr:only-child th {\n",
       "        text-align: right;\n",
       "    }\n",
       "\n",
       "    .dataframe thead th {\n",
       "        text-align: left;\n",
       "    }\n",
       "\n",
       "    .dataframe tbody tr th {\n",
       "        vertical-align: top;\n",
       "    }\n",
       "</style>\n",
       "<table border=\"1\" class=\"dataframe\">\n",
       "  <thead>\n",
       "    <tr style=\"text-align: right;\">\n",
       "      <th></th>\n",
       "      <th>age</th>\n",
       "      <th>workclass</th>\n",
       "      <th>education</th>\n",
       "      <th>education_num</th>\n",
       "      <th>marital_status</th>\n",
       "      <th>occupation</th>\n",
       "      <th>relationship</th>\n",
       "      <th>race</th>\n",
       "      <th>gender</th>\n",
       "      <th>capital_gain</th>\n",
       "      <th>capital_loss</th>\n",
       "      <th>hours_per_week</th>\n",
       "      <th>native_country</th>\n",
       "      <th>income_bracket</th>\n",
       "    </tr>\n",
       "  </thead>\n",
       "  <tbody>\n",
       "    <tr>\n",
       "      <th>0</th>\n",
       "      <td>39</td>\n",
       "      <td>State-gov</td>\n",
       "      <td>Bachelors</td>\n",
       "      <td>13</td>\n",
       "      <td>Never-married</td>\n",
       "      <td>Adm-clerical</td>\n",
       "      <td>Not-in-family</td>\n",
       "      <td>White</td>\n",
       "      <td>Male</td>\n",
       "      <td>2174</td>\n",
       "      <td>0</td>\n",
       "      <td>40</td>\n",
       "      <td>United-States</td>\n",
       "      <td>&lt;=50K</td>\n",
       "    </tr>\n",
       "    <tr>\n",
       "      <th>1</th>\n",
       "      <td>50</td>\n",
       "      <td>Self-emp-not-inc</td>\n",
       "      <td>Bachelors</td>\n",
       "      <td>13</td>\n",
       "      <td>Married-civ-spouse</td>\n",
       "      <td>Exec-managerial</td>\n",
       "      <td>Husband</td>\n",
       "      <td>White</td>\n",
       "      <td>Male</td>\n",
       "      <td>0</td>\n",
       "      <td>0</td>\n",
       "      <td>13</td>\n",
       "      <td>United-States</td>\n",
       "      <td>&lt;=50K</td>\n",
       "    </tr>\n",
       "    <tr>\n",
       "      <th>2</th>\n",
       "      <td>38</td>\n",
       "      <td>Private</td>\n",
       "      <td>HS-grad</td>\n",
       "      <td>9</td>\n",
       "      <td>Divorced</td>\n",
       "      <td>Handlers-cleaners</td>\n",
       "      <td>Not-in-family</td>\n",
       "      <td>White</td>\n",
       "      <td>Male</td>\n",
       "      <td>0</td>\n",
       "      <td>0</td>\n",
       "      <td>40</td>\n",
       "      <td>United-States</td>\n",
       "      <td>&lt;=50K</td>\n",
       "    </tr>\n",
       "    <tr>\n",
       "      <th>3</th>\n",
       "      <td>53</td>\n",
       "      <td>Private</td>\n",
       "      <td>11th</td>\n",
       "      <td>7</td>\n",
       "      <td>Married-civ-spouse</td>\n",
       "      <td>Handlers-cleaners</td>\n",
       "      <td>Husband</td>\n",
       "      <td>Black</td>\n",
       "      <td>Male</td>\n",
       "      <td>0</td>\n",
       "      <td>0</td>\n",
       "      <td>40</td>\n",
       "      <td>United-States</td>\n",
       "      <td>&lt;=50K</td>\n",
       "    </tr>\n",
       "    <tr>\n",
       "      <th>4</th>\n",
       "      <td>28</td>\n",
       "      <td>Private</td>\n",
       "      <td>Bachelors</td>\n",
       "      <td>13</td>\n",
       "      <td>Married-civ-spouse</td>\n",
       "      <td>Prof-specialty</td>\n",
       "      <td>Wife</td>\n",
       "      <td>Black</td>\n",
       "      <td>Female</td>\n",
       "      <td>0</td>\n",
       "      <td>0</td>\n",
       "      <td>40</td>\n",
       "      <td>Cuba</td>\n",
       "      <td>&lt;=50K</td>\n",
       "    </tr>\n",
       "  </tbody>\n",
       "</table>\n",
       "</div>"
      ],
      "text/plain": [
       "   age          workclass   education  education_num       marital_status  \\\n",
       "0   39          State-gov   Bachelors             13        Never-married   \n",
       "1   50   Self-emp-not-inc   Bachelors             13   Married-civ-spouse   \n",
       "2   38            Private     HS-grad              9             Divorced   \n",
       "3   53            Private        11th              7   Married-civ-spouse   \n",
       "4   28            Private   Bachelors             13   Married-civ-spouse   \n",
       "\n",
       "           occupation    relationship    race   gender  capital_gain  \\\n",
       "0        Adm-clerical   Not-in-family   White     Male          2174   \n",
       "1     Exec-managerial         Husband   White     Male             0   \n",
       "2   Handlers-cleaners   Not-in-family   White     Male             0   \n",
       "3   Handlers-cleaners         Husband   Black     Male             0   \n",
       "4      Prof-specialty            Wife   Black   Female             0   \n",
       "\n",
       "   capital_loss  hours_per_week  native_country income_bracket  \n",
       "0             0              40   United-States          <=50K  \n",
       "1             0              13   United-States          <=50K  \n",
       "2             0              40   United-States          <=50K  \n",
       "3             0              40   United-States          <=50K  \n",
       "4             0              40            Cuba          <=50K  "
      ]
     },
     "execution_count": 71,
     "metadata": {},
     "output_type": "execute_result"
    }
   ],
   "source": [
    "my_data.head()"
   ]
  },
  {
   "cell_type": "code",
   "execution_count": 72,
   "metadata": {},
   "outputs": [
    {
     "data": {
      "text/plain": [
       "array([' <=50K', ' >50K'], dtype=object)"
      ]
     },
     "execution_count": 72,
     "metadata": {},
     "output_type": "execute_result"
    }
   ],
   "source": [
    "my_data['income_bracket'].unique()"
   ]
  },
  {
   "cell_type": "code",
   "execution_count": 73,
   "metadata": {
    "collapsed": true
   },
   "outputs": [],
   "source": [
    "def label_fix(label):\n",
    "    if label==' <=50K':\n",
    "        return 0\n",
    "    else:\n",
    "        return 1"
   ]
  },
  {
   "cell_type": "code",
   "execution_count": 74,
   "metadata": {
    "collapsed": true
   },
   "outputs": [],
   "source": [
    "my_data['income_bracket']=my_data['income_bracket'].apply(label_fix);"
   ]
  },
  {
   "cell_type": "markdown",
   "metadata": {},
   "source": [
    "**Training data**"
   ]
  },
  {
   "cell_type": "code",
   "execution_count": 75,
   "metadata": {},
   "outputs": [],
   "source": [
    "census=my_data.drop('income_bracket', axis=1)"
   ]
  },
  {
   "cell_type": "markdown",
   "metadata": {},
   "source": [
    "**Labels**"
   ]
  },
  {
   "cell_type": "code",
   "execution_count": 76,
   "metadata": {
    "collapsed": true
   },
   "outputs": [],
   "source": [
    "label=my_data['income_bracket']"
   ]
  },
  {
   "cell_type": "markdown",
   "metadata": {},
   "source": [
    "**Initiating train test split**"
   ]
  },
  {
   "cell_type": "code",
   "execution_count": 77,
   "metadata": {
    "collapsed": true
   },
   "outputs": [],
   "source": [
    "from sklearn.model_selection import train_test_split"
   ]
  },
  {
   "cell_type": "code",
   "execution_count": 78,
   "metadata": {
    "collapsed": true
   },
   "outputs": [],
   "source": [
    "x_train, x_test, y_train, y_test=train_test_split(census, label, test_size=0.3)"
   ]
  },
  {
   "cell_type": "code",
   "execution_count": 79,
   "metadata": {
    "collapsed": true
   },
   "outputs": [],
   "source": [
    "cols=census.columns"
   ]
  },
  {
   "cell_type": "code",
   "execution_count": 80,
   "metadata": {},
   "outputs": [
    {
     "data": {
      "text/plain": [
       "Index(['age', 'workclass', 'education', 'education_num', 'marital_status',\n",
       "       'occupation', 'relationship', 'race', 'gender', 'capital_gain',\n",
       "       'capital_loss', 'hours_per_week', 'native_country'],\n",
       "      dtype='object')"
      ]
     },
     "execution_count": 80,
     "metadata": {},
     "output_type": "execute_result"
    }
   ],
   "source": [
    "cols"
   ]
  },
  {
   "cell_type": "code",
   "execution_count": 81,
   "metadata": {
    "collapsed": true
   },
   "outputs": [],
   "source": [
    "conti_cols=['age', 'education_num', 'capital_gain', 'capital_loss', 'hours_per_week']"
   ]
  },
  {
   "cell_type": "code",
   "execution_count": 82,
   "metadata": {
    "collapsed": true
   },
   "outputs": [],
   "source": [
    "catog_cols=['workcalss', 'education', 'martial_status', 'occupation', 'relationship', 'race', 'gender', 'native_country', 'income']"
   ]
  },
  {
   "cell_type": "code",
   "execution_count": 83,
   "metadata": {},
   "outputs": [],
   "source": [
    "import tensorflow as tf"
   ]
  },
  {
   "cell_type": "code",
   "execution_count": 84,
   "metadata": {},
   "outputs": [],
   "source": [
    "con_feat_cols=[]\n",
    "for i in conti_cols:\n",
    "    con_feat_cols.append(tf.feature_column.numeric_column(i))"
   ]
  },
  {
   "cell_type": "code",
   "execution_count": 85,
   "metadata": {},
   "outputs": [],
   "source": [
    "hash_feat_cols=[]\n",
    "for i in catog_cols:\n",
    "    bucketized_feat_cols.append(tf.feature_column.categorical_column_with_hash_bucket(i, hash_bucket_size=10))"
   ]
  },
  {
   "cell_type": "code",
   "execution_count": 86,
   "metadata": {
    "collapsed": true
   },
   "outputs": [],
   "source": [
    "embed_cols=[]\n",
    "for i in hash_feat_cols:\n",
    "    tf.feature_column.embedding_column(i, dimension=1)"
   ]
  },
  {
   "cell_type": "code",
   "execution_count": 87,
   "metadata": {
    "collapsed": true
   },
   "outputs": [],
   "source": [
    "feat_cols=[]\n",
    "for i in con_feat_cols:\n",
    "    feat_cols.append(i)\n",
    "for i in hash_feat_cols:\n",
    "    feat_cols.append(i)"
   ]
  },
  {
   "cell_type": "code",
   "execution_count": 166,
   "metadata": {},
   "outputs": [
    {
     "name": "stdout",
     "output_type": "stream",
     "text": [
      "INFO:tensorflow:Using default config.\n",
      "WARNING:tensorflow:Using temporary folder as model directory: C:\\Users\\Brothers\\AppData\\Local\\Temp\\tmpmt9u1eqe\n",
      "INFO:tensorflow:Using config: {'_keep_checkpoint_every_n_hours': 10000, '_keep_checkpoint_max': 5, '_model_dir': 'C:\\\\Users\\\\Brothers\\\\AppData\\\\Local\\\\Temp\\\\tmpmt9u1eqe', '_log_step_count_steps': 100, '_session_config': None, '_save_summary_steps': 100, '_save_checkpoints_steps': None, '_tf_random_seed': 1, '_save_checkpoints_secs': 600}\n"
     ]
    }
   ],
   "source": [
    "model=tf.estimator.DNNClassifier([40,40,40,40], feature_columns=feat_cols)"
   ]
  },
  {
   "cell_type": "code",
   "execution_count": 167,
   "metadata": {},
   "outputs": [
    {
     "name": "stdout",
     "output_type": "stream",
     "text": [
      "<class 'pandas.core.frame.DataFrame'>\n",
      "RangeIndex: 32561 entries, 0 to 32560\n",
      "Data columns (total 14 columns):\n",
      "age               32561 non-null int64\n",
      "workclass         32561 non-null object\n",
      "education         32561 non-null object\n",
      "education_num     32561 non-null int64\n",
      "marital_status    32561 non-null object\n",
      "occupation        32561 non-null object\n",
      "relationship      32561 non-null object\n",
      "race              32561 non-null object\n",
      "gender            32561 non-null object\n",
      "capital_gain      32561 non-null int64\n",
      "capital_loss      32561 non-null int64\n",
      "hours_per_week    32561 non-null int64\n",
      "native_country    32561 non-null object\n",
      "income_bracket    32561 non-null int64\n",
      "dtypes: int64(6), object(8)\n",
      "memory usage: 3.5+ MB\n"
     ]
    }
   ],
   "source": [
    "my_data.info()"
   ]
  },
  {
   "cell_type": "code",
   "execution_count": 168,
   "metadata": {
    "collapsed": true
   },
   "outputs": [],
   "source": [
    "train_fn=tf.estimator.inputs.pandas_input_fn(x_train, y_train, batch_size=8, shuffle=True, num_epochs=1000)"
   ]
  },
  {
   "cell_type": "code",
   "execution_count": 170,
   "metadata": {
    "collapsed": true
   },
   "outputs": [],
   "source": [
    "eval_fn=tf.estimator.inputs.pandas_input_fn(x_test, y_test, batch_size=8, shuffle=False, num_epochs=1)"
   ]
  },
  {
   "cell_type": "code",
   "execution_count": 202,
   "metadata": {},
   "outputs": [
    {
     "name": "stdout",
     "output_type": "stream",
     "text": [
      "INFO:tensorflow:Create CheckpointSaverHook.\n",
      "INFO:tensorflow:Restoring parameters from C:\\Users\\Brothers\\AppData\\Local\\Temp\\tmpmt9u1eqe\\model.ckpt-45000\n",
      "INFO:tensorflow:Saving checkpoints for 45001 into C:\\Users\\Brothers\\AppData\\Local\\Temp\\tmpmt9u1eqe\\model.ckpt.\n",
      "INFO:tensorflow:loss = 2.75469, step = 45001\n",
      "INFO:tensorflow:global_step/sec: 257.747\n",
      "INFO:tensorflow:loss = 4.14785, step = 45101 (0.396 sec)\n",
      "INFO:tensorflow:global_step/sec: 222.235\n",
      "INFO:tensorflow:loss = 5.92443, step = 45201 (0.449 sec)\n",
      "INFO:tensorflow:global_step/sec: 165.026\n",
      "INFO:tensorflow:loss = 1.13192, step = 45301 (0.607 sec)\n",
      "INFO:tensorflow:global_step/sec: 173.621\n",
      "INFO:tensorflow:loss = 2.43873, step = 45401 (0.611 sec)\n",
      "INFO:tensorflow:global_step/sec: 173.923\n",
      "INFO:tensorflow:loss = 3.09438, step = 45501 (0.541 sec)\n",
      "INFO:tensorflow:global_step/sec: 174.835\n",
      "INFO:tensorflow:loss = 4.4838, step = 45601 (0.606 sec)\n",
      "INFO:tensorflow:global_step/sec: 172.721\n",
      "INFO:tensorflow:loss = 2.92182, step = 45701 (0.543 sec)\n",
      "INFO:tensorflow:global_step/sec: 177.001\n",
      "INFO:tensorflow:loss = 3.53187, step = 45801 (0.601 sec)\n",
      "INFO:tensorflow:global_step/sec: 172.127\n",
      "INFO:tensorflow:loss = 4.35873, step = 45901 (0.546 sec)\n",
      "INFO:tensorflow:global_step/sec: 171.243\n",
      "INFO:tensorflow:loss = 2.48356, step = 46001 (0.584 sec)\n",
      "INFO:tensorflow:global_step/sec: 159.499\n",
      "INFO:tensorflow:loss = 2.45112, step = 46101 (0.661 sec)\n",
      "INFO:tensorflow:global_step/sec: 173.02\n",
      "INFO:tensorflow:loss = 3.74303, step = 46201 (0.543 sec)\n",
      "INFO:tensorflow:global_step/sec: 172.127\n",
      "INFO:tensorflow:loss = 2.23193, step = 46301 (0.619 sec)\n",
      "INFO:tensorflow:global_step/sec: 172.721\n",
      "INFO:tensorflow:loss = 5.43939, step = 46401 (0.541 sec)\n",
      "INFO:tensorflow:global_step/sec: 175.141\n",
      "INFO:tensorflow:loss = 4.11607, step = 46501 (0.610 sec)\n",
      "INFO:tensorflow:global_step/sec: 173.621\n",
      "INFO:tensorflow:loss = 3.59893, step = 46601 (0.585 sec)\n",
      "INFO:tensorflow:global_step/sec: 164.483\n",
      "INFO:tensorflow:loss = 3.43147, step = 46701 (0.560 sec)\n",
      "INFO:tensorflow:global_step/sec: 172.127\n",
      "INFO:tensorflow:loss = 3.41489, step = 46801 (0.582 sec)\n",
      "INFO:tensorflow:global_step/sec: 170.95\n",
      "INFO:tensorflow:loss = 4.83165, step = 46901 (0.584 sec)\n",
      "INFO:tensorflow:global_step/sec: 171.242\n",
      "INFO:tensorflow:loss = 2.79698, step = 47001 (0.585 sec)\n",
      "INFO:tensorflow:global_step/sec: 184.512\n",
      "INFO:tensorflow:loss = 2.39147, step = 47101 (0.541 sec)\n",
      "INFO:tensorflow:global_step/sec: 170.367\n",
      "INFO:tensorflow:loss = 0.883529, step = 47201 (0.587 sec)\n",
      "INFO:tensorflow:global_step/sec: 170.659\n",
      "INFO:tensorflow:loss = 3.82602, step = 47301 (0.586 sec)\n",
      "INFO:tensorflow:global_step/sec: 170.367\n",
      "INFO:tensorflow:loss = 2.94206, step = 47401 (0.588 sec)\n",
      "INFO:tensorflow:global_step/sec: 168.644\n",
      "INFO:tensorflow:loss = 4.81712, step = 47501 (0.592 sec)\n",
      "INFO:tensorflow:global_step/sec: 168.644\n",
      "INFO:tensorflow:loss = 4.09905, step = 47601 (0.593 sec)\n",
      "INFO:tensorflow:global_step/sec: 168.644\n",
      "INFO:tensorflow:loss = 2.80077, step = 47701 (0.593 sec)\n",
      "INFO:tensorflow:global_step/sec: 170.658\n",
      "INFO:tensorflow:loss = 2.04796, step = 47801 (0.586 sec)\n",
      "INFO:tensorflow:global_step/sec: 168.36\n",
      "INFO:tensorflow:loss = 1.86133, step = 47901 (0.594 sec)\n",
      "INFO:tensorflow:global_step/sec: 167.795\n",
      "INFO:tensorflow:loss = 2.94742, step = 48001 (0.597 sec)\n",
      "INFO:tensorflow:global_step/sec: 168.929\n",
      "INFO:tensorflow:loss = 1.42646, step = 48101 (0.591 sec)\n",
      "INFO:tensorflow:global_step/sec: 168.077\n",
      "INFO:tensorflow:loss = 2.29694, step = 48201 (0.595 sec)\n",
      "INFO:tensorflow:global_step/sec: 163.142\n",
      "INFO:tensorflow:loss = 2.37757, step = 48301 (0.613 sec)\n",
      "INFO:tensorflow:global_step/sec: 167.233\n",
      "INFO:tensorflow:loss = 1.87973, step = 48401 (0.598 sec)\n",
      "INFO:tensorflow:global_step/sec: 167.795\n",
      "INFO:tensorflow:loss = 1.44366, step = 48501 (0.598 sec)\n",
      "INFO:tensorflow:global_step/sec: 181.829\n",
      "INFO:tensorflow:loss = 2.99807, step = 48601 (0.607 sec)\n",
      "INFO:tensorflow:global_step/sec: 162.876\n",
      "INFO:tensorflow:loss = 3.20425, step = 48701 (0.556 sec)\n",
      "INFO:tensorflow:global_step/sec: 167.795\n",
      "INFO:tensorflow:loss = 2.70546, step = 48801 (0.611 sec)\n",
      "INFO:tensorflow:global_step/sec: 162.347\n",
      "INFO:tensorflow:loss = 3.57116, step = 48901 (0.600 sec)\n",
      "INFO:tensorflow:global_step/sec: 168.077\n",
      "INFO:tensorflow:loss = 3.56856, step = 49001 (0.597 sec)\n",
      "INFO:tensorflow:global_step/sec: 164.754\n",
      "INFO:tensorflow:loss = 0.641795, step = 49101 (0.606 sec)\n",
      "INFO:tensorflow:global_step/sec: 166.122\n",
      "INFO:tensorflow:loss = 5.21819, step = 49201 (0.601 sec)\n",
      "INFO:tensorflow:global_step/sec: 165.299\n",
      "INFO:tensorflow:loss = 3.1418, step = 49301 (0.605 sec)\n",
      "INFO:tensorflow:global_step/sec: 155.772\n",
      "INFO:tensorflow:loss = 2.14952, step = 49401 (0.644 sec)\n",
      "INFO:tensorflow:global_step/sec: 166.399\n",
      "INFO:tensorflow:loss = 3.21456, step = 49501 (0.600 sec)\n",
      "INFO:tensorflow:global_step/sec: 166.399\n",
      "INFO:tensorflow:loss = 4.17165, step = 49601 (0.601 sec)\n",
      "INFO:tensorflow:global_step/sec: 163.675\n",
      "INFO:tensorflow:loss = 2.80978, step = 49701 (0.610 sec)\n",
      "INFO:tensorflow:global_step/sec: 165.299\n",
      "INFO:tensorflow:loss = 4.26837, step = 49801 (0.606 sec)\n",
      "INFO:tensorflow:global_step/sec: 165.299\n",
      "INFO:tensorflow:loss = 4.67392, step = 49901 (0.605 sec)\n",
      "INFO:tensorflow:global_step/sec: 165.026\n",
      "INFO:tensorflow:loss = 1.73855, step = 50001 (0.606 sec)\n",
      "INFO:tensorflow:global_step/sec: 166.122\n",
      "INFO:tensorflow:loss = 1.51476, step = 50101 (0.603 sec)\n",
      "INFO:tensorflow:global_step/sec: 149.485\n",
      "INFO:tensorflow:loss = 2.63624, step = 50201 (0.667 sec)\n",
      "INFO:tensorflow:global_step/sec: 180.516\n",
      "INFO:tensorflow:loss = 3.1435, step = 50301 (0.554 sec)\n",
      "INFO:tensorflow:global_step/sec: 187.981\n",
      "INFO:tensorflow:loss = 1.44383, step = 50401 (0.574 sec)\n",
      "INFO:tensorflow:global_step/sec: 178.901\n",
      "INFO:tensorflow:loss = 1.84584, step = 50501 (0.519 sec)\n",
      "INFO:tensorflow:global_step/sec: 180.19\n",
      "INFO:tensorflow:loss = 3.91609, step = 50601 (0.554 sec)\n",
      "INFO:tensorflow:global_step/sec: 177.63\n",
      "INFO:tensorflow:loss = 3.1863, step = 50701 (0.595 sec)\n",
      "INFO:tensorflow:global_step/sec: 181.17\n",
      "INFO:tensorflow:loss = 2.20827, step = 50801 (0.520 sec)\n",
      "INFO:tensorflow:global_step/sec: 179.544\n",
      "INFO:tensorflow:loss = 2.5764, step = 50901 (0.557 sec)\n",
      "INFO:tensorflow:global_step/sec: 178.901\n",
      "INFO:tensorflow:loss = 2.7855, step = 51001 (0.558 sec)\n",
      "INFO:tensorflow:global_step/sec: 175.141\n",
      "INFO:tensorflow:loss = 2.98437, step = 51101 (0.572 sec)\n",
      "INFO:tensorflow:global_step/sec: 177.63\n",
      "INFO:tensorflow:loss = 1.82002, step = 51201 (0.564 sec)\n",
      "INFO:tensorflow:global_step/sec: 166.955\n",
      "INFO:tensorflow:loss = 3.26231, step = 51301 (0.597 sec)\n",
      "INFO:tensorflow:global_step/sec: 177.946\n",
      "INFO:tensorflow:loss = 1.13258, step = 51401 (0.562 sec)\n",
      "INFO:tensorflow:global_step/sec: 176.377\n",
      "INFO:tensorflow:loss = 2.80788, step = 51501 (0.567 sec)\n",
      "INFO:tensorflow:global_step/sec: 177.63\n",
      "INFO:tensorflow:loss = 1.47356, step = 51601 (0.563 sec)\n",
      "INFO:tensorflow:global_step/sec: 178.263\n",
      "INFO:tensorflow:loss = 2.00867, step = 51701 (0.562 sec)\n",
      "INFO:tensorflow:global_step/sec: 177.946\n",
      "INFO:tensorflow:loss = 2.21991, step = 51801 (0.561 sec)\n",
      "INFO:tensorflow:global_step/sec: 178.582\n",
      "INFO:tensorflow:loss = 8.16303, step = 51901 (0.560 sec)\n",
      "INFO:tensorflow:global_step/sec: 176.066\n",
      "INFO:tensorflow:loss = 5.3738, step = 52001 (0.569 sec)\n",
      "INFO:tensorflow:global_step/sec: 174.835\n",
      "INFO:tensorflow:loss = 1.75703, step = 52101 (0.571 sec)\n",
      "INFO:tensorflow:global_step/sec: 179.222\n",
      "INFO:tensorflow:loss = 6.27118, step = 52201 (0.559 sec)\n",
      "INFO:tensorflow:global_step/sec: 175.141\n",
      "INFO:tensorflow:loss = 4.85311, step = 52301 (0.571 sec)\n",
      "INFO:tensorflow:global_step/sec: 177.315\n",
      "INFO:tensorflow:loss = 3.83145, step = 52401 (0.563 sec)\n",
      "INFO:tensorflow:global_step/sec: 175.141\n",
      "INFO:tensorflow:loss = 2.23353, step = 52501 (0.572 sec)\n",
      "INFO:tensorflow:global_step/sec: 175.757\n",
      "INFO:tensorflow:loss = 1.22324, step = 52601 (0.568 sec)\n",
      "INFO:tensorflow:global_step/sec: 176.066\n",
      "INFO:tensorflow:loss = 2.03611, step = 52701 (0.569 sec)\n",
      "INFO:tensorflow:global_step/sec: 173.621\n",
      "INFO:tensorflow:loss = 2.48535, step = 52801 (0.577 sec)\n",
      "INFO:tensorflow:global_step/sec: 175.757\n",
      "INFO:tensorflow:loss = 3.089, step = 52901 (0.566 sec)\n",
      "INFO:tensorflow:global_step/sec: 174.53\n",
      "INFO:tensorflow:loss = 4.37919, step = 53001 (0.574 sec)\n",
      "INFO:tensorflow:global_step/sec: 174.226\n",
      "INFO:tensorflow:loss = 2.04596, step = 53101 (0.574 sec)\n"
     ]
    },
    {
     "name": "stdout",
     "output_type": "stream",
     "text": [
      "INFO:tensorflow:global_step/sec: 162.347\n",
      "INFO:tensorflow:loss = 2.0005, step = 53201 (0.616 sec)\n",
      "INFO:tensorflow:global_step/sec: 196.862\n",
      "INFO:tensorflow:loss = 3.80425, step = 53301 (0.518 sec)\n",
      "INFO:tensorflow:global_step/sec: 178.582\n",
      "INFO:tensorflow:loss = 4.23094, step = 53401 (0.550 sec)\n",
      "INFO:tensorflow:global_step/sec: 191.582\n",
      "INFO:tensorflow:loss = 2.2507, step = 53501 (0.532 sec)\n",
      "INFO:tensorflow:global_step/sec: 185.539\n",
      "INFO:tensorflow:loss = 4.62559, step = 53601 (0.529 sec)\n",
      "INFO:tensorflow:global_step/sec: 200.412\n",
      "INFO:tensorflow:loss = 2.94924, step = 53701 (0.499 sec)\n",
      "INFO:tensorflow:global_step/sec: 191.583\n",
      "INFO:tensorflow:loss = 3.18929, step = 53801 (0.545 sec)\n",
      "INFO:tensorflow:global_step/sec: 190.486\n",
      "INFO:tensorflow:loss = 2.69026, step = 53901 (0.507 sec)\n",
      "INFO:tensorflow:global_step/sec: 193.809\n",
      "INFO:tensorflow:loss = 3.8992, step = 54001 (0.511 sec)\n",
      "INFO:tensorflow:global_step/sec: 193.435\n",
      "INFO:tensorflow:loss = 3.01989, step = 54101 (0.530 sec)\n",
      "INFO:tensorflow:global_step/sec: 181.17\n",
      "INFO:tensorflow:loss = 3.91017, step = 54201 (0.539 sec)\n",
      "INFO:tensorflow:global_step/sec: 203.678\n",
      "INFO:tensorflow:loss = 4.42326, step = 54301 (0.492 sec)\n",
      "INFO:tensorflow:global_step/sec: 192.689\n",
      "INFO:tensorflow:loss = 1.96346, step = 54401 (0.519 sec)\n",
      "INFO:tensorflow:global_step/sec: 191.95\n",
      "INFO:tensorflow:loss = 1.19023, step = 54501 (0.534 sec)\n",
      "INFO:tensorflow:global_step/sec: 187.628\n",
      "INFO:tensorflow:loss = 4.83037, step = 54601 (0.519 sec)\n",
      "INFO:tensorflow:global_step/sec: 195.706\n",
      "INFO:tensorflow:loss = 0.944379, step = 54701 (0.511 sec)\n",
      "INFO:tensorflow:global_step/sec: 192.319\n",
      "INFO:tensorflow:loss = 2.22599, step = 54801 (0.519 sec)\n",
      "INFO:tensorflow:global_step/sec: 191.215\n",
      "INFO:tensorflow:loss = 2.44798, step = 54901 (0.539 sec)\n",
      "INFO:tensorflow:global_step/sec: 190.487\n",
      "INFO:tensorflow:loss = 1.15134, step = 55001 (0.511 sec)\n",
      "INFO:tensorflow:global_step/sec: 188.335\n",
      "INFO:tensorflow:loss = 1.70961, step = 55101 (0.530 sec)\n",
      "INFO:tensorflow:global_step/sec: 190.85\n",
      "INFO:tensorflow:loss = 3.63745, step = 55201 (0.541 sec)\n",
      "INFO:tensorflow:global_step/sec: 180.516\n",
      "INFO:tensorflow:loss = 4.83269, step = 55301 (0.537 sec)\n",
      "INFO:tensorflow:global_step/sec: 181.499\n",
      "INFO:tensorflow:loss = 2.54769, step = 55401 (0.551 sec)\n",
      "INFO:tensorflow:global_step/sec: 182.492\n",
      "INFO:tensorflow:loss = 2.5322, step = 55501 (0.548 sec)\n",
      "INFO:tensorflow:global_step/sec: 187.276\n",
      "INFO:tensorflow:loss = 3.08106, step = 55601 (0.556 sec)\n",
      "INFO:tensorflow:global_step/sec: 186.927\n",
      "INFO:tensorflow:loss = 4.79859, step = 55701 (0.513 sec)\n",
      "INFO:tensorflow:global_step/sec: 188.335\n",
      "INFO:tensorflow:loss = 1.67356, step = 55801 (0.532 sec)\n",
      "INFO:tensorflow:global_step/sec: 187.981\n",
      "INFO:tensorflow:loss = 1.48581, step = 55901 (0.551 sec)\n",
      "INFO:tensorflow:global_step/sec: 185.196\n",
      "INFO:tensorflow:loss = 1.57135, step = 56001 (0.521 sec)\n",
      "INFO:tensorflow:global_step/sec: 187.981\n",
      "INFO:tensorflow:loss = 1.71978, step = 56101 (0.532 sec)\n",
      "INFO:tensorflow:global_step/sec: 187.981\n",
      "INFO:tensorflow:loss = 2.70659, step = 56201 (0.550 sec)\n",
      "INFO:tensorflow:global_step/sec: 187.277\n",
      "INFO:tensorflow:loss = 5.92957, step = 56301 (0.515 sec)\n",
      "INFO:tensorflow:global_step/sec: 185.196\n",
      "INFO:tensorflow:loss = 1.56408, step = 56401 (0.540 sec)\n",
      "INFO:tensorflow:global_step/sec: 187.628\n",
      "INFO:tensorflow:loss = 2.73093, step = 56501 (0.553 sec)\n",
      "INFO:tensorflow:global_step/sec: 183.834\n",
      "INFO:tensorflow:loss = 5.88176, step = 56601 (0.524 sec)\n",
      "INFO:tensorflow:global_step/sec: 184.854\n",
      "INFO:tensorflow:loss = 1.7268, step = 56701 (0.564 sec)\n",
      "INFO:tensorflow:global_step/sec: 183.834\n",
      "INFO:tensorflow:loss = 4.00506, step = 56801 (0.522 sec)\n",
      "INFO:tensorflow:global_step/sec: 183.834\n",
      "INFO:tensorflow:loss = 4.49487, step = 56901 (0.563 sec)\n",
      "INFO:tensorflow:global_step/sec: 184.173\n",
      "INFO:tensorflow:loss = 2.19366, step = 57001 (0.524 sec)\n",
      "INFO:tensorflow:global_step/sec: 181.499\n",
      "INFO:tensorflow:loss = 4.07717, step = 57101 (0.572 sec)\n",
      "INFO:tensorflow:global_step/sec: 182.826\n",
      "INFO:tensorflow:loss = 3.4085, step = 57201 (0.526 sec)\n",
      "INFO:tensorflow:global_step/sec: 178.901\n",
      "INFO:tensorflow:loss = 3.86139, step = 57301 (0.559 sec)\n",
      "INFO:tensorflow:global_step/sec: 186.578\n",
      "INFO:tensorflow:loss = 4.22173, step = 57401 (0.557 sec)\n",
      "INFO:tensorflow:global_step/sec: 178.901\n",
      "INFO:tensorflow:loss = 9.39633, step = 57501 (0.537 sec)\n",
      "INFO:tensorflow:global_step/sec: 180.842\n",
      "INFO:tensorflow:loss = 4.05452, step = 57601 (0.600 sec)\n",
      "INFO:tensorflow:global_step/sec: 181.17\n",
      "INFO:tensorflow:loss = 3.66525, step = 57701 (0.506 sec)\n",
      "INFO:tensorflow:global_step/sec: 179.222\n",
      "INFO:tensorflow:loss = 2.85687, step = 57801 (0.558 sec)\n",
      "INFO:tensorflow:global_step/sec: 183.496\n",
      "INFO:tensorflow:loss = 2.94607, step = 57901 (0.544 sec)\n",
      "INFO:tensorflow:global_step/sec: 178.582\n",
      "INFO:tensorflow:loss = 2.05011, step = 58001 (0.586 sec)\n",
      "INFO:tensorflow:global_step/sec: 182.492\n",
      "INFO:tensorflow:loss = 2.23411, step = 58101 (0.522 sec)\n",
      "INFO:tensorflow:global_step/sec: 177.63\n",
      "INFO:tensorflow:loss = 1.37423, step = 58201 (0.598 sec)\n",
      "INFO:tensorflow:global_step/sec: 172.424\n",
      "INFO:tensorflow:loss = 2.30464, step = 58301 (0.547 sec)\n",
      "INFO:tensorflow:global_step/sec: 180.191\n",
      "INFO:tensorflow:loss = 4.20317, step = 58401 (0.579 sec)\n",
      "INFO:tensorflow:global_step/sec: 182.159\n",
      "INFO:tensorflow:loss = 3.88018, step = 58501 (0.524 sec)\n",
      "INFO:tensorflow:global_step/sec: 181.829\n",
      "INFO:tensorflow:loss = 0.918423, step = 58601 (0.576 sec)\n",
      "INFO:tensorflow:global_step/sec: 178.263\n",
      "INFO:tensorflow:loss = 2.29074, step = 58701 (0.536 sec)\n",
      "INFO:tensorflow:global_step/sec: 181.499\n",
      "INFO:tensorflow:loss = 5.37688, step = 58801 (0.577 sec)\n",
      "INFO:tensorflow:global_step/sec: 179.543\n",
      "INFO:tensorflow:loss = 2.17347, step = 58901 (0.530 sec)\n",
      "INFO:tensorflow:global_step/sec: 182.492\n",
      "INFO:tensorflow:loss = 4.8881, step = 59001 (0.575 sec)\n",
      "INFO:tensorflow:global_step/sec: 170.95\n",
      "INFO:tensorflow:loss = 3.4297, step = 59101 (0.557 sec)\n",
      "INFO:tensorflow:global_step/sec: 180.842\n",
      "INFO:tensorflow:loss = 0.857226, step = 59201 (0.600 sec)\n",
      "INFO:tensorflow:global_step/sec: 177.315\n",
      "INFO:tensorflow:loss = 2.75225, step = 59301 (0.517 sec)\n",
      "INFO:tensorflow:global_step/sec: 179.867\n",
      "INFO:tensorflow:loss = 5.16912, step = 59401 (0.556 sec)\n",
      "INFO:tensorflow:global_step/sec: 179.222\n",
      "INFO:tensorflow:loss = 3.45718, step = 59501 (0.558 sec)\n",
      "INFO:tensorflow:global_step/sec: 178.263\n",
      "INFO:tensorflow:loss = 2.11653, step = 59601 (0.561 sec)\n",
      "INFO:tensorflow:global_step/sec: 179.222\n",
      "INFO:tensorflow:loss = 2.29471, step = 59701 (0.558 sec)\n",
      "INFO:tensorflow:global_step/sec: 181.499\n",
      "INFO:tensorflow:loss = 2.73471, step = 59801 (0.552 sec)\n",
      "INFO:tensorflow:global_step/sec: 175.757\n",
      "INFO:tensorflow:loss = 5.37029, step = 59901 (0.568 sec)\n",
      "INFO:tensorflow:Saving checkpoints for 60000 into C:\\Users\\Brothers\\AppData\\Local\\Temp\\tmpmt9u1eqe\\model.ckpt.\n",
      "INFO:tensorflow:Loss for final step: 3.35886.\n"
     ]
    },
    {
     "data": {
      "text/plain": [
       "<tensorflow.python.estimator.canned.dnn.DNNClassifier at 0x2899cfb3518>"
      ]
     },
     "execution_count": 202,
     "metadata": {},
     "output_type": "execute_result"
    }
   ],
   "source": [
    "model.train(input_fn=train_fn, steps=15000)"
   ]
  },
  {
   "cell_type": "code",
   "execution_count": 203,
   "metadata": {},
   "outputs": [
    {
     "name": "stdout",
     "output_type": "stream",
     "text": [
      "WARNING:tensorflow:Casting <dtype: 'float32'> labels to bool.\n",
      "WARNING:tensorflow:Casting <dtype: 'float32'> labels to bool.\n",
      "INFO:tensorflow:Starting evaluation at 2019-04-29-20:13:09\n",
      "INFO:tensorflow:Restoring parameters from C:\\Users\\Brothers\\AppData\\Local\\Temp\\tmpmt9u1eqe\\model.ckpt-60000\n",
      "INFO:tensorflow:Evaluation [1/1]\n",
      "INFO:tensorflow:Finished evaluation at 2019-04-29-20:13:11\n",
      "INFO:tensorflow:Saving dict for global step 60000: accuracy = 0.75, accuracy_baseline = 0.75, auc = 0.75, auc_precision_recall = 0.6625, average_loss = 0.548703, global_step = 60000, label/mean = 0.25, loss = 4.38962, prediction/mean = 0.383629\n"
     ]
    },
    {
     "data": {
      "text/plain": [
       "{'accuracy': 0.75,\n",
       " 'accuracy_baseline': 0.75,\n",
       " 'auc': 0.75,\n",
       " 'auc_precision_recall': 0.66249973,\n",
       " 'average_loss': 0.54870296,\n",
       " 'global_step': 60000,\n",
       " 'label/mean': 0.25,\n",
       " 'loss': 4.3896236,\n",
       " 'prediction/mean': 0.38362938}"
      ]
     },
     "execution_count": 203,
     "metadata": {},
     "output_type": "execute_result"
    }
   ],
   "source": [
    "model.evaluate(input_fn=eval_fn, steps=1)"
   ]
  },
  {
   "cell_type": "markdown",
   "metadata": {},
   "source": [
    "**Predicting**"
   ]
  },
  {
   "cell_type": "code",
   "execution_count": 204,
   "metadata": {
    "collapsed": true
   },
   "outputs": [],
   "source": [
    "pred_fn=tf.estimator.inputs.pandas_input_fn(x_test, shuffle=False)"
   ]
  },
  {
   "cell_type": "code",
   "execution_count": 205,
   "metadata": {
    "collapsed": true
   },
   "outputs": [],
   "source": [
    "result=model.predict(pred_fn)"
   ]
  },
  {
   "cell_type": "code",
   "execution_count": 206,
   "metadata": {},
   "outputs": [
    {
     "name": "stdout",
     "output_type": "stream",
     "text": [
      "INFO:tensorflow:Restoring parameters from C:\\Users\\Brothers\\AppData\\Local\\Temp\\tmpmt9u1eqe\\model.ckpt-60000\n"
     ]
    }
   ],
   "source": [
    "predictions=[]\n",
    "for i in result:\n",
    "    predictions.append(i['class_ids'])"
   ]
  },
  {
   "cell_type": "code",
   "execution_count": 207,
   "metadata": {},
   "outputs": [
    {
     "data": {
      "text/plain": [
       "0"
      ]
     },
     "execution_count": 207,
     "metadata": {},
     "output_type": "execute_result"
    }
   ],
   "source": [
    "predictions[3][0]"
   ]
  },
  {
   "cell_type": "code",
   "execution_count": 208,
   "metadata": {},
   "outputs": [],
   "source": [
    "predicted=[]\n",
    "for i in range(len(predictions)):\n",
    "    predicted.append(predictions[i][0])"
   ]
  },
  {
   "cell_type": "markdown",
   "metadata": {},
   "source": [
    "for i in range(len(predictions)):\n",
    "    print(predicted[i], end=' ')"
   ]
  },
  {
   "cell_type": "code",
   "execution_count": 209,
   "metadata": {
    "collapsed": true
   },
   "outputs": [],
   "source": [
    "from sklearn.metrics import classification_report"
   ]
  },
  {
   "cell_type": "code",
   "execution_count": 210,
   "metadata": {
    "collapsed": true
   },
   "outputs": [],
   "source": [
    "report=classification_report(y_test, predicted)"
   ]
  },
  {
   "cell_type": "code",
   "execution_count": 211,
   "metadata": {},
   "outputs": [
    {
     "name": "stdout",
     "output_type": "stream",
     "text": [
      "             precision    recall  f1-score   support\n",
      "\n",
      "          0       0.84      0.95      0.89      7441\n",
      "          1       0.72      0.42      0.53      2328\n",
      "\n",
      "avg / total       0.81      0.82      0.81      9769\n",
      "\n"
     ]
    }
   ],
   "source": [
    "print(report)"
   ]
  }
 ],
 "metadata": {
  "kernelspec": {
   "display_name": "Python 3",
   "language": "python",
   "name": "python3"
  },
  "language_info": {
   "codemirror_mode": {
    "name": "ipython",
    "version": 3
   },
   "file_extension": ".py",
   "mimetype": "text/x-python",
   "name": "python",
   "nbconvert_exporter": "python",
   "pygments_lexer": "ipython3",
   "version": "3.5.4"
  }
 },
 "nbformat": 4,
 "nbformat_minor": 2
}
