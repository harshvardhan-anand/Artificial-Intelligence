{
 "cells": [
  {
   "cell_type": "code",
   "execution_count": 199,
   "metadata": {},
   "outputs": [],
   "source": [
    "import pandas as pd"
   ]
  },
  {
   "cell_type": "code",
   "execution_count": 200,
   "metadata": {},
   "outputs": [],
   "source": [
    "my_data=pd.read_csv(\"C:\\\\Users\\\\Brothers\\\\Desktop\\\\Tensorflow-Bootcamp-master\\\\02-TensorFlow-Basics\\\\cal_housing_clean.csv\")"
   ]
  },
  {
   "cell_type": "code",
   "execution_count": 201,
   "metadata": {},
   "outputs": [
    {
     "data": {
      "text/html": [
       "<div>\n",
       "<style>\n",
       "    .dataframe thead tr:only-child th {\n",
       "        text-align: right;\n",
       "    }\n",
       "\n",
       "    .dataframe thead th {\n",
       "        text-align: left;\n",
       "    }\n",
       "\n",
       "    .dataframe tbody tr th {\n",
       "        vertical-align: top;\n",
       "    }\n",
       "</style>\n",
       "<table border=\"1\" class=\"dataframe\">\n",
       "  <thead>\n",
       "    <tr style=\"text-align: right;\">\n",
       "      <th></th>\n",
       "      <th>housingMedianAge</th>\n",
       "      <th>totalRooms</th>\n",
       "      <th>totalBedrooms</th>\n",
       "      <th>population</th>\n",
       "      <th>households</th>\n",
       "      <th>medianIncome</th>\n",
       "      <th>medianHouseValue</th>\n",
       "    </tr>\n",
       "  </thead>\n",
       "  <tbody>\n",
       "    <tr>\n",
       "      <th>0</th>\n",
       "      <td>41.0</td>\n",
       "      <td>880.0</td>\n",
       "      <td>129.0</td>\n",
       "      <td>322.0</td>\n",
       "      <td>126.0</td>\n",
       "      <td>8.3252</td>\n",
       "      <td>452600.0</td>\n",
       "    </tr>\n",
       "    <tr>\n",
       "      <th>1</th>\n",
       "      <td>21.0</td>\n",
       "      <td>7099.0</td>\n",
       "      <td>1106.0</td>\n",
       "      <td>2401.0</td>\n",
       "      <td>1138.0</td>\n",
       "      <td>8.3014</td>\n",
       "      <td>358500.0</td>\n",
       "    </tr>\n",
       "    <tr>\n",
       "      <th>2</th>\n",
       "      <td>52.0</td>\n",
       "      <td>1467.0</td>\n",
       "      <td>190.0</td>\n",
       "      <td>496.0</td>\n",
       "      <td>177.0</td>\n",
       "      <td>7.2574</td>\n",
       "      <td>352100.0</td>\n",
       "    </tr>\n",
       "    <tr>\n",
       "      <th>3</th>\n",
       "      <td>52.0</td>\n",
       "      <td>1274.0</td>\n",
       "      <td>235.0</td>\n",
       "      <td>558.0</td>\n",
       "      <td>219.0</td>\n",
       "      <td>5.6431</td>\n",
       "      <td>341300.0</td>\n",
       "    </tr>\n",
       "    <tr>\n",
       "      <th>4</th>\n",
       "      <td>52.0</td>\n",
       "      <td>1627.0</td>\n",
       "      <td>280.0</td>\n",
       "      <td>565.0</td>\n",
       "      <td>259.0</td>\n",
       "      <td>3.8462</td>\n",
       "      <td>342200.0</td>\n",
       "    </tr>\n",
       "  </tbody>\n",
       "</table>\n",
       "</div>"
      ],
      "text/plain": [
       "   housingMedianAge  totalRooms  totalBedrooms  population  households  \\\n",
       "0              41.0       880.0          129.0       322.0       126.0   \n",
       "1              21.0      7099.0         1106.0      2401.0      1138.0   \n",
       "2              52.0      1467.0          190.0       496.0       177.0   \n",
       "3              52.0      1274.0          235.0       558.0       219.0   \n",
       "4              52.0      1627.0          280.0       565.0       259.0   \n",
       "\n",
       "   medianIncome  medianHouseValue  \n",
       "0        8.3252          452600.0  \n",
       "1        8.3014          358500.0  \n",
       "2        7.2574          352100.0  \n",
       "3        5.6431          341300.0  \n",
       "4        3.8462          342200.0  "
      ]
     },
     "execution_count": 201,
     "metadata": {},
     "output_type": "execute_result"
    }
   ],
   "source": [
    "my_data.head()"
   ]
  },
  {
   "cell_type": "code",
   "execution_count": 202,
   "metadata": {
    "collapsed": true
   },
   "outputs": [],
   "source": [
    "y_label=my_data['medianHouseValue']"
   ]
  },
  {
   "cell_type": "code",
   "execution_count": 203,
   "metadata": {},
   "outputs": [],
   "source": [
    "x_data=my_data.drop('medianHouseValue', axis=1)"
   ]
  },
  {
   "cell_type": "code",
   "execution_count": 204,
   "metadata": {},
   "outputs": [],
   "source": [
    "y_label=pd.DataFrame(y_label)"
   ]
  },
  {
   "cell_type": "markdown",
   "metadata": {},
   "source": [
    "# Initiating train test split"
   ]
  },
  {
   "cell_type": "code",
   "execution_count": 205,
   "metadata": {
    "collapsed": true
   },
   "outputs": [],
   "source": [
    "from sklearn.model_selection import train_test_split"
   ]
  },
  {
   "cell_type": "code",
   "execution_count": 206,
   "metadata": {
    "collapsed": true
   },
   "outputs": [],
   "source": [
    "trainx, testx, trainy, testy=train_test_split(x_data, y_label, test_size=0.3)"
   ]
  },
  {
   "cell_type": "markdown",
   "metadata": {},
   "source": [
    "# Normalising data"
   ]
  },
  {
   "cell_type": "code",
   "execution_count": 207,
   "metadata": {},
   "outputs": [],
   "source": [
    "from sklearn.preprocessing import MinMaxScaler"
   ]
  },
  {
   "cell_type": "code",
   "execution_count": 208,
   "metadata": {
    "collapsed": true
   },
   "outputs": [],
   "source": [
    "scaler=MinMaxScaler()"
   ]
  },
  {
   "cell_type": "code",
   "execution_count": 209,
   "metadata": {},
   "outputs": [
    {
     "data": {
      "text/plain": [
       "MinMaxScaler(copy=True, feature_range=(0, 1))"
      ]
     },
     "execution_count": 209,
     "metadata": {},
     "output_type": "execute_result"
    }
   ],
   "source": [
    "scaler.fit(trainx)"
   ]
  },
  {
   "cell_type": "code",
   "execution_count": 210,
   "metadata": {},
   "outputs": [],
   "source": [
    "trainx=pd.DataFrame(data=scaler.transform(trainx), index=trainx.index, columns=trainx.columns)"
   ]
  },
  {
   "cell_type": "code",
   "execution_count": 211,
   "metadata": {
    "collapsed": true
   },
   "outputs": [],
   "source": [
    "testx=pd.DataFrame(data=scaler.transform(testx), index=testx.index, columns=testx.columns)"
   ]
  },
  {
   "cell_type": "code",
   "execution_count": 286,
   "metadata": {},
   "outputs": [],
   "source": [
    "trainy=pd.DataFrame(data=scaler.fit_transform(trainy), index=trainy.index, columns=trainy.columns)"
   ]
  },
  {
   "cell_type": "markdown",
   "metadata": {},
   "source": [
    "# Feature column"
   ]
  },
  {
   "cell_type": "code",
   "execution_count": 287,
   "metadata": {
    "collapsed": true
   },
   "outputs": [],
   "source": [
    "import tensorflow as tf"
   ]
  },
  {
   "cell_type": "code",
   "execution_count": 288,
   "metadata": {
    "collapsed": true
   },
   "outputs": [],
   "source": [
    "cols=x_data.columns"
   ]
  },
  {
   "cell_type": "code",
   "execution_count": 289,
   "metadata": {},
   "outputs": [
    {
     "data": {
      "text/plain": [
       "Index(['housingMedianAge', 'totalRooms', 'totalBedrooms', 'population',\n",
       "       'households', 'medianIncome'],\n",
       "      dtype='object')"
      ]
     },
     "execution_count": 289,
     "metadata": {},
     "output_type": "execute_result"
    }
   ],
   "source": [
    "cols"
   ]
  },
  {
   "cell_type": "code",
   "execution_count": 290,
   "metadata": {
    "collapsed": true
   },
   "outputs": [],
   "source": [
    "feat_cols=[]"
   ]
  },
  {
   "cell_type": "code",
   "execution_count": 291,
   "metadata": {},
   "outputs": [],
   "source": [
    "for columns in cols:\n",
    "    feat_cols.append(tf.feature_column.numeric_column(columns))"
   ]
  },
  {
   "cell_type": "code",
   "execution_count": 292,
   "metadata": {},
   "outputs": [
    {
     "data": {
      "text/plain": [
       "[_NumericColumn(key='housingMedianAge', shape=(1,), default_value=None, dtype=tf.float32, normalizer_fn=None),\n",
       " _NumericColumn(key='totalRooms', shape=(1,), default_value=None, dtype=tf.float32, normalizer_fn=None),\n",
       " _NumericColumn(key='totalBedrooms', shape=(1,), default_value=None, dtype=tf.float32, normalizer_fn=None),\n",
       " _NumericColumn(key='population', shape=(1,), default_value=None, dtype=tf.float32, normalizer_fn=None),\n",
       " _NumericColumn(key='households', shape=(1,), default_value=None, dtype=tf.float32, normalizer_fn=None),\n",
       " _NumericColumn(key='medianIncome', shape=(1,), default_value=None, dtype=tf.float32, normalizer_fn=None)]"
      ]
     },
     "execution_count": 292,
     "metadata": {},
     "output_type": "execute_result"
    }
   ],
   "source": [
    "feat_cols"
   ]
  },
  {
   "cell_type": "code",
   "execution_count": 304,
   "metadata": {},
   "outputs": [
    {
     "name": "stdout",
     "output_type": "stream",
     "text": [
      "INFO:tensorflow:Using default config.\n",
      "WARNING:tensorflow:Using temporary folder as model directory: C:\\Users\\Brothers\\AppData\\Local\\Temp\\tmpdp7yce1d\n",
      "INFO:tensorflow:Using config: {'_session_config': None, '_keep_checkpoint_every_n_hours': 10000, '_save_checkpoints_secs': 600, '_tf_random_seed': 1, '_save_checkpoints_steps': None, '_model_dir': 'C:\\\\Users\\\\Brothers\\\\AppData\\\\Local\\\\Temp\\\\tmpdp7yce1d', '_save_summary_steps': 100, '_keep_checkpoint_max': 5, '_log_step_count_steps': 100}\n"
     ]
    }
   ],
   "source": [
    "model=tf.estimator.DNNRegressor([50,50,50,50,50,50,50,50,50,50], feature_columns=feat_cols)"
   ]
  },
  {
   "cell_type": "code",
   "execution_count": 305,
   "metadata": {
    "collapsed": true
   },
   "outputs": [],
   "source": [
    "train_fn=tf.estimator.inputs.pandas_input_fn(trainx, trainy, batch_size=10, num_epochs=2000, shuffle=True)"
   ]
  },
  {
   "cell_type": "code",
   "execution_count": 306,
   "metadata": {
    "collapsed": true
   },
   "outputs": [],
   "source": [
    "eval_fn=tf.estimator.inputs.pandas_input_fn(testx ,testy, num_epochs=1, shuffle=False, batch_size=10)"
   ]
  },
  {
   "cell_type": "code",
   "execution_count": 308,
   "metadata": {
    "scrolled": true
   },
   "outputs": [
    {
     "name": "stdout",
     "output_type": "stream",
     "text": [
      "INFO:tensorflow:Create CheckpointSaverHook.\n",
      "INFO:tensorflow:Restoring parameters from C:\\Users\\Brothers\\AppData\\Local\\Temp\\tmpdp7yce1d\\model.ckpt-1\n",
      "INFO:tensorflow:Saving checkpoints for 2 into C:\\Users\\Brothers\\AppData\\Local\\Temp\\tmpdp7yce1d\\model.ckpt.\n",
      "INFO:tensorflow:loss = 0.312687, step = 2\n",
      "INFO:tensorflow:global_step/sec: 107.425\n",
      "INFO:tensorflow:loss = 0.152136, step = 102 (0.905 sec)\n",
      "INFO:tensorflow:global_step/sec: 126.43\n",
      "INFO:tensorflow:loss = 0.647964, step = 202 (0.804 sec)\n",
      "INFO:tensorflow:global_step/sec: 125.634\n",
      "INFO:tensorflow:loss = 0.277919, step = 302 (0.787 sec)\n",
      "INFO:tensorflow:global_step/sec: 120.344\n",
      "INFO:tensorflow:loss = 0.257125, step = 402 (0.826 sec)\n",
      "INFO:tensorflow:global_step/sec: 119.054\n",
      "INFO:tensorflow:loss = 0.202264, step = 502 (0.840 sec)\n",
      "INFO:tensorflow:global_step/sec: 122.107\n",
      "INFO:tensorflow:loss = 0.258764, step = 602 (0.819 sec)\n",
      "INFO:tensorflow:global_step/sec: 118.07\n",
      "INFO:tensorflow:loss = 0.928557, step = 702 (0.849 sec)\n",
      "INFO:tensorflow:global_step/sec: 118.35\n",
      "INFO:tensorflow:loss = 0.330539, step = 802 (0.845 sec)\n",
      "INFO:tensorflow:global_step/sec: 125.007\n",
      "INFO:tensorflow:loss = 0.506812, step = 902 (0.803 sec)\n",
      "INFO:tensorflow:global_step/sec: 96.6241\n",
      "INFO:tensorflow:loss = 0.457424, step = 1002 (1.037 sec)\n",
      "INFO:tensorflow:global_step/sec: 81.5703\n",
      "INFO:tensorflow:loss = 1.20489, step = 1102 (1.313 sec)\n",
      "INFO:tensorflow:global_step/sec: 76.2817\n",
      "INFO:tensorflow:loss = 0.226971, step = 1202 (1.266 sec)\n",
      "INFO:tensorflow:global_step/sec: 65.4488\n",
      "INFO:tensorflow:loss = 0.285076, step = 1302 (1.548 sec)\n",
      "INFO:tensorflow:global_step/sec: 74.6309\n",
      "INFO:tensorflow:loss = 0.317996, step = 1402 (1.328 sec)\n",
      "INFO:tensorflow:global_step/sec: 78.4974\n",
      "INFO:tensorflow:loss = 0.515414, step = 1502 (1.227 sec)\n",
      "INFO:tensorflow:global_step/sec: 82.0391\n",
      "INFO:tensorflow:loss = 0.615756, step = 1602 (1.243 sec)\n",
      "INFO:tensorflow:global_step/sec: 83.1996\n",
      "INFO:tensorflow:loss = 0.291896, step = 1702 (1.187 sec)\n",
      "INFO:tensorflow:global_step/sec: 94.2558\n",
      "INFO:tensorflow:loss = 0.118095, step = 1802 (1.061 sec)\n",
      "INFO:tensorflow:global_step/sec: 98.8194\n",
      "INFO:tensorflow:loss = 0.130938, step = 1902 (1.015 sec)\n",
      "INFO:tensorflow:global_step/sec: 116.829\n",
      "INFO:tensorflow:loss = 0.517371, step = 2002 (0.845 sec)\n",
      "INFO:tensorflow:global_step/sec: 113.001\n",
      "INFO:tensorflow:loss = 0.197003, step = 2102 (0.879 sec)\n",
      "INFO:tensorflow:global_step/sec: 120.2\n",
      "INFO:tensorflow:loss = 0.362675, step = 2202 (0.840 sec)\n",
      "INFO:tensorflow:global_step/sec: 118.629\n",
      "INFO:tensorflow:loss = 0.170303, step = 2302 (0.839 sec)\n",
      "INFO:tensorflow:global_step/sec: 116.83\n",
      "INFO:tensorflow:loss = 0.0991705, step = 2402 (0.857 sec)\n",
      "INFO:tensorflow:global_step/sec: 97.6618\n",
      "INFO:tensorflow:loss = 0.15693, step = 2502 (1.036 sec)\n",
      "INFO:tensorflow:global_step/sec: 89.3703\n",
      "INFO:tensorflow:loss = 0.0937246, step = 2602 (1.119 sec)\n",
      "INFO:tensorflow:global_step/sec: 105.048\n",
      "INFO:tensorflow:loss = 0.154814, step = 2702 (0.942 sec)\n",
      "INFO:tensorflow:global_step/sec: 96.6236\n",
      "INFO:tensorflow:loss = 0.288401, step = 2802 (1.028 sec)\n",
      "INFO:tensorflow:global_step/sec: 106.73\n",
      "INFO:tensorflow:loss = 0.358765, step = 2902 (0.940 sec)\n",
      "INFO:tensorflow:global_step/sec: 107.997\n",
      "INFO:tensorflow:loss = 0.1127, step = 3002 (0.928 sec)\n",
      "INFO:tensorflow:global_step/sec: 107.997\n",
      "INFO:tensorflow:loss = 0.134359, step = 3102 (0.921 sec)\n",
      "INFO:tensorflow:global_step/sec: 118.07\n",
      "INFO:tensorflow:loss = 0.0888413, step = 3202 (0.850 sec)\n",
      "INFO:tensorflow:global_step/sec: 124.852\n",
      "INFO:tensorflow:loss = 0.158245, step = 3302 (0.801 sec)\n",
      "INFO:tensorflow:global_step/sec: 120.926\n",
      "INFO:tensorflow:loss = 0.10163, step = 3402 (0.823 sec)\n",
      "INFO:tensorflow:global_step/sec: 119.911\n",
      "INFO:tensorflow:loss = 0.108824, step = 3502 (0.835 sec)\n",
      "INFO:tensorflow:global_step/sec: 121.958\n",
      "INFO:tensorflow:loss = 0.274065, step = 3602 (0.820 sec)\n",
      "INFO:tensorflow:global_step/sec: 119.767\n",
      "INFO:tensorflow:loss = 0.112656, step = 3702 (0.837 sec)\n",
      "INFO:tensorflow:global_step/sec: 121.809\n",
      "INFO:tensorflow:loss = 0.703438, step = 3802 (0.820 sec)\n",
      "INFO:tensorflow:global_step/sec: 119.911\n",
      "INFO:tensorflow:loss = 0.145221, step = 3902 (0.834 sec)\n",
      "INFO:tensorflow:global_step/sec: 122.706\n",
      "INFO:tensorflow:loss = 0.13531, step = 4002 (0.821 sec)\n",
      "INFO:tensorflow:global_step/sec: 120.344\n",
      "INFO:tensorflow:loss = 0.0926302, step = 4102 (0.827 sec)\n",
      "INFO:tensorflow:global_step/sec: 120.055\n",
      "INFO:tensorflow:loss = 0.117995, step = 4202 (0.831 sec)\n",
      "INFO:tensorflow:global_step/sec: 121.513\n",
      "INFO:tensorflow:loss = 0.173193, step = 4302 (0.825 sec)\n",
      "INFO:tensorflow:global_step/sec: 126.912\n",
      "INFO:tensorflow:loss = 0.655605, step = 4402 (0.791 sec)\n",
      "INFO:tensorflow:global_step/sec: 118.35\n",
      "INFO:tensorflow:loss = 0.207511, step = 4502 (0.839 sec)\n",
      "INFO:tensorflow:global_step/sec: 121.218\n",
      "INFO:tensorflow:loss = 0.109521, step = 4602 (0.825 sec)\n",
      "INFO:tensorflow:global_step/sec: 119.481\n",
      "INFO:tensorflow:loss = 0.271676, step = 4702 (0.836 sec)\n",
      "INFO:tensorflow:global_step/sec: 120.634\n",
      "INFO:tensorflow:loss = 0.176222, step = 4802 (0.832 sec)\n",
      "INFO:tensorflow:global_step/sec: 119.055\n",
      "INFO:tensorflow:loss = 0.513657, step = 4902 (0.838 sec)\n",
      "INFO:tensorflow:global_step/sec: 120.054\n",
      "INFO:tensorflow:loss = 0.134567, step = 5002 (0.836 sec)\n",
      "INFO:tensorflow:global_step/sec: 119.481\n",
      "INFO:tensorflow:loss = 0.240938, step = 5102 (0.835 sec)\n",
      "INFO:tensorflow:global_step/sec: 120.199\n",
      "INFO:tensorflow:loss = 0.173659, step = 5202 (0.833 sec)\n",
      "INFO:tensorflow:global_step/sec: 118.071\n",
      "INFO:tensorflow:loss = 0.328757, step = 5302 (0.846 sec)\n",
      "INFO:tensorflow:global_step/sec: 121.366\n",
      "INFO:tensorflow:loss = 0.0959911, step = 5402 (0.825 sec)\n",
      "INFO:tensorflow:global_step/sec: 125.007\n",
      "INFO:tensorflow:loss = 0.351876, step = 5502 (0.806 sec)\n",
      "INFO:tensorflow:global_step/sec: 118.772\n",
      "INFO:tensorflow:loss = 0.168016, step = 5602 (0.835 sec)\n",
      "INFO:tensorflow:global_step/sec: 118.21\n",
      "INFO:tensorflow:loss = 0.376274, step = 5702 (0.846 sec)\n",
      "INFO:tensorflow:global_step/sec: 121.513\n",
      "INFO:tensorflow:loss = 0.0494368, step = 5802 (0.823 sec)\n",
      "INFO:tensorflow:global_step/sec: 120.344\n",
      "INFO:tensorflow:loss = 0.5113, step = 5902 (0.830 sec)\n",
      "INFO:tensorflow:global_step/sec: 121.366\n",
      "INFO:tensorflow:loss = 0.348833, step = 6002 (0.830 sec)\n",
      "INFO:tensorflow:global_step/sec: 119.624\n",
      "INFO:tensorflow:loss = 0.380862, step = 6102 (0.830 sec)\n",
      "INFO:tensorflow:global_step/sec: 120.634\n",
      "INFO:tensorflow:loss = 0.148792, step = 6202 (0.829 sec)\n",
      "INFO:tensorflow:global_step/sec: 126.43\n",
      "INFO:tensorflow:loss = 0.0638392, step = 6302 (0.797 sec)\n",
      "INFO:tensorflow:global_step/sec: 117.102\n",
      "INFO:tensorflow:loss = 0.16487, step = 6402 (0.849 sec)\n",
      "INFO:tensorflow:global_step/sec: 127.721\n",
      "INFO:tensorflow:loss = 0.0748569, step = 6502 (0.786 sec)\n",
      "INFO:tensorflow:global_step/sec: 120.635\n",
      "INFO:tensorflow:loss = 0.146436, step = 6602 (0.827 sec)\n",
      "INFO:tensorflow:global_step/sec: 127.396\n",
      "INFO:tensorflow:loss = 0.0910975, step = 6702 (0.790 sec)\n",
      "INFO:tensorflow:global_step/sec: 116.15\n",
      "INFO:tensorflow:loss = 0.0280681, step = 6802 (0.856 sec)\n",
      "INFO:tensorflow:global_step/sec: 118.631\n",
      "INFO:tensorflow:loss = 0.112977, step = 6902 (0.841 sec)\n",
      "INFO:tensorflow:global_step/sec: 118.771\n",
      "INFO:tensorflow:loss = 0.191336, step = 7002 (0.843 sec)\n",
      "INFO:tensorflow:global_step/sec: 116.556\n",
      "INFO:tensorflow:loss = 0.121523, step = 7102 (0.864 sec)\n",
      "INFO:tensorflow:global_step/sec: 118.913\n",
      "INFO:tensorflow:loss = 0.182466, step = 7202 (0.835 sec)\n",
      "INFO:tensorflow:global_step/sec: 119.196\n",
      "INFO:tensorflow:loss = 0.274117, step = 7302 (0.839 sec)\n",
      "INFO:tensorflow:global_step/sec: 119.48\n",
      "INFO:tensorflow:loss = 0.414283, step = 7402 (0.838 sec)\n",
      "INFO:tensorflow:global_step/sec: 117.931\n",
      "INFO:tensorflow:loss = 0.106082, step = 7502 (0.847 sec)\n",
      "INFO:tensorflow:global_step/sec: 117.654\n",
      "INFO:tensorflow:loss = 0.114797, step = 7602 (0.849 sec)\n",
      "INFO:tensorflow:global_step/sec: 129.206\n",
      "INFO:tensorflow:loss = 0.264233, step = 7702 (0.780 sec)\n",
      "INFO:tensorflow:global_step/sec: 118.07\n",
      "INFO:tensorflow:loss = 0.303901, step = 7802 (0.850 sec)\n",
      "INFO:tensorflow:global_step/sec: 116.83\n",
      "INFO:tensorflow:loss = 0.10568, step = 7902 (0.854 sec)\n",
      "INFO:tensorflow:global_step/sec: 115.214\n",
      "INFO:tensorflow:loss = 0.0786843, step = 8002 (0.863 sec)\n",
      "INFO:tensorflow:global_step/sec: 124.23\n",
      "INFO:tensorflow:loss = 0.162214, step = 8102 (0.808 sec)\n"
     ]
    },
    {
     "name": "stdout",
     "output_type": "stream",
     "text": [
      "INFO:tensorflow:global_step/sec: 116.285\n",
      "INFO:tensorflow:loss = 0.191769, step = 8202 (0.856 sec)\n",
      "INFO:tensorflow:global_step/sec: 122.107\n",
      "INFO:tensorflow:loss = 0.207459, step = 8302 (0.817 sec)\n",
      "INFO:tensorflow:global_step/sec: 122.706\n",
      "INFO:tensorflow:loss = 0.148968, step = 8402 (0.819 sec)\n",
      "INFO:tensorflow:global_step/sec: 132.283\n",
      "INFO:tensorflow:loss = 0.207767, step = 8502 (0.756 sec)\n",
      "INFO:tensorflow:global_step/sec: 122.107\n",
      "INFO:tensorflow:loss = 0.106006, step = 8602 (0.819 sec)\n",
      "INFO:tensorflow:global_step/sec: 120.344\n",
      "INFO:tensorflow:loss = 0.34504, step = 8702 (0.828 sec)\n",
      "INFO:tensorflow:global_step/sec: 120.926\n",
      "INFO:tensorflow:loss = 0.623395, step = 8802 (0.829 sec)\n",
      "INFO:tensorflow:global_step/sec: 122.107\n",
      "INFO:tensorflow:loss = 0.2808, step = 8902 (0.819 sec)\n",
      "INFO:tensorflow:global_step/sec: 131.413\n",
      "INFO:tensorflow:loss = 0.272801, step = 9002 (0.763 sec)\n",
      "INFO:tensorflow:global_step/sec: 122.256\n",
      "INFO:tensorflow:loss = 0.109231, step = 9102 (0.817 sec)\n",
      "INFO:tensorflow:global_step/sec: 122.406\n",
      "INFO:tensorflow:loss = 0.140153, step = 9202 (0.815 sec)\n",
      "INFO:tensorflow:global_step/sec: 121.514\n",
      "INFO:tensorflow:loss = 0.49784, step = 9302 (0.824 sec)\n",
      "INFO:tensorflow:global_step/sec: 120.488\n",
      "INFO:tensorflow:loss = 0.104744, step = 9402 (0.830 sec)\n",
      "INFO:tensorflow:global_step/sec: 121.219\n",
      "INFO:tensorflow:loss = 0.33561, step = 9502 (0.824 sec)\n",
      "INFO:tensorflow:global_step/sec: 121.959\n",
      "INFO:tensorflow:loss = 0.255355, step = 9602 (0.820 sec)\n",
      "INFO:tensorflow:global_step/sec: 126.109\n",
      "INFO:tensorflow:loss = 0.132352, step = 9702 (0.797 sec)\n",
      "INFO:tensorflow:global_step/sec: 121.073\n",
      "INFO:tensorflow:loss = 0.249381, step = 9802 (0.822 sec)\n",
      "INFO:tensorflow:global_step/sec: 91.1625\n",
      "INFO:tensorflow:loss = 0.66491, step = 9902 (1.147 sec)\n",
      "INFO:tensorflow:Saving checkpoints for 10001 into C:\\Users\\Brothers\\AppData\\Local\\Temp\\tmpdp7yce1d\\model.ckpt.\n",
      "INFO:tensorflow:Loss for final step: 0.171877.\n"
     ]
    },
    {
     "data": {
      "text/plain": [
       "<tensorflow.python.estimator.canned.dnn.DNNRegressor at 0x1d479e2c4a8>"
      ]
     },
     "execution_count": 308,
     "metadata": {},
     "output_type": "execute_result"
    }
   ],
   "source": [
    "model.train(input_fn=train_fn, steps=10000)"
   ]
  },
  {
   "cell_type": "code",
   "execution_count": 309,
   "metadata": {},
   "outputs": [
    {
     "name": "stdout",
     "output_type": "stream",
     "text": [
      "INFO:tensorflow:Starting evaluation at 2019-04-27-14:49:11\n",
      "INFO:tensorflow:Restoring parameters from C:\\Users\\Brothers\\AppData\\Local\\Temp\\tmpdp7yce1d\\model.ckpt-10001\n",
      "INFO:tensorflow:Finished evaluation at 2019-04-27-14:49:21\n",
      "INFO:tensorflow:Saving dict for global step 10001: average_loss = 5.61234e+10, global_step = 10001, loss = 5.6051e+11\n"
     ]
    }
   ],
   "source": [
    "model.evaluate(input_fn=eval_fn);"
   ]
  },
  {
   "cell_type": "code",
   "execution_count": 310,
   "metadata": {},
   "outputs": [],
   "source": [
    "pred_fn=tf.estimator.inputs.pandas_input_fn(testx, num_epochs=1, shuffle=False, batch_size=10)"
   ]
  },
  {
   "cell_type": "code",
   "execution_count": 311,
   "metadata": {},
   "outputs": [],
   "source": [
    "pred_dict=model.predict(input_fn= pred_fn);"
   ]
  },
  {
   "cell_type": "code",
   "execution_count": 312,
   "metadata": {},
   "outputs": [
    {
     "name": "stdout",
     "output_type": "stream",
     "text": [
      "INFO:tensorflow:Restoring parameters from C:\\Users\\Brothers\\AppData\\Local\\Temp\\tmpdp7yce1d\\model.ckpt-10001\n"
     ]
    }
   ],
   "source": [
    "predictions=[]\n",
    "for pred in pred_dict:\n",
    "    predictions.append(pred['predictions'])\n",
    "    "
   ]
  },
  {
   "cell_type": "code",
   "execution_count": 313,
   "metadata": {},
   "outputs": [
    {
     "data": {
      "text/plain": [
       "6192"
      ]
     },
     "execution_count": 313,
     "metadata": {},
     "output_type": "execute_result"
    }
   ],
   "source": [
    "len(predictions)"
   ]
  },
  {
   "cell_type": "markdown",
   "metadata": {},
   "source": [
    "# RMSE"
   ]
  },
  {
   "cell_type": "code",
   "execution_count": 314,
   "metadata": {
    "collapsed": true
   },
   "outputs": [],
   "source": [
    "from sklearn.metrics import mean_squared_error"
   ]
  },
  {
   "cell_type": "code",
   "execution_count": 315,
   "metadata": {},
   "outputs": [
    {
     "data": {
      "text/plain": [
       "236903.79600041491"
      ]
     },
     "execution_count": 315,
     "metadata": {},
     "output_type": "execute_result"
    }
   ],
   "source": [
    "mean_squared_error(testy, predictions)**0.5"
   ]
  },
  {
   "cell_type": "code",
   "execution_count": 263,
   "metadata": {},
   "outputs": [
    {
     "data": {
      "text/html": [
       "<div>\n",
       "<style>\n",
       "    .dataframe thead tr:only-child th {\n",
       "        text-align: right;\n",
       "    }\n",
       "\n",
       "    .dataframe thead th {\n",
       "        text-align: left;\n",
       "    }\n",
       "\n",
       "    .dataframe tbody tr th {\n",
       "        vertical-align: top;\n",
       "    }\n",
       "</style>\n",
       "<table border=\"1\" class=\"dataframe\">\n",
       "  <thead>\n",
       "    <tr style=\"text-align: right;\">\n",
       "      <th></th>\n",
       "      <th>count</th>\n",
       "      <th>mean</th>\n",
       "      <th>std</th>\n",
       "      <th>min</th>\n",
       "      <th>25%</th>\n",
       "      <th>50%</th>\n",
       "      <th>75%</th>\n",
       "      <th>max</th>\n",
       "    </tr>\n",
       "  </thead>\n",
       "  <tbody>\n",
       "    <tr>\n",
       "      <th>housingMedianAge</th>\n",
       "      <td>20640.0</td>\n",
       "      <td>28.639486</td>\n",
       "      <td>12.585558</td>\n",
       "      <td>1.0000</td>\n",
       "      <td>18.0000</td>\n",
       "      <td>29.0000</td>\n",
       "      <td>37.00000</td>\n",
       "      <td>52.0000</td>\n",
       "    </tr>\n",
       "    <tr>\n",
       "      <th>totalRooms</th>\n",
       "      <td>20640.0</td>\n",
       "      <td>2635.763081</td>\n",
       "      <td>2181.615252</td>\n",
       "      <td>2.0000</td>\n",
       "      <td>1447.7500</td>\n",
       "      <td>2127.0000</td>\n",
       "      <td>3148.00000</td>\n",
       "      <td>39320.0000</td>\n",
       "    </tr>\n",
       "    <tr>\n",
       "      <th>totalBedrooms</th>\n",
       "      <td>20640.0</td>\n",
       "      <td>537.898014</td>\n",
       "      <td>421.247906</td>\n",
       "      <td>1.0000</td>\n",
       "      <td>295.0000</td>\n",
       "      <td>435.0000</td>\n",
       "      <td>647.00000</td>\n",
       "      <td>6445.0000</td>\n",
       "    </tr>\n",
       "    <tr>\n",
       "      <th>population</th>\n",
       "      <td>20640.0</td>\n",
       "      <td>1425.476744</td>\n",
       "      <td>1132.462122</td>\n",
       "      <td>3.0000</td>\n",
       "      <td>787.0000</td>\n",
       "      <td>1166.0000</td>\n",
       "      <td>1725.00000</td>\n",
       "      <td>35682.0000</td>\n",
       "    </tr>\n",
       "    <tr>\n",
       "      <th>households</th>\n",
       "      <td>20640.0</td>\n",
       "      <td>499.539680</td>\n",
       "      <td>382.329753</td>\n",
       "      <td>1.0000</td>\n",
       "      <td>280.0000</td>\n",
       "      <td>409.0000</td>\n",
       "      <td>605.00000</td>\n",
       "      <td>6082.0000</td>\n",
       "    </tr>\n",
       "    <tr>\n",
       "      <th>medianIncome</th>\n",
       "      <td>20640.0</td>\n",
       "      <td>3.870671</td>\n",
       "      <td>1.899822</td>\n",
       "      <td>0.4999</td>\n",
       "      <td>2.5634</td>\n",
       "      <td>3.5348</td>\n",
       "      <td>4.74325</td>\n",
       "      <td>15.0001</td>\n",
       "    </tr>\n",
       "    <tr>\n",
       "      <th>medianHouseValue</th>\n",
       "      <td>20640.0</td>\n",
       "      <td>206855.816909</td>\n",
       "      <td>115395.615874</td>\n",
       "      <td>14999.0000</td>\n",
       "      <td>119600.0000</td>\n",
       "      <td>179700.0000</td>\n",
       "      <td>264725.00000</td>\n",
       "      <td>500001.0000</td>\n",
       "    </tr>\n",
       "  </tbody>\n",
       "</table>\n",
       "</div>"
      ],
      "text/plain": [
       "                    count           mean            std         min  \\\n",
       "housingMedianAge  20640.0      28.639486      12.585558      1.0000   \n",
       "totalRooms        20640.0    2635.763081    2181.615252      2.0000   \n",
       "totalBedrooms     20640.0     537.898014     421.247906      1.0000   \n",
       "population        20640.0    1425.476744    1132.462122      3.0000   \n",
       "households        20640.0     499.539680     382.329753      1.0000   \n",
       "medianIncome      20640.0       3.870671       1.899822      0.4999   \n",
       "medianHouseValue  20640.0  206855.816909  115395.615874  14999.0000   \n",
       "\n",
       "                          25%          50%           75%          max  \n",
       "housingMedianAge      18.0000      29.0000      37.00000      52.0000  \n",
       "totalRooms          1447.7500    2127.0000    3148.00000   39320.0000  \n",
       "totalBedrooms        295.0000     435.0000     647.00000    6445.0000  \n",
       "population           787.0000    1166.0000    1725.00000   35682.0000  \n",
       "households           280.0000     409.0000     605.00000    6082.0000  \n",
       "medianIncome           2.5634       3.5348       4.74325      15.0001  \n",
       "medianHouseValue  119600.0000  179700.0000  264725.00000  500001.0000  "
      ]
     },
     "execution_count": 263,
     "metadata": {},
     "output_type": "execute_result"
    }
   ],
   "source": [
    "my_data.describe().transpose()"
   ]
  },
  {
   "cell_type": "code",
   "execution_count": null,
   "metadata": {
    "collapsed": true
   },
   "outputs": [],
   "source": []
  }
 ],
 "metadata": {
  "kernelspec": {
   "display_name": "Python 3",
   "language": "python",
   "name": "python3"
  },
  "language_info": {
   "codemirror_mode": {
    "name": "ipython",
    "version": 3
   },
   "file_extension": ".py",
   "mimetype": "text/x-python",
   "name": "python",
   "nbconvert_exporter": "python",
   "pygments_lexer": "ipython3",
   "version": "3.5.4"
  }
 },
 "nbformat": 4,
 "nbformat_minor": 2
}
