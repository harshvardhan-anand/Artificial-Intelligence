{
 "cells": [
  {
   "cell_type": "code",
   "execution_count": 1,
   "metadata": {},
   "outputs": [],
   "source": [
    "import cv2"
   ]
  },
  {
   "cell_type": "code",
   "execution_count": 33,
   "metadata": {
    "collapsed": true
   },
   "outputs": [],
   "source": [
    "cap = cv2.VideoCapture(0)"
   ]
  },
  {
   "cell_type": "code",
   "execution_count": 34,
   "metadata": {
    "collapsed": true
   },
   "outputs": [],
   "source": [
    "# Writer\n",
    "\n",
    "# cv2.VideoWriter( filename, fourcc, fps, frameSize )\n",
    "\n",
    "# filename\tName of the output video file.\n",
    "# fourcc\tvideo codec differnt for linux, mac and windows\n",
    "# fps\tFramerate of the created video stream.\n",
    "# frameSize\tSize of the video frames.\n",
    "# isColor\tIf it is not zero, the encoder will expect and encode color frames, otherwise it will work with grayscale frames \n",
    "#         (the flag is currently supported on Windows only).\n",
    "\n",
    "# higher the fps higher is the file size. High fps means high is the quality of video i.e more details are captured\n",
    "width = int(cap.get(cv2.CAP_PROP_FRAME_WIDTH))\n",
    "height = int(cap.get(cv2.CAP_PROP_FRAME_HEIGHT))\n",
    "codec = cv2.VideoWriter_fourcc(*'DIVX')\n",
    "writer = cv2.VideoWriter('firstrecording.avi', codec, 20, (width, height))\n",
    "# DIVX encodes for .avi file type"
   ]
  },
  {
   "cell_type": "code",
   "execution_count": 35,
   "metadata": {
    "collapsed": true
   },
   "outputs": [],
   "source": [
    "# in while loop show video until break\n",
    "while True:\n",
    "    ret, frame = cap.read()\n",
    "    \n",
    "    #writing\n",
    "    writer.write(frame)\n",
    "    \n",
    "    cv2.imshow('Video', frame)\n",
    "    if (cv2.waitKey(1)&0xFF)==27:\n",
    "        break\n",
    "\n",
    "# release recoder, writer, destroyAll\n",
    "cap.release()\n",
    "writer.release()\n",
    "cv2.destroyAllWindows()"
   ]
  },
  {
   "cell_type": "code",
   "execution_count": null,
   "metadata": {
    "collapsed": true
   },
   "outputs": [],
   "source": [
    "# we need to run all cells in a  row then only this last cell(above) will work"
   ]
  },
  {
   "cell_type": "code",
   "execution_count": 32,
   "metadata": {
    "collapsed": true
   },
   "outputs": [],
   "source": [
    "cap.release()\n",
    "writer.release()"
   ]
  },
  {
   "cell_type": "code",
   "execution_count": null,
   "metadata": {
    "collapsed": true
   },
   "outputs": [],
   "source": []
  }
 ],
 "metadata": {
  "kernelspec": {
   "display_name": "Python 3",
   "language": "python",
   "name": "python3"
  },
  "language_info": {
   "codemirror_mode": {
    "name": "ipython",
    "version": 3
   },
   "file_extension": ".py",
   "mimetype": "text/x-python",
   "name": "python",
   "nbconvert_exporter": "python",
   "pygments_lexer": "ipython3",
   "version": "3.7.6"
  }
 },
 "nbformat": 4,
 "nbformat_minor": 2
}
