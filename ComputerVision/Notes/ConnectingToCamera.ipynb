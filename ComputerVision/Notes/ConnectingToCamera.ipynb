{
 "cells": [
  {
   "cell_type": "code",
   "execution_count": 2,
   "metadata": {},
   "outputs": [],
   "source": [
    "import cv2"
   ]
  },
  {
   "cell_type": "code",
   "execution_count": 3,
   "metadata": {},
   "outputs": [],
   "source": [
    "# if access to the camera is denied by the system then we will get error saying src is empty \" error: (-215:Assertion failed)!_src.empty() in function 'cv::cvtColor'\"\n",
    "# so allow access to chrome or brwser you are using to run the .py file of .ipynb file to use camera.\n",
    "# You can also find this error if you have antivirus blocking use of camera.So stop it also.\n",
    "\n",
    "capture = cv2.VideoCapture(0) # \"0\" means use default camera\n",
    "                              # \"1\" means use camera connected to port\n",
    "\n",
    "width = capture.get(cv2.CAP_PROP_FRAME_WIDTH)\n",
    "height = capture.get(cv2.CAP_PROP_FRAME_HEIGHT)\n",
    "\n",
    "while True:\n",
    "#   ret is true if capturing\n",
    "    ret, frame = capture.read()\n",
    "#     print(ret)\n",
    "    #convert to balck and white\n",
    "    grayscalevideo = cv2.cvtColor(frame, cv2.COLOR_BGR2GRAY)\n",
    "    cv2.imshow('frame', grayscalevideo)\n",
    "    \n",
    "    if (cv2.waitKey(1)& 0xFF) == 27:\n",
    "        break\n",
    "        \n",
    "(capture.release())  #release camera i.e do not use camera\n",
    "cv2.destroyAllWindows()"
   ]
  },
  {
   "cell_type": "markdown",
   "metadata": {},
   "source": [
    "capture.release()"
   ]
  },
  {
   "cell_type": "code",
   "execution_count": null,
   "metadata": {},
   "outputs": [],
   "source": []
  }
 ],
 "metadata": {
  "kernelspec": {
   "display_name": "Python 3",
   "language": "python",
   "name": "python3"
  },
  "language_info": {
   "codemirror_mode": {
    "name": "ipython",
    "version": 3
   },
   "file_extension": ".py",
   "mimetype": "text/x-python",
   "name": "python",
   "nbconvert_exporter": "python",
   "pygments_lexer": "ipython3",
   "version": "3.7.1"
  }
 },
 "nbformat": 4,
 "nbformat_minor": 2
}
