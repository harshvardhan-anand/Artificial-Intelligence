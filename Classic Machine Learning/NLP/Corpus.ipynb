{
 "cells": [
  {
   "cell_type": "code",
   "execution_count": 19,
   "metadata": {},
   "outputs": [],
   "source": [
    "from nltk.corpus import gutenberg\n",
    "from nltk import Text"
   ]
  },
  {
   "cell_type": "code",
   "execution_count": 7,
   "metadata": {},
   "outputs": [
    {
     "data": {
      "text/plain": [
       "['austen-emma.txt',\n",
       " 'austen-persuasion.txt',\n",
       " 'austen-sense.txt',\n",
       " 'bible-kjv.txt',\n",
       " 'blake-poems.txt',\n",
       " 'bryant-stories.txt',\n",
       " 'burgess-busterbrown.txt',\n",
       " 'carroll-alice.txt',\n",
       " 'chesterton-ball.txt',\n",
       " 'chesterton-brown.txt',\n",
       " 'chesterton-thursday.txt',\n",
       " 'edgeworth-parents.txt',\n",
       " 'melville-moby_dick.txt',\n",
       " 'milton-paradise.txt',\n",
       " 'shakespeare-caesar.txt',\n",
       " 'shakespeare-hamlet.txt',\n",
       " 'shakespeare-macbeth.txt',\n",
       " 'whitman-leaves.txt']"
      ]
     },
     "execution_count": 7,
     "metadata": {},
     "output_type": "execute_result"
    }
   ],
   "source": [
    "gutenberg.fileids()"
   ]
  },
  {
   "cell_type": "code",
   "execution_count": 20,
   "metadata": {},
   "outputs": [],
   "source": [
    "emma = Text(gutenberg.words('austen-emma.txt'))"
   ]
  },
  {
   "cell_type": "code",
   "execution_count": 23,
   "metadata": {},
   "outputs": [
    {
     "name": "stdout",
     "output_type": "stream",
     "text": [
      "Displaying 24 of 24 matches:\n",
      "t returned from a long visit in the country to some young ladies who had been a\n",
      "e for his wool than any body in the country . She believed every body spoke wel\n",
      "that if you should still be in this country when Mr . Martin marries , I wish y\n",
      " Robert Martin ' s riding about the country to get walnuts for her might very w\n",
      "ish to have you settled in the same country and circle which they have chosen t\n",
      "le of the time they can give to the country , that two or three days are not to\n",
      "t he is always wanted all round the country . I suppose there is not a man in s\n",
      "g faces shewed all the benefit of a country run , and seemed to ensure a quick \n",
      "ublin , and take them back to their country seat , Baly - craig , a beautiful p\n",
      "ys felt the sort of interest in the country which none but one ' s _own_ countr\n",
      "ountry which none but one ' s _own_ country gives , and the greatest curiosity \n",
      "el . On their first coming into the country , they had lived in proportion to t\n",
      "r family , a proper unobjectionable country family , whom the Coles had the adv\n",
      "ace . Mrs . Weston , capital in her country - dances , was seated , and beginni\n",
      "; and Mrs . Weston is the very best country - dance player , without exception \n",
      ", \" When you have seen more of this country , I am afraid you will think you ha\n",
      ". When people come into a beautiful country of this sort , you know , Miss Wood\n",
      "he world , to enliven and improve a country neighbourhood ; and conceived Miss \n",
      " fashion . If this is living in the country , it is nothing very formidable . F\n",
      "gh in herself to be qualified for a country life . I always say a woman cannot \n",
      "im about purchasing a donkey . In a country life I conceive it to be a sort of \n",
      "n , when one is exploring about the country in summer . Miss Woodhouse must exc\n",
      "urchill that had taken him from the country .-- The Box Hill party had decided \n",
      "lf .-- I have been walking over the country , and am now , I hope , rational en\n"
     ]
    }
   ],
   "source": [
    "emma.concordance('country')"
   ]
  },
  {
   "cell_type": "code",
   "execution_count": null,
   "metadata": {},
   "outputs": [],
   "source": []
  }
 ],
 "metadata": {
  "kernelspec": {
   "display_name": "Python 3",
   "language": "python",
   "name": "python3"
  },
  "language_info": {
   "codemirror_mode": {
    "name": "ipython",
    "version": 3
   },
   "file_extension": ".py",
   "mimetype": "text/x-python",
   "name": "python",
   "nbconvert_exporter": "python",
   "pygments_lexer": "ipython3",
   "version": "3.7.6"
  }
 },
 "nbformat": 4,
 "nbformat_minor": 4
}
