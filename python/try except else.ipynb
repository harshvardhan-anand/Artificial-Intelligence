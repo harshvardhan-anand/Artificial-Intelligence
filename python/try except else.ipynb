{
 "cells": [
  {
   "cell_type": "code",
   "execution_count": null,
   "metadata": {},
   "outputs": [],
   "source": [
    "\n",
    "    #user phone number\n",
    "    while True:\n",
    "        try:\n",
    "            phone=int(input(\"Enter your phone number\"))\n",
    "        except ValueError:\n",
    "            print(\"Wrong Input:\\n\")\n",
    "        else:\n",
    "            phone=str(phone)\n",
    "            if len(phone)==10 and phone[0]!=0:\n",
    "                break\n",
    "            else:\n",
    "                print(\"Wrong input\")\n",
    "                continue"
   ]
  },
  {
   "cell_type": "code",
   "execution_count": null,
   "metadata": {},
   "outputs": [],
   "source": [
    "while True:\n",
    "    try:\n",
    "        phone=int(input(\"Enter your phone number\"))\n",
    "    except ValueError:\n",
    "        print(\"not a integer\")\n",
    "        continue\n",
    "    else:\n",
    "        break"
   ]
  }
 ],
 "metadata": {
  "kernelspec": {
   "display_name": "Python 3",
   "language": "python",
   "name": "python3"
  },
  "language_info": {
   "codemirror_mode": {
    "name": "ipython",
    "version": 3
   },
   "file_extension": ".py",
   "mimetype": "text/x-python",
   "name": "python",
   "nbconvert_exporter": "python",
   "pygments_lexer": "ipython3",
   "version": "3.7.1"
  }
 },
 "nbformat": 4,
 "nbformat_minor": 2
}
