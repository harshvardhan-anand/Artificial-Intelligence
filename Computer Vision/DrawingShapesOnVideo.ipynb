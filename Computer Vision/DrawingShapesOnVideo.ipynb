{
 "cells": [
  {
   "cell_type": "code",
   "execution_count": 2,
   "metadata": {},
   "outputs": [],
   "source": [
    "import cv2"
   ]
  },
  {
   "cell_type": "code",
   "execution_count": 9,
   "metadata": {},
   "outputs": [
    {
     "name": "stdout",
     "output_type": "stream",
     "text": [
      "Created Window\n",
      "Entered while loop\n",
      "circle ready\n"
     ]
    }
   ],
   "source": [
    "cap = cv2.VideoCapture(0)\n",
    "\n",
    "# draw function\n",
    "x1=0\n",
    "y1=0\n",
    "def draw(event, x, y, flags, params):\n",
    "    global x1, y1\n",
    "    if event == cv2.EVENT_LBUTTONDOWN:\n",
    "        x1 = x\n",
    "        y1 = y\n",
    "\n",
    "# connect to the callback function\n",
    "print(\"Created Window\")\n",
    "cv2.namedWindow(winname='window')\n",
    "cv2.setMouseCallback(\"window\", draw)\n",
    "\n",
    "# while loop\n",
    "x = 1\n",
    "while True:\n",
    "    if x:\n",
    "        print(\"Entered while loop\")\n",
    "        \n",
    "    # read from capture\n",
    "    ret, frame = cap.read()  # this is a slow operation in my computer\n",
    "    \n",
    "    # draw circle\n",
    "    if x:\n",
    "        print(\"circle ready\")\n",
    "        x = 0    \n",
    "#                                   channel = (B, R, G)\n",
    "    cv2.circle(frame, (x1, y1), 10, color=(255, 0, 0), thickness=1)\n",
    "    \n",
    "    # show window\n",
    "    cv2.imshow('window', frame)\n",
    "    \n",
    "    # close if esc is pressed\n",
    "    if cv2.waitKey(1) & 0xFF == 27:\n",
    "        break\n",
    "        \n",
    "# release capture\n",
    "cap.release()\n",
    "# destroy all windows\n",
    "cv2.destroyAllWindows()"
   ]
  },
  {
   "cell_type": "code",
   "execution_count": null,
   "metadata": {},
   "outputs": [],
   "source": []
  }
 ],
 "metadata": {
  "kernelspec": {
   "display_name": "Python 3",
   "language": "python",
   "name": "python3"
  },
  "language_info": {
   "codemirror_mode": {
    "name": "ipython",
    "version": 3
   },
   "file_extension": ".py",
   "mimetype": "text/x-python",
   "name": "python",
   "nbconvert_exporter": "python",
   "pygments_lexer": "ipython3",
   "version": "3.7.1"
  }
 },
 "nbformat": 4,
 "nbformat_minor": 2
}
