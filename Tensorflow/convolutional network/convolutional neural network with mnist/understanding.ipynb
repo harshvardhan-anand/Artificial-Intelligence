{
 "cells": [
  {
   "cell_type": "code",
   "execution_count": 1,
   "metadata": {
    "collapsed": true
   },
   "outputs": [],
   "source": [
    "import tensorflow as tf"
   ]
  },
  {
   "cell_type": "code",
   "execution_count": 2,
   "metadata": {
    "collapsed": true
   },
   "outputs": [],
   "source": [
    "x = tf.constant(0.1, shape = [6,6,1,32])"
   ]
  },
  {
   "cell_type": "code",
   "execution_count": 11,
   "metadata": {},
   "outputs": [
    {
     "data": {
      "text/plain": [
       "Dimension(6)"
      ]
     },
     "execution_count": 11,
     "metadata": {},
     "output_type": "execute_result"
    }
   ],
   "source": [
    "x.get_shape()[1]\n",
    "#x.shape"
   ]
  },
  {
   "cell_type": "code",
   "execution_count": 27,
   "metadata": {},
   "outputs": [
    {
     "name": "stdout",
     "output_type": "stream",
     "text": [
      "32\n",
      "1\n",
      "6\n"
     ]
    },
    {
     "data": {
      "text/plain": [
       "array([ 0.1,  0.1,  0.1,  0.1,  0.1,  0.1,  0.1,  0.1,  0.1,  0.1,  0.1,\n",
       "        0.1,  0.1,  0.1,  0.1,  0.1,  0.1,  0.1,  0.1,  0.1,  0.1,  0.1,\n",
       "        0.1,  0.1,  0.1,  0.1,  0.1,  0.1,  0.1,  0.1,  0.1,  0.1], dtype=float32)"
      ]
     },
     "execution_count": 27,
     "metadata": {},
     "output_type": "execute_result"
    }
   ],
   "source": [
    "with tf.Session() as sess:\n",
    "    k = sess.run(x)\n",
    "print(len(k[0][0][0]))\n",
    "print(len(k[0][0]))\n",
    "print(len(k[0]))\n",
    "k[0][0][0]"
   ]
  },
  {
   "cell_type": "code",
   "execution_count": 18,
   "metadata": {
    "collapsed": true
   },
   "outputs": [],
   "source": [
    "x = tf.constant(0.1, shape = [1])"
   ]
  },
  {
   "cell_type": "code",
   "execution_count": 19,
   "metadata": {},
   "outputs": [
    {
     "data": {
      "text/plain": [
       "array([ 0.1], dtype=float32)"
      ]
     },
     "execution_count": 19,
     "metadata": {},
     "output_type": "execute_result"
    }
   ],
   "source": [
    "with tf.Session() as sess:\n",
    "    l = sess.run(x)\n",
    "\n",
    "l"
   ]
  },
  {
   "cell_type": "code",
   "execution_count": 51,
   "metadata": {},
   "outputs": [
    {
     "name": "stdout",
     "output_type": "stream",
     "text": [
      "x:\n",
      " [[1 1 1]\n",
      " [1 1 1]] \n",
      " \n",
      " y:\n",
      " [[1 1 1]\n",
      " [1 1 1]\n",
      " [1 1 1]] \n",
      "printed\n",
      "\n",
      " \n",
      " [[4 4 4]\n",
      " [4 4 4]]\n"
     ]
    }
   ],
   "source": [
    "x = tf.Variable(tf.constant(1, shape = [2,3]) )\n",
    "y = tf.Variable(tf.constant(1, shape = [3,3]))\n",
    "b = tf.Variable(tf.constant(1, shape = [1]))\n",
    "\n",
    "init = tf.global_variables_initializer()\n",
    "\n",
    "with tf.Session() as sess:\n",
    "    sess.run(init)\n",
    "    x = sess.run(x)\n",
    "    y = sess.run(y)\n",
    "    b = sess.run(b)\n",
    "    print('x:\\n',x,'\\n','\\n','y:\\n',y,'\\nprinted'\n",
    "         )\n",
    "          \n",
    "    z = tf.matmul(x,y)\n",
    "    #z = tf.matmul(x,y)+b\n",
    "    z = z + b\n",
    "    z = sess.run(z)\n",
    "\n",
    "print('\\n','\\n',z)"
   ]
  },
  {
   "cell_type": "code",
   "execution_count": null,
   "metadata": {
    "collapsed": true
   },
   "outputs": [],
   "source": []
  }
 ],
 "metadata": {
  "kernelspec": {
   "display_name": "Python 3",
   "language": "python",
   "name": "python3"
  },
  "language_info": {
   "codemirror_mode": {
    "name": "ipython",
    "version": 3
   },
   "file_extension": ".py",
   "mimetype": "text/x-python",
   "name": "python",
   "nbconvert_exporter": "python",
   "pygments_lexer": "ipython3",
   "version": "3.5.4"
  }
 },
 "nbformat": 4,
 "nbformat_minor": 2
}
