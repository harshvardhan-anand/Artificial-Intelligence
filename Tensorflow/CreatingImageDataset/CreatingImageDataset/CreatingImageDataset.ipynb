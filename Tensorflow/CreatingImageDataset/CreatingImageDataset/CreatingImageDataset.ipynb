{
 "cells": [
  {
   "cell_type": "markdown",
   "metadata": {},
   "source": [
    "# Creating image dataset\n",
    "1. get the path of image directory\n",
    "2. find the number of total images\n",
    "3. get the name of all the sub directory in the file as they are the name of classes\n",
    "4. create image generator, here we can normalise the data, and can do data augumentation\n",
    "5. create a flow from directory (generator)"
   ]
  },
  {
   "cell_type": "code",
   "execution_count": 0,
   "metadata": {
    "colab": {},
    "colab_type": "code",
    "id": "DqKs_HGNo-61"
   },
   "outputs": [],
   "source": [
    "import tensorflow as tf\n",
    "import pandas as pd\n",
    "import numpy as np\n",
    "import matplotlib.pyplot as plt\n",
    "from tensorflow import keras"
   ]
  },
  {
   "cell_type": "code",
   "execution_count": 0,
   "metadata": {
    "colab": {},
    "colab_type": "code",
    "id": "j3swzddtsKkM"
   },
   "outputs": [],
   "source": [
    "import zipfile as zf"
   ]
  },
  {
   "cell_type": "code",
   "execution_count": 0,
   "metadata": {
    "colab": {},
    "colab_type": "code",
    "id": "h3ks9LNotUt2"
   },
   "outputs": [],
   "source": [
    "!rm -rf /content/data  # for deleting a non empty file"
   ]
  },
  {
   "cell_type": "code",
   "execution_count": 0,
   "metadata": {
    "colab": {},
    "colab_type": "code",
    "id": "9mjYiGZzs0hN"
   },
   "outputs": [],
   "source": [
    "with zf.ZipFile('/content/data.zip', 'r') as file:\n",
    "  file.extractall('/content')"
   ]
  },
  {
   "cell_type": "code",
   "execution_count": 0,
   "metadata": {
    "colab": {},
    "colab_type": "code",
    "id": "TV9RpMFztvdk"
   },
   "outputs": [],
   "source": [
    "import pathlib \n",
    "from PIL import Image"
   ]
  },
  {
   "cell_type": "code",
   "execution_count": 0,
   "metadata": {
    "colab": {},
    "colab_type": "code",
    "id": "T8kzVSd_wHx4"
   },
   "outputs": [],
   "source": [
    "dir = pathlib.Path('/content/data')"
   ]
  },
  {
   "cell_type": "code",
   "execution_count": 0,
   "metadata": {
    "colab": {},
    "colab_type": "code",
    "id": "QwKNgiw1VpCB"
   },
   "outputs": [],
   "source": [
    "pwd"
   ]
  },
  {
   "cell_type": "code",
   "execution_count": 65,
   "metadata": {
    "colab": {
     "base_uri": "https://localhost:8080/",
     "height": 34
    },
    "colab_type": "code",
    "id": "oz8SAD6BwjUw",
    "outputId": "8e952bc4-3597-4acc-c866-d4b23f9d5af7"
   },
   "outputs": [
    {
     "data": {
      "text/plain": [
       "[PosixPath('/content/data/recordA'), PosixPath('/content/data/recordB')]"
      ]
     },
     "execution_count": 65,
     "metadata": {
      "tags": []
     },
     "output_type": "execute_result"
    }
   ],
   "source": [
    "list(dir.glob('*')) # list all files in the content/data"
   ]
  },
  {
   "cell_type": "code",
   "execution_count": 0,
   "metadata": {
    "colab": {},
    "colab_type": "code",
    "id": "ECEXt1uZyYn3"
   },
   "outputs": [],
   "source": [
    "class_names = list(dir.glob('*'))"
   ]
  },
  {
   "cell_type": "code",
   "execution_count": 49,
   "metadata": {
    "colab": {
     "base_uri": "https://localhost:8080/",
     "height": 34
    },
    "colab_type": "code",
    "id": "Aj9QpdYr1xBk",
    "outputId": "0218c479-8f02-4f11-ba26-3e8e8667f571"
   },
   "outputs": [
    {
     "data": {
      "text/plain": [
       "2"
      ]
     },
     "execution_count": 49,
     "metadata": {
      "tags": []
     },
     "output_type": "execute_result"
    }
   ],
   "source": [
    "len_class = len(class_names)\n",
    "len_class"
   ]
  },
  {
   "cell_type": "code",
   "execution_count": 0,
   "metadata": {
    "colab": {},
    "colab_type": "code",
    "id": "nIL_Joy970Ly"
   },
   "outputs": [],
   "source": [
    "# class_names = np.array(class_names)   # for image generator we need to provide class\n",
    "                                      # names in form of list so this statement is of no use"
   ]
  },
  {
   "cell_type": "markdown",
   "metadata": {
    "colab_type": "text",
    "id": "l118ZuA_8DNN"
   },
   "source": [
    "# Loading data using keras.preprocessing"
   ]
  },
  {
   "cell_type": "code",
   "execution_count": 0,
   "metadata": {
    "colab": {},
    "colab_type": "code",
    "id": "5M55TrJ-8sX9"
   },
   "outputs": [],
   "source": [
    "# rescaling images between 0 and 1 (why? because neural network can easily handle )\n",
    "image_generator = tf.keras.preprocessing.image.ImageDataGenerator(rescale=1./255)"
   ]
  },
  {
   "cell_type": "code",
   "execution_count": 0,
   "metadata": {
    "colab": {},
    "colab_type": "code",
    "id": "i8rySolL85nt"
   },
   "outputs": [],
   "source": [
    "batch_size = 1\n",
    "img_height = 1000\n",
    "img_width = 1000\n",
    "steps_per_epoch = 10"
   ]
  },
  {
   "cell_type": "code",
   "execution_count": 79,
   "metadata": {
    "colab": {
     "base_uri": "https://localhost:8080/",
     "height": 34
    },
    "colab_type": "code",
    "id": "R_yHZVLxA3-0",
    "outputId": "c43c0ca8-d946-4586-aaed-13a3b5580862"
   },
   "outputs": [
    {
     "data": {
      "text/plain": [
       "'/content/data'"
      ]
     },
     "execution_count": 79,
     "metadata": {
      "tags": []
     },
     "output_type": "execute_result"
    }
   ],
   "source": [
    "str(dir)"
   ]
  },
  {
   "cell_type": "code",
   "execution_count": 80,
   "metadata": {
    "colab": {
     "base_uri": "https://localhost:8080/",
     "height": 34
    },
    "colab_type": "code",
    "id": "cL-PAt30_lOL",
    "outputId": "bcaaa9a0-9764-4f12-f0b0-15d32a749637"
   },
   "outputs": [
    {
     "name": "stdout",
     "output_type": "stream",
     "text": [
      "Found 19 images belonging to 2 classes.\n"
     ]
    }
   ],
   "source": [
    "train_data_gen =  image_generator.flow_from_directory(directory=str(dir), batch_size = batch_size, \n",
    "                                                       color_mode='rgb',\n",
    "                                                       class_mode='binary', seed=34, \n",
    "                                                       target_size=(img_height, img_width))"
   ]
  },
  {
   "cell_type": "code",
   "execution_count": 89,
   "metadata": {
    "colab": {
     "base_uri": "https://localhost:8080/",
     "height": 867
    },
    "colab_type": "code",
    "id": "tqR1mRu2mJk1",
    "outputId": "1cd6e526-cf7b-4af7-de27-2caee70191e7"
   },
   "outputs": [
    {
     "data": {
      "text/plain": [
       "(array([[[[0.8705883 , 0.882353  , 0.90196085],\n",
       "          [0.8705883 , 0.882353  , 0.90196085],\n",
       "          [0.8705883 , 0.882353  , 0.90196085],\n",
       "          ...,\n",
       "          [0.8705883 , 0.882353  , 0.90196085],\n",
       "          [0.8705883 , 0.882353  , 0.90196085],\n",
       "          [0.8705883 , 0.882353  , 0.90196085]],\n",
       " \n",
       "         [[0.8705883 , 0.882353  , 0.90196085],\n",
       "          [0.8705883 , 0.882353  , 0.90196085],\n",
       "          [0.8705883 , 0.882353  , 0.90196085],\n",
       "          ...,\n",
       "          [0.8705883 , 0.882353  , 0.90196085],\n",
       "          [0.8705883 , 0.882353  , 0.90196085],\n",
       "          [0.8705883 , 0.882353  , 0.90196085]],\n",
       " \n",
       "         [[0.8705883 , 0.882353  , 0.90196085],\n",
       "          [0.8705883 , 0.882353  , 0.90196085],\n",
       "          [0.8705883 , 0.882353  , 0.90196085],\n",
       "          ...,\n",
       "          [0.8705883 , 0.882353  , 0.90196085],\n",
       "          [0.8705883 , 0.882353  , 0.90196085],\n",
       "          [0.8705883 , 0.882353  , 0.90196085]],\n",
       " \n",
       "         ...,\n",
       " \n",
       "         [[0.21960786, 0.21568629, 0.16078432],\n",
       "          [0.21960786, 0.21568629, 0.16078432],\n",
       "          [0.21960786, 0.21568629, 0.16078432],\n",
       "          ...,\n",
       "          [0.2392157 , 0.227451  , 0.1764706 ],\n",
       "          [0.23529413, 0.22352943, 0.17254902],\n",
       "          [0.2392157 , 0.227451  , 0.1764706 ]],\n",
       " \n",
       "         [[0.21960786, 0.21568629, 0.16078432],\n",
       "          [0.21960786, 0.21568629, 0.16078432],\n",
       "          [0.21960786, 0.21568629, 0.16078432],\n",
       "          ...,\n",
       "          [0.2392157 , 0.227451  , 0.1764706 ],\n",
       "          [0.23529413, 0.22352943, 0.17254902],\n",
       "          [0.2392157 , 0.227451  , 0.1764706 ]],\n",
       " \n",
       "         [[0.21960786, 0.21568629, 0.16078432],\n",
       "          [0.21568629, 0.21176472, 0.15686275],\n",
       "          [0.21568629, 0.21176472, 0.15686275],\n",
       "          ...,\n",
       "          [0.2392157 , 0.227451  , 0.1764706 ],\n",
       "          [0.23529413, 0.22352943, 0.17254902],\n",
       "          [0.2392157 , 0.227451  , 0.1764706 ]]]], dtype=float32),\n",
       " array([1.], dtype=float32))"
      ]
     },
     "execution_count": 89,
     "metadata": {
      "tags": []
     },
     "output_type": "execute_result"
    }
   ],
   "source": [
    "next(train_data_gen)"
   ]
  },
  {
   "cell_type": "code",
   "execution_count": 90,
   "metadata": {
    "colab": {
     "base_uri": "https://localhost:8080/",
     "height": 34
    },
    "colab_type": "code",
    "id": "h37Ka10pi24-",
    "outputId": "814614f2-f664-46e7-c922-5ac59caff2f2"
   },
   "outputs": [
    {
     "data": {
      "text/plain": [
       "(1000, 1000, 3)"
      ]
     },
     "execution_count": 90,
     "metadata": {
      "tags": []
     },
     "output_type": "execute_result"
    }
   ],
   "source": [
    "next(train_data_gen)[0][0].shape"
   ]
  },
  {
   "cell_type": "code",
   "execution_count": 0,
   "metadata": {
    "colab": {},
    "colab_type": "code",
    "id": "ikNBCgjZkNIJ"
   },
   "outputs": [],
   "source": [
    "def showImg(img_label):\n",
    "  plt.figure(figsize=(10, 10))\n",
    "  img = img_label[0][0]\n",
    "  label = img_label[1]\n",
    "  print('Label:', label)\n",
    "  plt.imshow(img)"
   ]
  },
  {
   "cell_type": "code",
   "execution_count": 94,
   "metadata": {
    "colab": {
     "base_uri": "https://localhost:8080/",
     "height": 612
    },
    "colab_type": "code",
    "id": "ZqtDzBQWltqW",
    "outputId": "797177be-6392-4974-b5cf-de493fcd4415"
   },
   "outputs": [
    {
     "name": "stdout",
     "output_type": "stream",
     "text": [
      "Label: [1.]\n"
     ]
    },
    {
     "data": {
      "image/png": "[encoded data removed]",
      "text/plain": [
       "<Figure size 720x720 with 1 Axes>"
      ]
     },
     "metadata": {
      "tags": []
     },
     "output_type": "display_data"
    }
   ],
   "source": [
    "showImg(next(train_data_gen))"
   ]
  },
  {
   "cell_type": "code",
   "execution_count": 0,
   "metadata": {
    "colab": {},
    "colab_type": "code",
    "id": "KgRBfmlVly-R"
   },
   "outputs": [],
   "source": []
  }
 ],
 "metadata": {
  "colab": {
   "name": "CreatingImageDataset.ipynb",
   "provenance": [],
   "toc_visible": true
  },
  "kernelspec": {
   "display_name": "Python 3",
   "language": "python",
   "name": "python3"
  },
  "language_info": {
   "codemirror_mode": {
    "name": "ipython",
    "version": 3
   },
   "file_extension": ".py",
   "mimetype": "text/x-python",
   "name": "python",
   "nbconvert_exporter": "python",
   "pygments_lexer": "ipython3",
   "version": "3.7.6"
  }
 },
 "nbformat": 4,
 "nbformat_minor": 1
}
