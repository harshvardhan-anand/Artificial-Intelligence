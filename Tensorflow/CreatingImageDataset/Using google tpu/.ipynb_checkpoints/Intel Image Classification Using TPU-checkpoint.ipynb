{
 "cells": [
  {
   "cell_type": "code",
   "execution_count": 3,
   "metadata": {
    "ExecuteTime": {
     "end_time": "2020-04-10T06:38:49.247851Z",
     "start_time": "2020-04-10T06:38:39.486512Z"
    }
   },
   "outputs": [],
   "source": [
    "import tensorflow as tf"
   ]
  },
  {
   "cell_type": "code",
   "execution_count": 1,
   "metadata": {
    "ExecuteTime": {
     "end_time": "2020-04-10T06:38:22.746495Z",
     "start_time": "2020-04-10T06:38:22.607503Z"
    }
   },
   "outputs": [
    {
     "ename": "NameError",
     "evalue": "name 'tf' is not defined",
     "output_type": "error",
     "traceback": [
      "\u001b[1;31m---------------------------------------------------------------------------\u001b[0m",
      "\u001b[1;31mNameError\u001b[0m                                 Traceback (most recent call last)",
      "\u001b[1;32m<ipython-input-1-80b64a5b43bc>\u001b[0m in \u001b[0;36m<module>\u001b[1;34m\u001b[0m\n\u001b[0;32m      1\u001b[0m \u001b[1;31m# creating image dataset\u001b[0m\u001b[1;33m\u001b[0m\u001b[1;33m\u001b[0m\u001b[1;33m\u001b[0m\u001b[0m\n\u001b[0;32m      2\u001b[0m \u001b[1;31m# as a parameter you need to give the pattern of the images location\u001b[0m\u001b[1;33m\u001b[0m\u001b[1;33m\u001b[0m\u001b[1;33m\u001b[0m\u001b[0m\n\u001b[1;32m----> 3\u001b[1;33m \u001b[0mtrainDs\u001b[0m \u001b[1;33m=\u001b[0m \u001b[0mtf\u001b[0m\u001b[1;33m.\u001b[0m\u001b[0mdata\u001b[0m\u001b[1;33m.\u001b[0m\u001b[0mDataset\u001b[0m\u001b[1;33m.\u001b[0m\u001b[0mlist_files\u001b[0m\u001b[1;33m(\u001b[0m\u001b[1;34mr\"C:\\Users\\Brothers\\Desktop\\Python\\ongoing_project\\MY STUFF\\Tensorflow\\CreatingImageDataset\\Using google tpu\\data\"\u001b[0m\u001b[1;33m)\u001b[0m\u001b[1;33m\u001b[0m\u001b[1;33m\u001b[0m\u001b[0m\n\u001b[0m\u001b[0;32m      4\u001b[0m \u001b[0mtrainDs\u001b[0m\u001b[1;33m\u001b[0m\u001b[1;33m\u001b[0m\u001b[0m\n\u001b[0;32m      5\u001b[0m \u001b[1;31m# testDs = tf.data.Dataset.list_files(\"gs://kds-b901ee9b8bcbf3fc0a0b62fec6db227bad0ebfae07b071fa829973aa/seg_test/seg_test/*/*.jpg\")\u001b[0m\u001b[1;33m\u001b[0m\u001b[1;33m\u001b[0m\u001b[1;33m\u001b[0m\u001b[0m\n",
      "\u001b[1;31mNameError\u001b[0m: name 'tf' is not defined"
     ]
    }
   ],
   "source": [
    "# creating image dataset\n",
    "# as a parameter you need to give the pattern of the images location\n",
    "trainDs = tf.data.Dataset.list_files(r\"C:\\Users\\Brothers\\Desktop\\Python\\ongoing_project\\MY STUFF\\Tensorflow\\CreatingImageDataset\\Using google tpu\\data\")\n",
    "trainDs\n",
    "# testDs = tf.data.Dataset.list_files(\"gs://kds-b901ee9b8bcbf3fc0a0b62fec6db227bad0ebfae07b071fa829973aa/seg_test/seg_test/*/*.jpg\")"
   ]
  },
  {
   "cell_type": "code",
   "execution_count": 11,
   "metadata": {},
   "outputs": [
    {
     "name": "stdout",
     "output_type": "stream",
     "text": [
      "gs://kds-b901ee9b8bcbf3fc0a0b62fec6db227bad0ebfae07b071fa829973aa/seg_train/seg_train/buildings\n"
     ]
    },
    {
     "data": {
      "text/plain": [
       "'buildings'"
      ]
     },
     "execution_count": 11,
     "metadata": {},
     "output_type": "execute_result"
    }
   ],
   "source": [
    "print(trainpath[0])\n",
    "trainpath[0].split('/')[-1]"
   ]
  },
  {
   "cell_type": "code",
   "execution_count": 12,
   "metadata": {},
   "outputs": [],
   "source": [
    "train_label = []\n",
    "for i in trainpath:\n",
    "    train_label.append(i.split('/')[-1])\n",
    "classes = np.array(train_label)"
   ]
  },
  {
   "cell_type": "code",
   "execution_count": 13,
   "metadata": {},
   "outputs": [
    {
     "data": {
      "text/plain": [
       "array([False,  True, False, False, False, False])"
      ]
     },
     "execution_count": 13,
     "metadata": {},
     "output_type": "execute_result"
    }
   ],
   "source": [
    "'forest' == classes"
   ]
  },
  {
   "cell_type": "code",
   "execution_count": 14,
   "metadata": {},
   "outputs": [
    {
     "data": {
      "text/plain": [
       "array(['buildings', 'forest', 'glacier', 'mountain', 'sea', 'street'],\n",
       "      dtype='<U9')"
      ]
     },
     "execution_count": 14,
     "metadata": {},
     "output_type": "execute_result"
    }
   ],
   "source": [
    "classes"
   ]
  },
  {
   "cell_type": "markdown",
   "metadata": {},
   "source": [
    "# A helper function for image decoding and augumentation"
   ]
  },
  {
   "cell_type": "code",
   "execution_count": 15,
   "metadata": {},
   "outputs": [],
   "source": [
    "IMG_WIDTH=128*2\n",
    "IMG_HEIGHT=128*2\n",
    "def decode_img(img):\n",
    "    img = tf.image.decode_jpeg(img, channels=3)\n",
    "    img = tf.image.convert_image_dtype(img, tf.float32) \n",
    "    img = tf.image.resize(img, [IMG_WIDTH, IMG_HEIGHT]) \n",
    "#     img = tf.image.random_flip_left_right(img)\n",
    "#     img = tf.image.random_flip_up_down(img)\n",
    "#     img = tf.image.random_brightness(img, 0.3)\n",
    "    return img\n",
    "\n",
    "def get_label(path):\n",
    "    part_list = tf.strings.split(path, \"/\")\n",
    "  # in the case where each class of images is in one folder\n",
    "    return part_list[-2]==train_label\n",
    "\n",
    "def process_path(file_path):\n",
    "    label = get_label(file_path)\n",
    "    img = tf.io.read_file(file_path)\n",
    "    img = decode_img(img)\n",
    "    return img, label"
   ]
  },
  {
   "cell_type": "code",
   "execution_count": 16,
   "metadata": {},
   "outputs": [
    {
     "data": {
      "text/plain": [
       "array([False,  True, False, False, False, False])"
      ]
     },
     "execution_count": 16,
     "metadata": {},
     "output_type": "execute_result"
    }
   ],
   "source": [
    "# this is how get_label function will work()\n",
    "'forest' == classes"
   ]
  },
  {
   "cell_type": "markdown",
   "metadata": {},
   "source": [
    "# Creating train and test dataset"
   ]
  },
  {
   "cell_type": "code",
   "execution_count": 17,
   "metadata": {},
   "outputs": [
    {
     "data": {
      "text/plain": [
       "<PrefetchDataset shapes: ((None, 256, 256, 3), (None, 6)), types: (tf.float32, tf.bool)>"
      ]
     },
     "execution_count": 17,
     "metadata": {},
     "output_type": "execute_result"
    }
   ],
   "source": [
    "# num_threads = 5 \n",
    "train_ds = trainDs.map(process_path)#, num_parallel_calls=num_threads)\n",
    "\n",
    "train_ds\n",
    "\n",
    "# train_ds = train_ds.cache()  # not recomended for large dataset\n",
    "train_ds = train_ds.shuffle(100)\n",
    "\n",
    "train_ds\n",
    "\n",
    "num_epochs = 1\n",
    "train_ds = train_ds.repeat(num_epochs)\n",
    "\n",
    "train_ds\n",
    "\n",
    "train_ds = train_ds.batch(128)\n",
    "\n",
    "train_ds\n",
    "\n",
    "train_ds = train_ds.prefetch(tf.data.experimental.AUTOTUNE)\n",
    "\n",
    "train_ds"
   ]
  },
  {
   "cell_type": "markdown",
   "metadata": {},
   "source": [
    "# Model creating "
   ]
  },
  {
   "cell_type": "code",
   "execution_count": 18,
   "metadata": {},
   "outputs": [],
   "source": [
    "img_size = 128*2\n",
    "\n",
    "# with tpu_strategy.scope():\n",
    "model = Sequential([\n",
    "#         Conv2D(32, 2, 2,activation='relu', padding='same', input_shape=(img_size,img_size, 3)), \n",
    "#         Conv2D(64, 2, 2,activation='relu', padding='same'),\n",
    "#         MaxPool2D(padding='same'),\n",
    "\n",
    "#         Dropout(0.7),\n",
    "\n",
    "#         Conv2D(128, 2, 2,activation='relu', padding='same'), \n",
    "#         Conv2D(128, 2, 2,activation='relu', padding='same'),\n",
    "#         MaxPool2D(padding='same'),\n",
    "\n",
    "#         Dropout(0.7),\n",
    "\n",
    "#         Conv2D(512, 2, 2,activation='relu', padding='same'), \n",
    "#         Conv2D(512, 2, 2,activation='relu', padding='same'),\n",
    "#         MaxPool2D(padding='same'),\n",
    "\n",
    "    Flatten(),\n",
    "\n",
    "    Dropout(0.7),\n",
    "\n",
    "    Dense(1028, activation='relu'),\n",
    "    Dropout(0.7),\n",
    "    Dense(6, activation='softmax')\n",
    "])"
   ]
  },
  {
   "cell_type": "code",
   "execution_count": 19,
   "metadata": {},
   "outputs": [],
   "source": [
    "model.compile(loss='categorical_crossentropy', optimizer='adam', metrics=['acc'])"
   ]
  },
  {
   "cell_type": "code",
   "execution_count": 21,
   "metadata": {},
   "outputs": [],
   "source": [
    "# model.summary()"
   ]
  },
  {
   "cell_type": "code",
   "execution_count": null,
   "metadata": {},
   "outputs": [],
   "source": [
    "history = model.fit(train_ds, epochs=2)"
   ]
  },
  {
   "cell_type": "code",
   "execution_count": null,
   "metadata": {},
   "outputs": [],
   "source": [
    "# creating image dataset\n",
    "# as a parameter you need to give the pattern of the images location\n",
    "trainDs = tf.data.Dataset.list_files(\"gs://kds-b901ee9b8bcbf3fc0a0b62fec6db227bad0ebfae07b071fa829973aa/seg_train/seg_train/*/*.jpg\")\n",
    "\n",
    "testDs = tf.data.Dataset.list_files(\"gs://kds-b901ee9b8bcbf3fc0a0b62fec6db227bad0ebfae07b071fa829973aa/seg_test/seg_test/*/*.jpg\")\n",
    "\n",
    "print(trainpath[0])\n",
    "trainpath[0].split('/')[-1]\n",
    "\n",
    "train_label = []\n",
    "for i in trainpath:\n",
    "    train_label.append(i.split('/')[-1])\n",
    "classes = np.array(train_label)\n",
    "\n",
    "'forest' == classes\n",
    "\n",
    "classes\n",
    "\n",
    "# A helper function for image decoding and augumentation\n",
    "\n",
    "IMG_WIDTH=128*2\n",
    "IMG_HEIGHT=128*2\n",
    "def decode_img(img):\n",
    "    img = tf.image.decode_jpeg(img, channels=3)\n",
    "    img = tf.image.convert_image_dtype(img, tf.float32) \n",
    "    img = tf.image.resize(img, [IMG_WIDTH, IMG_HEIGHT]) \n",
    "#     img = tf.image.random_flip_left_right(img)\n",
    "#     img = tf.image.random_flip_up_down(img)\n",
    "#     img = tf.image.random_brightness(img, 0.3)\n",
    "    return img\n",
    "\n",
    "def get_label(path):\n",
    "    part_list = tf.strings.split(path, \"/\")\n",
    "  # in the case where each class of images is in one folder\n",
    "    return part_list[-2]==train_label\n",
    "\n",
    "def process_path(file_path):\n",
    "    label = get_label(file_path)\n",
    "    img = tf.io.read_file(file_path)\n",
    "    img = decode_img(img)\n",
    "    return img, label\n",
    "\n",
    "# this is how get_label function will work()\n",
    "'forest' == classes\n",
    "\n",
    "# Creating train and test dataset\n",
    "\n",
    "# num_threads = 5 \n",
    "train_ds = trainDs.map(process_path)#, num_parallel_calls=num_threads)\n",
    "\n",
    "train_ds\n",
    "\n",
    "# train_ds = train_ds.cache()  # not recomended for large dataset\n",
    "train_ds = train_ds.shuffle(100)\n",
    "\n",
    "train_ds\n",
    "\n",
    "num_epochs = 1\n",
    "train_ds = train_ds.repeat(num_epochs)\n",
    "\n",
    "train_ds\n",
    "\n",
    "train_ds = train_ds.batch(128)\n",
    "\n",
    "train_ds\n",
    "\n",
    "train_ds = train_ds.prefetch(tf.data.experimental.AUTOTUNE)\n",
    "\n",
    "train_ds\n",
    "\n",
    "# Model creating \n",
    "\n",
    "img_size = 128*2\n",
    "\n",
    "# with tpu_strategy.scope():\n",
    "model = Sequential([\n",
    "#         Conv2D(32, 2, 2,activation='relu', padding='same', input_shape=(img_size,img_size, 3)), \n",
    "#         Conv2D(64, 2, 2,activation='relu', padding='same'),\n",
    "#         MaxPool2D(padding='same'),\n",
    "\n",
    "#         Dropout(0.7),\n",
    "\n",
    "#         Conv2D(128, 2, 2,activation='relu', padding='same'), \n",
    "#         Conv2D(128, 2, 2,activation='relu', padding='same'),\n",
    "#         MaxPool2D(padding='same'),\n",
    "\n",
    "#         Dropout(0.7),\n",
    "\n",
    "#         Conv2D(512, 2, 2,activation='relu', padding='same'), \n",
    "#         Conv2D(512, 2, 2,activation='relu', padding='same'),\n",
    "#         MaxPool2D(padding='same'),\n",
    "\n",
    "    Flatten(),\n",
    "\n",
    "    Dropout(0.7),\n",
    "\n",
    "    Dense(1028, activation='relu'),\n",
    "    Dropout(0.7),\n",
    "    Dense(6, activation='softmax')\n",
    "])\n",
    "\n",
    "model.compile(loss='categorical_crossentropy', optimizer='adam', metrics=['acc'])\n",
    "\n",
    "# model.summary()\n",
    "\n",
    "history = model.fit(train_ds, epochs=2)"
   ]
  }
 ],
 "metadata": {
  "kernelspec": {
   "display_name": "Python 3",
   "language": "python",
   "name": "python3"
  },
  "language_info": {
   "codemirror_mode": {
    "name": "ipython",
    "version": 3
   },
   "file_extension": ".py",
   "mimetype": "text/x-python",
   "name": "python",
   "nbconvert_exporter": "python",
   "pygments_lexer": "ipython3",
   "version": "3.7.6"
  }
 },
 "nbformat": 4,
 "nbformat_minor": 4
}
