{
 "cells": [
  {
   "cell_type": "code",
   "execution_count": 1,
   "metadata": {},
   "outputs": [],
   "source": [
    "import matplotlib.pyplot as plt\n",
    "import math"
   ]
  },
  {
   "cell_type": "code",
   "execution_count": 2,
   "metadata": {},
   "outputs": [],
   "source": [
    "import numpy as np\n",
    "import pandas as pd"
   ]
  },
  {
   "cell_type": "code",
   "execution_count": 3,
   "metadata": {},
   "outputs": [],
   "source": [
    "#Inputs\n",
    "inputs = np.array([\n",
    "                    [-3,4],\n",
    "                    [2,1],\n",
    "                    [4,-1],\n",
    "                    [2,5],\n",
    "                    [7,4],\n",
    "\n",
    "                  ])"
   ]
  },
  {
   "cell_type": "code",
   "execution_count": 4,
   "metadata": {},
   "outputs": [],
   "source": [
    "data = pd.DataFrame(data = inputs, columns=['x1', 'x2'])"
   ]
  },
  {
   "cell_type": "code",
   "execution_count": 5,
   "metadata": {},
   "outputs": [],
   "source": [
    "ytrue = np.array([[-1,-1,-1,1,1]])"
   ]
  },
  {
   "cell_type": "code",
   "execution_count": 6,
   "metadata": {},
   "outputs": [
    {
     "data": {
      "text/html": [
       "<div>\n",
       "<style scoped>\n",
       "    .dataframe tbody tr th:only-of-type {\n",
       "        vertical-align: middle;\n",
       "    }\n",
       "\n",
       "    .dataframe tbody tr th {\n",
       "        vertical-align: top;\n",
       "    }\n",
       "\n",
       "    .dataframe thead th {\n",
       "        text-align: right;\n",
       "    }\n",
       "</style>\n",
       "<table border=\"1\" class=\"dataframe\">\n",
       "  <thead>\n",
       "    <tr style=\"text-align: right;\">\n",
       "      <th></th>\n",
       "      <th>x1</th>\n",
       "      <th>x2</th>\n",
       "      <th>output</th>\n",
       "    </tr>\n",
       "  </thead>\n",
       "  <tbody>\n",
       "    <tr>\n",
       "      <th>0</th>\n",
       "      <td>-3</td>\n",
       "      <td>4</td>\n",
       "      <td>-1</td>\n",
       "    </tr>\n",
       "    <tr>\n",
       "      <th>1</th>\n",
       "      <td>2</td>\n",
       "      <td>1</td>\n",
       "      <td>-1</td>\n",
       "    </tr>\n",
       "    <tr>\n",
       "      <th>2</th>\n",
       "      <td>4</td>\n",
       "      <td>-1</td>\n",
       "      <td>-1</td>\n",
       "    </tr>\n",
       "    <tr>\n",
       "      <th>3</th>\n",
       "      <td>2</td>\n",
       "      <td>5</td>\n",
       "      <td>1</td>\n",
       "    </tr>\n",
       "    <tr>\n",
       "      <th>4</th>\n",
       "      <td>7</td>\n",
       "      <td>4</td>\n",
       "      <td>1</td>\n",
       "    </tr>\n",
       "  </tbody>\n",
       "</table>\n",
       "</div>"
      ],
      "text/plain": [
       "   x1  x2  output\n",
       "0  -3   4      -1\n",
       "1   2   1      -1\n",
       "2   4  -1      -1\n",
       "3   2   5       1\n",
       "4   7   4       1"
      ]
     },
     "execution_count": 6,
     "metadata": {},
     "output_type": "execute_result"
    }
   ],
   "source": [
    "data['output'] = ytrue.flatten()\n",
    "data"
   ]
  },
  {
   "cell_type": "code",
   "execution_count": 7,
   "metadata": {},
   "outputs": [
    {
     "data": {
      "image/png": "[encoded data removed]",
      "text/plain": [
       "<Figure size 432x288 with 1 Axes>"
      ]
     },
     "metadata": {
      "needs_background": "light"
     },
     "output_type": "display_data"
    }
   ],
   "source": [
    "for j, i in enumerate(inputs):\n",
    "    if j<3:\n",
    "        plt.scatter(i[0], i[1], marker='x')\n",
    "    else:\n",
    "        plt.scatter(i[0], i[1], marker='+')\n",
    "plt.plot([-3, 5], [6,0])  #expected line of classifier\n",
    "plt.show()"
   ]
  },
  {
   "cell_type": "markdown",
   "metadata": {},
   "source": [
    "a = np.array([[1,2]])\n",
    "b = np.array(1)\n",
    "#np.dot(a, b)\n",
    "a+b"
   ]
  },
  {
   "cell_type": "code",
   "execution_count": 37,
   "metadata": {},
   "outputs": [],
   "source": [
    "def loss(x, y, w, eta, yhat):\n",
    "#     sse = (y-ypred)**2\n",
    "#     if y != yhat:\n",
    "    w = eta*2*(y-yhat)*yhat*(1-yhat)*x\n",
    "    return w"
   ]
  },
  {
   "cell_type": "code",
   "execution_count": 38,
   "metadata": {},
   "outputs": [],
   "source": [
    "def summation(w, x, b):\n",
    "    linear = np.dot(w,x)+b\n",
    "    return linear"
   ]
  },
  {
   "cell_type": "code",
   "execution_count": 39,
   "metadata": {},
   "outputs": [],
   "source": [
    "def act(x):\n",
    "    e = 2.7\n",
    "    return 1/(1+e**(-x))"
   ]
  },
  {
   "cell_type": "code",
   "execution_count": 40,
   "metadata": {},
   "outputs": [],
   "source": [
    "weight = [7, 4]\n",
    "weight = np.array(weight)\n",
    "bias = -1\n",
    "# bias = np.array(bias)"
   ]
  },
  {
   "cell_type": "code",
   "execution_count": 41,
   "metadata": {},
   "outputs": [],
   "source": [
    "epoch = 200\n",
    "for j in range(epoch):\n",
    "    for i in range(len(data)):\n",
    "        row=np.array([data['x1'].iloc[i], data['x2'].iloc[i]])\n",
    "        linear_output = summation(w=weight, x=row, b=bias)\n",
    "        yhat = act(linear_output)\n",
    "        new_weight = loss(x=row, y=data['output'].iloc[i], w=weight, eta=1, yhat=yhat)\n",
    "        weight = new_weight"
   ]
  },
  {
   "cell_type": "code",
   "execution_count": 42,
   "metadata": {},
   "outputs": [
    {
     "data": {
      "text/plain": [
       "array([3.84512613e-07, 2.19721493e-07])"
      ]
     },
     "execution_count": 42,
     "metadata": {},
     "output_type": "execute_result"
    }
   ],
   "source": [
    "weight"
   ]
  },
  {
   "cell_type": "code",
   "execution_count": 43,
   "metadata": {},
   "outputs": [
    {
     "data": {
      "text/plain": [
       "0.2702702164678029"
      ]
     },
     "execution_count": 43,
     "metadata": {},
     "output_type": "execute_result"
    }
   ],
   "source": [
    "row = np.array([-3, 4])\n",
    "act(np.dot(row, weight)+bias)"
   ]
  },
  {
   "cell_type": "code",
   "execution_count": null,
   "metadata": {},
   "outputs": [],
   "source": []
  },
  {
   "cell_type": "code",
   "execution_count": null,
   "metadata": {},
   "outputs": [],
   "source": []
  },
  {
   "cell_type": "code",
   "execution_count": null,
   "metadata": {},
   "outputs": [],
   "source": []
  },
  {
   "cell_type": "code",
   "execution_count": null,
   "metadata": {},
   "outputs": [],
   "source": []
  },
  {
   "cell_type": "code",
   "execution_count": null,
   "metadata": {},
   "outputs": [],
   "source": []
  },
  {
   "cell_type": "code",
   "execution_count": null,
   "metadata": {},
   "outputs": [],
   "source": []
  },
  {
   "cell_type": "code",
   "execution_count": null,
   "metadata": {},
   "outputs": [],
   "source": []
  },
  {
   "cell_type": "code",
   "execution_count": null,
   "metadata": {},
   "outputs": [],
   "source": []
  },
  {
   "cell_type": "code",
   "execution_count": null,
   "metadata": {},
   "outputs": [],
   "source": []
  },
  {
   "cell_type": "markdown",
   "metadata": {},
   "source": [
    "ssep = []\n",
    "sseplot = []\n",
    "eta = 1\n",
    "end = 120\n",
    "count = 0\n",
    "sse = 34356456\n",
    "k = 0\n",
    "while (count<end):\n",
    "    for k, i in enumerate(inputs):\n",
    "        ypred = []  #2d because input is 2d\n",
    "        linear = summation(w = weight, x=i, b = bias)\n",
    "#         print('This is value after linear calculation', linear)\n",
    "        ypred.append(act(linear))\n",
    "        y_true = ytrue[0][k]\n",
    "        ypred = np.array(ypred)\n",
    "#         print('The value of ypred is', ypred)\n",
    "        w, sse = loss(x = i, y = ytrue[0][k], w = weight, eta = eta)\n",
    "        k+=1\n",
    "#         print('Error in this iteration is', sse)\n",
    "#         print('weight modified in this iteration is', w)\n",
    "#         print('\\n'*3)\n",
    "        ssep.append(sse)\n",
    "    sseplot.append(sum(ssep))\n",
    "    count+=1\n",
    "else:\n",
    "    print(count)    \n",
    "    print('Error in this iteration is', sse)\n",
    "    print('weight modified in this iteration is', w)\n",
    "    print('This is value after linear calculation', linear)\n",
    "    print('The value of ypred is', ypred)\n",
    "    print('The value of ytrue is', y_true)"
   ]
  },
  {
   "cell_type": "code",
   "execution_count": 96,
   "metadata": {},
   "outputs": [
    {
     "name": "stderr",
     "output_type": "stream",
     "text": [
      "C:\\Users\\Brothers\\Anaconda3\\lib\\site-packages\\ipykernel_launcher.py:3: RuntimeWarning: overflow encountered in power\n",
      "  This is separate from the ipykernel package so we can avoid doing imports until\n"
     ]
    },
    {
     "data": {
      "text/plain": [
       "0.0"
      ]
     },
     "execution_count": 96,
     "metadata": {},
     "output_type": "execute_result"
    }
   ],
   "source": [
    "ip = [2,1]\n",
    "ip = np.array(ip)\n",
    "predicted = act(summation(w, ip, bias))\n",
    "predicted"
   ]
  },
  {
   "cell_type": "markdown",
   "metadata": {},
   "source": [
    "ip = [-3, 4]\n",
    "predicted = act(summation(w, np.array(ip), bias))\n",
    "#plt.scatter(predicted[0][0], predicted[0][1], marker='x')  #predicted\n",
    "plt.scatter(ip[0], ip[1], marker='o')  #true\n",
    "plt.plot([-3, 5], [6,0])  #expected line of classifier\n",
    "plt.show()"
   ]
  },
  {
   "cell_type": "markdown",
   "metadata": {},
   "source": [
    "###### Here the values are w1 and w2. w1 is for x1 and w2 is for x2"
   ]
  },
  {
   "cell_type": "code",
   "execution_count": null,
   "metadata": {
    "collapsed": true
   },
   "outputs": [],
   "source": []
  },
  {
   "cell_type": "code",
   "execution_count": 47,
   "metadata": {},
   "outputs": [
    {
     "data": {
      "text/plain": [
       "13.0"
      ]
     },
     "execution_count": 47,
     "metadata": {},
     "output_type": "execute_result"
    }
   ],
   "source": [
    "np.dot(w, np.array([-3, 4]))"
   ]
  },
  {
   "cell_type": "code",
   "execution_count": 74,
   "metadata": {},
   "outputs": [
    {
     "data": {
      "text/plain": [
       "1.0"
      ]
     },
     "execution_count": 74,
     "metadata": {},
     "output_type": "execute_result"
    }
   ],
   "source": [
    "z = 37\n",
    "e = 2.7\n",
    "math.tanh(z)"
   ]
  },
  {
   "cell_type": "code",
   "execution_count": null,
   "metadata": {},
   "outputs": [],
   "source": []
  }
 ],
 "metadata": {
  "kernelspec": {
   "display_name": "Python 3",
   "language": "python",
   "name": "python3"
  },
  "language_info": {
   "codemirror_mode": {
    "name": "ipython",
    "version": 3
   },
   "file_extension": ".py",
   "mimetype": "text/x-python",
   "name": "python",
   "nbconvert_exporter": "python",
   "pygments_lexer": "ipython3",
   "version": "3.7.1"
  }
 },
 "nbformat": 4,
 "nbformat_minor": 2
}
