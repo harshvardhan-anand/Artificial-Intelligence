{
 "cells": [
  {
   "cell_type": "code",
   "execution_count": 1,
   "metadata": {
    "collapsed": true
   },
   "outputs": [],
   "source": [
    "import tensorflow as tf\n",
    "import matplotlib.pyplot as plt\n",
    "import numpy as np"
   ]
  },
  {
   "cell_type": "markdown",
   "metadata": {},
   "source": [
    "# Creating data"
   ]
  },
  {
   "cell_type": "code",
   "execution_count": 118,
   "metadata": {},
   "outputs": [
    {
     "data": {
      "text/plain": [
       "(2000,)"
      ]
     },
     "execution_count": 118,
     "metadata": {},
     "output_type": "execute_result"
    }
   ],
   "source": [
    "x_data = np.random.randn(2000)\n",
    "x_data.shape"
   ]
  },
  {
   "cell_type": "code",
   "execution_count": 119,
   "metadata": {
    "collapsed": true
   },
   "outputs": [],
   "source": [
    "def sigmoid(x):\n",
    "    return 1/(1+np.exp(-x))"
   ]
  },
  {
   "cell_type": "code",
   "execution_count": 120,
   "metadata": {},
   "outputs": [
    {
     "data": {
      "text/plain": [
       "(2000,)"
      ]
     },
     "execution_count": 120,
     "metadata": {},
     "output_type": "execute_result"
    }
   ],
   "source": [
    "y_true = sigmoid(x_data)\n",
    "\n",
    "y_true.shape"
   ]
  },
  {
   "cell_type": "code",
   "execution_count": 121,
   "metadata": {},
   "outputs": [
    {
     "data": {
      "image/png": "[encoded data removed]",
      "text/plain": [
       "<matplotlib.figure.Figure at 0x180556c3b70>"
      ]
     },
     "metadata": {},
     "output_type": "display_data"
    }
   ],
   "source": [
    "plt.scatter(x_data, y_true)\n",
    "plt.show()"
   ]
  },
  {
   "cell_type": "code",
   "execution_count": 122,
   "metadata": {
    "collapsed": true
   },
   "outputs": [],
   "source": [
    "def binarize(x):\n",
    "        if x>0.5:\n",
    "            return 1\n",
    "        else:\n",
    "            return 0"
   ]
  },
  {
   "cell_type": "code",
   "execution_count": 123,
   "metadata": {
    "collapsed": true
   },
   "outputs": [],
   "source": [
    "y1 = np.array(list(map(binarize, y_true)))"
   ]
  },
  {
   "cell_type": "code",
   "execution_count": 124,
   "metadata": {
    "collapsed": true
   },
   "outputs": [],
   "source": [
    "y_true = y1"
   ]
  },
  {
   "cell_type": "code",
   "execution_count": 125,
   "metadata": {},
   "outputs": [
    {
     "data": {
      "image/png": "[encoded data removed]",
      "text/plain": [
       "<matplotlib.figure.Figure at 0x180563ad1d0>"
      ]
     },
     "metadata": {},
     "output_type": "display_data"
    }
   ],
   "source": [
    "plt.scatter(x_data, y_true)\n",
    "plt.show()"
   ]
  },
  {
   "cell_type": "code",
   "execution_count": 126,
   "metadata": {
    "collapsed": true
   },
   "outputs": [],
   "source": [
    "x_data = x_data.reshape([2000, 1])\n",
    "y_true = y_true.reshape([2000, 1])"
   ]
  },
  {
   "cell_type": "code",
   "execution_count": 127,
   "metadata": {},
   "outputs": [
    {
     "data": {
      "image/png": "[encoded data removed]",
      "text/plain": [
       "<matplotlib.figure.Figure at 0x18057b5d048>"
      ]
     },
     "metadata": {},
     "output_type": "display_data"
    }
   ],
   "source": [
    "# define placeholder\n",
    "x = tf.placeholder(tf.float32, [None, 1])\n",
    "y = tf.placeholder(tf.float32, None)\n",
    "\n",
    "# define variable\n",
    "random = tf.truncated_normal([1, 1])\n",
    "w = tf.Variable(random)\n",
    "b = tf.Variable(random)\n",
    "\n",
    "# define operation node\n",
    "y_pred = tf.matmul(x, w) + b\n",
    "y_pred = tf.sigmoid(y_pred)\n",
    "\n",
    "# define loss function\n",
    "loss1 = tf.nn.sigmoid_cross_entropy_with_logits(logits=y_pred, labels=y)\n",
    "loss = tf.reduce_mean(loss1)\n",
    "\n",
    "# define optimiser\n",
    "optimizer = tf.train.GradientDescentOptimizer(0.5)\n",
    "# mimise the loss\n",
    "train = optimizer.minimize(loss)\n",
    "\n",
    "# initialise the variable\n",
    "init = tf.global_variables_initializer()\n",
    "\n",
    "# run the session\n",
    "with tf.Session() as sess:\n",
    "    sess.run(init)\n",
    "    epoch = 1000\n",
    "    errors = []\n",
    "    for _ in range(epoch):\n",
    "        feed_dict = {x:x_data, y:y_true}\n",
    "        sess.run(train, feed_dict)\n",
    "        pred = sess.run(y_pred, feed_dict)\n",
    "        n_weight = sess.run(w, feed_dict)\n",
    "        n_bias = sess.run(b, feed_dict)\n",
    "        loss1_value = sess.run(loss1, feed_dict)\n",
    "        loss_value = sess.run(loss, feed_dict)\n",
    "        errors.append(loss_value)\n",
    "\n",
    "# plot the errors        \n",
    "plt.plot(errors)\n",
    "plt.show()\n",
    "# print('Pridicted', pred)  # we get probability of class 1 and class 0\n",
    "# print('New weight', n_weight)  \n",
    "# print('New bias', n_bias)\n",
    "# print('Loss1_value', loss1_value)  # loss per row per class\n",
    "# print('loss_value', loss_value)   # total error"
   ]
  },
  {
   "cell_type": "code",
   "execution_count": 128,
   "metadata": {
    "collapsed": true
   },
   "outputs": [],
   "source": [
    "# so we will have to go only till 6000 iteration"
   ]
  },
  {
   "cell_type": "code",
   "execution_count": 129,
   "metadata": {},
   "outputs": [
    {
     "data": {
      "text/plain": [
       "array([[ 0.00405914],\n",
       "       [ 0.4976531 ],\n",
       "       [ 0.99939919],\n",
       "       ..., \n",
       "       [ 0.0173231 ],\n",
       "       [ 0.01052975],\n",
       "       [ 0.00556415]], dtype=float32)"
      ]
     },
     "execution_count": 129,
     "metadata": {},
     "output_type": "execute_result"
    }
   ],
   "source": [
    "pred"
   ]
  },
  {
   "cell_type": "code",
   "execution_count": 131,
   "metadata": {},
   "outputs": [
    {
     "data": {
      "image/png": "[encoded data removed]",
      "text/plain": [
       "<matplotlib.figure.Figure at 0x18057dd6f60>"
      ]
     },
     "metadata": {},
     "output_type": "display_data"
    }
   ],
   "source": [
    "plt.scatter(x_data, pred)\n",
    "plt.show()"
   ]
  },
  {
   "cell_type": "code",
   "execution_count": 132,
   "metadata": {
    "collapsed": true
   },
   "outputs": [],
   "source": [
    "pred = list(map(binarize, pred))"
   ]
  },
  {
   "cell_type": "code",
   "execution_count": 133,
   "metadata": {},
   "outputs": [
    {
     "data": {
      "image/png": "[encoded data removed]",
      "text/plain": [
       "<matplotlib.figure.Figure at 0x18057d2cda0>"
      ]
     },
     "metadata": {},
     "output_type": "display_data"
    }
   ],
   "source": [
    "plt.scatter(x_data, pred)\n",
    "plt.show()"
   ]
  },
  {
   "cell_type": "code",
   "execution_count": 137,
   "metadata": {
    "collapsed": true
   },
   "outputs": [],
   "source": [
    "y_true1 = y_true.flatten()"
   ]
  },
  {
   "cell_type": "code",
   "execution_count": 140,
   "metadata": {
    "collapsed": true
   },
   "outputs": [],
   "source": [
    "y_true1 = y_true1.tolist()"
   ]
  },
  {
   "cell_type": "code",
   "execution_count": 148,
   "metadata": {},
   "outputs": [
    {
     "name": "stdout",
     "output_type": "stream",
     "text": [
      "Total: 2000\n",
      "Correct: 1935\n",
      "Accuracy: 96.75\n"
     ]
    }
   ],
   "source": [
    "count = 0\n",
    "for i in range(len(y_true)):\n",
    "    if y_true1[i]==pred[i]:\n",
    "        count+=1\n",
    "print('Total:', len(y_true))        \n",
    "print('Correct:',count)\n",
    "print(\"Accuracy:\",(count/len(y_true))*100)"
   ]
  },
  {
   "cell_type": "code",
   "execution_count": 1,
   "metadata": {
    "collapsed": true
   },
   "outputs": [],
   "source": [
    "# if X is in column major form then the output will also be in column major form"
   ]
  }
 ],
 "metadata": {
  "kernelspec": {
   "display_name": "Python 3",
   "language": "python",
   "name": "python3"
  },
  "language_info": {
   "codemirror_mode": {
    "name": "ipython",
    "version": 3
   },
   "file_extension": ".py",
   "mimetype": "text/x-python",
   "name": "python",
   "nbconvert_exporter": "python",
   "pygments_lexer": "ipython3",
   "version": "3.5.4"
  }
 },
 "nbformat": 4,
 "nbformat_minor": 2
}
