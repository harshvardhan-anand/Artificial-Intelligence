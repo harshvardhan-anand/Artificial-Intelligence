{
 "cells": [
  {
   "cell_type": "code",
   "execution_count": 1,
   "metadata": {
    "collapsed": true
   },
   "outputs": [],
   "source": [
    "import tensorflow as tf\n",
    "import numpy as np\n",
    "import matplotlib.pyplot as plt"
   ]
  },
  {
   "cell_type": "code",
   "execution_count": 2,
   "metadata": {
    "collapsed": true
   },
   "outputs": [],
   "source": [
    "from tensorflow.examples.tutorials.mnist import input_data"
   ]
  },
  {
   "cell_type": "code",
   "execution_count": 3,
   "metadata": {},
   "outputs": [
    {
     "name": "stdout",
     "output_type": "stream",
     "text": [
      "Extracting mnist_data\\train-images-idx3-ubyte.gz\n",
      "Extracting mnist_data\\train-labels-idx1-ubyte.gz\n",
      "Extracting mnist_data\\t10k-images-idx3-ubyte.gz\n",
      "Extracting mnist_data\\t10k-labels-idx1-ubyte.gz\n"
     ]
    }
   ],
   "source": [
    "# data = input_data.read_data_sets('mnist_data', one_hot=True)  # we are removing this because--> see the docs of tf.nn.sparse_softmax_cross_entropy_with_logits (**NOTE**, it requires the position index of correct label)\n",
    "data = input_data.read_data_sets('mnist_data')"
   ]
  },
  {
   "cell_type": "code",
   "execution_count": 4,
   "metadata": {},
   "outputs": [
    {
     "data": {
      "text/plain": [
       "(55000, 784)"
      ]
     },
     "execution_count": 4,
     "metadata": {},
     "output_type": "execute_result"
    }
   ],
   "source": [
    "data.train.images.shape"
   ]
  },
  {
   "cell_type": "code",
   "execution_count": 5,
   "metadata": {},
   "outputs": [
    {
     "data": {
      "text/plain": [
       "(10000, 784)"
      ]
     },
     "execution_count": 5,
     "metadata": {},
     "output_type": "execute_result"
    }
   ],
   "source": [
    "data.test.images.shape"
   ]
  },
  {
   "cell_type": "code",
   "execution_count": 6,
   "metadata": {},
   "outputs": [
    {
     "data": {
      "text/plain": [
       "(5000, 784)"
      ]
     },
     "execution_count": 6,
     "metadata": {},
     "output_type": "execute_result"
    }
   ],
   "source": [
    "data.validation.images.shape"
   ]
  },
  {
   "cell_type": "code",
   "execution_count": 7,
   "metadata": {},
   "outputs": [
    {
     "data": {
      "text/plain": [
       "(784,)"
      ]
     },
     "execution_count": 7,
     "metadata": {},
     "output_type": "execute_result"
    }
   ],
   "source": [
    "data.train.images[1].shape"
   ]
  },
  {
   "cell_type": "code",
   "execution_count": 8,
   "metadata": {},
   "outputs": [
    {
     "data": {
      "image/png": "[encoded data removed]",
      "text/plain": [
       "<matplotlib.figure.Figure at 0x1fc50cad588>"
      ]
     },
     "metadata": {},
     "output_type": "display_data"
    }
   ],
   "source": [
    "img = data.train.images[1].reshape(28, 28)\n",
    "plt.imshow(img, cmap='gray')\n",
    "plt.show()"
   ]
  },
  {
   "cell_type": "code",
   "execution_count": 9,
   "metadata": {},
   "outputs": [
    {
     "data": {
      "text/plain": [
       "0"
      ]
     },
     "execution_count": 9,
     "metadata": {},
     "output_type": "execute_result"
    }
   ],
   "source": [
    "np.argmax(data.train.labels[1])"
   ]
  },
  {
   "cell_type": "code",
   "execution_count": 10,
   "metadata": {},
   "outputs": [],
   "source": [
    "# since the image is black and white so the images have only single channel == 1"
   ]
  },
  {
   "cell_type": "code",
   "execution_count": 11,
   "metadata": {},
   "outputs": [
    {
     "data": {
      "text/plain": [
       "dtype('uint8')"
      ]
     },
     "execution_count": 11,
     "metadata": {},
     "output_type": "execute_result"
    }
   ],
   "source": [
    "data.train.labels.dtype"
   ]
  },
  {
   "cell_type": "code",
   "execution_count": 12,
   "metadata": {},
   "outputs": [],
   "source": [
    "# take the images\n",
    "x_data = tf.placeholder(tf.float32, shape=[None, 784])# we have the each rows with 784 columns and we can take n-number of the rows at a\n",
    "#                                             time so the shape will be [None, 784]\n",
    "# reshape the image in form of [batch_size(-1), height, width, channel]\n",
    "x = tf.reshape(x_data, shape=[-1, 28, 28, 1])\n",
    "# get the labels\n",
    "y = tf.placeholder(tf.int32, shape=[None])  # 10 because we have one hot encoded lables"
   ]
  },
  {
   "cell_type": "code",
   "execution_count": 13,
   "metadata": {
    "collapsed": true
   },
   "outputs": [],
   "source": [
    "# We are taking such shape of kernel and stride values and number of fully connected neuron as they are tested and well known\n",
    "# architecture. you can take any thing you want"
   ]
  },
  {
   "cell_type": "code",
   "execution_count": 14,
   "metadata": {},
   "outputs": [],
   "source": [
    "# apply convolution 1, single image shape = 28x28\n",
    "cov1 = tf.layers.conv2d(x, filters=32, kernel_size=3, strides=1, \n",
    "                 padding='same', activation=tf.nn.relu, kernel_initializer=tf.truncated_normal_initializer(), \n",
    "                name='conv_layer1') # output shape = -1x28x28x32, 32 because we have collected 32 features"
   ]
  },
  {
   "cell_type": "code",
   "execution_count": 73,
   "metadata": {},
   "outputs": [],
   "source": [
    "# apply maxpool 1, single image shape = 14x14\n",
    "mxp1 = tf.nn.max_pool(cov1, [1,2,2,1], [1,2,2,1],'SAME') # output shape = -1x14x14x32"
   ]
  },
  {
   "cell_type": "code",
   "execution_count": 16,
   "metadata": {},
   "outputs": [],
   "source": [
    "# apply convolution 2, single image shape = 14x14\n",
    "cov2 = tf.layers.conv2d(mxp1, filters=64, kernel_size=3, strides=1, \n",
    "                 padding='same', activation=tf.nn.relu, kernel_initializer=tf.truncated_normal_initializer(), \n",
    "                name='conv_layer2')# output shape = -1x14x14x64, 64 because we have collected 64 features which are more complex\n",
    "    #                                 than features we have extracted in convolution 1"
   ]
  },
  {
   "cell_type": "code",
   "execution_count": 17,
   "metadata": {},
   "outputs": [],
   "source": [
    "# apply maxpool2, single iamge shape = 7x7\n",
    "mxp2 = tf.nn.max_pool(cov1, [1,2,2,1], [1,2,2,1],'SAME')  # output shape = -1x7x7x64"
   ]
  },
  {
   "cell_type": "code",
   "execution_count": 57,
   "metadata": {},
   "outputs": [],
   "source": [
    "# flatten the output of maxpool 2 \n",
    "flat = tf.reshape(mxp2, shape=[-1,tf.cast( mxp2.shape[1]*mxp2.shape[2]*mxp2.shape[3], tf.int32)])  # -1 is for n rows\n",
    "\n",
    "# connect it to 1024 neurons\n",
    "fully_connected = tf.layers.dense(flat, 1024, activation=tf.nn.relu)\n",
    "\n",
    "# implementing dropout\n",
    "keep_prob = 0.5\n",
    "tf.nn.dropout(fully_connected, keep_prob=keep_prob)\n",
    "\n",
    "# apply softmax to get the probability of the class prediction\n",
    "y_pred = tf.layers.dense(fully_connected, 10)   # 10, because we have 10 class\n",
    "pred_proba = tf.nn.softmax(y_pred)\n",
    "\n",
    "# apply cross-entropy to calculate the error\n",
    "xentropy = tf.nn.sparse_softmax_cross_entropy_with_logits(logits=y_pred, labels=y)\n",
    "loss = tf.reduce_mean(xentropy)\n",
    "\n",
    "# apply the gradient descent to reduce the errors\n",
    "optimiser = tf.train.GradientDescentOptimizer(0.5)\n",
    "train = optimiser.minimize(loss)"
   ]
  },
  {
   "cell_type": "code",
   "execution_count": 58,
   "metadata": {
    "collapsed": true
   },
   "outputs": [],
   "source": [
    "init = tf.global_variables_initializer()"
   ]
  },
  {
   "cell_type": "code",
   "execution_count": 59,
   "metadata": {
    "collapsed": true
   },
   "outputs": [],
   "source": [
    "correct_prediction = tf.equal(tf.argmax(y_pred, 1), tf.argmax(y, 0))\n",
    "accuracy = tf.reduce_mean(tf.cast(correct_prediction, tf.float32))"
   ]
  },
  {
   "cell_type": "code",
   "execution_count": 74,
   "metadata": {},
   "outputs": [],
   "source": [
    "# run the session\n",
    "with tf.Session() as sess:\n",
    "    sess.run(init)\n",
    "    batch_size = 1\n",
    "    # define a list to keep the record of errors and accuracy\n",
    "    errors = []\n",
    "    pred_train = []\n",
    "    pred_test = []\n",
    "    # define the number of epochs\n",
    "    epochs = 100\n",
    "    for _ in range(epochs):\n",
    "        # create the feed dictionary\n",
    "        batchx, batchy = data.train.next_batch(batch_size)\n",
    "        feed_dict = {x_data:batchx, y:batchy}\n",
    "        # train the model\n",
    "        sess.run(train, feed_dict)\n",
    "        # keep the record of error\n",
    "        error = sess.run(loss, feed_dict)\n",
    "        errors.append(error)\n",
    "        # predicted train\n",
    "        data_softmax = sess.run(pred_proba, feed_dict)\n",
    "        data_dense = sess.run(y_pred, feed_dict)\n",
    "        predicted_train = sess.run(accuracy, feed_dict)\n",
    "        pred_train.append(predicted_train*100)\n",
    "        # predicted test\n",
    "        batch = data.test.next_batch(batch_size)\n",
    "        feed_dict_test = {x_data:batch[0], y:batch[1]}\n",
    "        predicted_test = sess.run(accuracy, feed_dict_test)\n",
    "        pred_test.append(predicted_test*100)"
   ]
  },
  {
   "cell_type": "code",
   "execution_count": 75,
   "metadata": {},
   "outputs": [
    {
     "data": {
      "image/png": "[encoded data removed]",
      "text/plain": [
       "<matplotlib.figure.Figure at 0x1fc031c2dd8>"
      ]
     },
     "metadata": {},
     "output_type": "display_data"
    }
   ],
   "source": [
    "plt.plot(errors)\n",
    "plt.plot(pred_train)\n",
    "plt.plot(pred_test)\n",
    "plt.legend(['Errors', 'Train Accuracy', 'Test Accuracy'])\n",
    "plt.show()"
   ]
  },
  {
   "cell_type": "code",
   "execution_count": 76,
   "metadata": {},
   "outputs": [
    {
     "name": "stdout",
     "output_type": "stream",
     "text": [
      "[[ 0.06375264  0.09292401  0.06953748  0.18446982  0.12505671  0.06998896\n",
      "   0.13919336  0.05803282  0.10425884  0.09278531]]\n",
      "[[-0.38471803 -0.00794652 -0.29786271  0.67775714  0.28903863 -0.29139128\n",
      "   0.3961353  -0.4787201   0.10714793 -0.00944043]]\n"
     ]
    }
   ],
   "source": [
    "print(data_softmax)\n",
    "print(data_dense)"
   ]
  },
  {
   "cell_type": "code",
   "execution_count": 54,
   "metadata": {
    "scrolled": true
   },
   "outputs": [
    {
     "data": {
      "text/plain": [
       "[1.9999999552965164,\n",
       " 0.0,\n",
       " 0.0,\n",
       " 0.0,\n",
       " 18.999999761581421,\n",
       " 0.0,\n",
       " 66.00000262260437,\n",
       " 0.0,\n",
       " 0.0,\n",
       " 0.0,\n",
       " 0.0,\n",
       " 3.9999999105930328,\n",
       " 0.0,\n",
       " 11.999999731779099,\n",
       " 0.0,\n",
       " 0.0,\n",
       " 0.0,\n",
       " 0.0,\n",
       " 7.0000000298023224,\n",
       " 0.0,\n",
       " 9.0000003576278687,\n",
       " 0.0,\n",
       " 0.0,\n",
       " 0.0,\n",
       " 5.9999998658895493,\n",
       " 0.0,\n",
       " 7.9999998211860657,\n",
       " 11.999999731779099,\n",
       " 0.0,\n",
       " 25.0,\n",
       " 0.0,\n",
       " 0.0,\n",
       " 0.99999997764825821,\n",
       " 10.999999940395355,\n",
       " 0.0,\n",
       " 0.0,\n",
       " 0.0,\n",
       " 0.0,\n",
       " 0.0,\n",
       " 0.0,\n",
       " 0.0,\n",
       " 0.0,\n",
       " 0.0,\n",
       " 14.000000059604645,\n",
       " 0.0,\n",
       " 0.0,\n",
       " 0.0,\n",
       " 0.0,\n",
       " 5.000000074505806,\n",
       " 0.0,\n",
       " 0.0,\n",
       " 33.000001311302185,\n",
       " 0.0,\n",
       " 0.0,\n",
       " 2.9999999329447746,\n",
       " 2.9999999329447746,\n",
       " 0.0,\n",
       " 17.000000178813934,\n",
       " 17.000000178813934,\n",
       " 46.99999988079071,\n",
       " 23.000000417232513,\n",
       " 15.999999642372131,\n",
       " 10.000000149011612,\n",
       " 7.9999998211860657,\n",
       " 17.000000178813934,\n",
       " 0.0,\n",
       " 7.9999998211860657,\n",
       " 15.000000596046448,\n",
       " 0.0,\n",
       " 14.000000059604645,\n",
       " 0.0,\n",
       " 7.0000000298023224,\n",
       " 10.000000149011612,\n",
       " 9.0000003576278687,\n",
       " 10.000000149011612,\n",
       " 0.0,\n",
       " 0.0,\n",
       " 0.0,\n",
       " 9.0000003576278687,\n",
       " 7.9999998211860657,\n",
       " 0.0,\n",
       " 17.000000178813934,\n",
       " 3.9999999105930328,\n",
       " 0.0,\n",
       " 0.0,\n",
       " 0.0,\n",
       " 9.0000003576278687,\n",
       " 0.0,\n",
       " 0.0,\n",
       " 0.0,\n",
       " 0.0,\n",
       " 0.0,\n",
       " 11.999999731779099,\n",
       " 11.999999731779099,\n",
       " 0.0,\n",
       " 0.0,\n",
       " 12.999999523162842,\n",
       " 0.0,\n",
       " 0.0,\n",
       " 10.999999940395355]"
      ]
     },
     "execution_count": 54,
     "metadata": {},
     "output_type": "execute_result"
    }
   ],
   "source": [
    "pred_test"
   ]
  },
  {
   "cell_type": "code",
   "execution_count": null,
   "metadata": {
    "collapsed": true
   },
   "outputs": [],
   "source": []
  }
 ],
 "metadata": {
  "kernelspec": {
   "display_name": "Python 3",
   "language": "python",
   "name": "python3"
  },
  "language_info": {
   "codemirror_mode": {
    "name": "ipython",
    "version": 3
   },
   "file_extension": ".py",
   "mimetype": "text/x-python",
   "name": "python",
   "nbconvert_exporter": "python",
   "pygments_lexer": "ipython3",
   "version": "3.5.4"
  }
 },
 "nbformat": 4,
 "nbformat_minor": 2
}
