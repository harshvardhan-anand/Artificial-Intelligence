{
 "cells": [
  {
   "cell_type": "code",
   "execution_count": 49,
   "metadata": {
    "collapsed": true
   },
   "outputs": [],
   "source": [
    "import tensorflow as tf\n",
    "import matplotlib.pyplot as plt\n",
    "import numpy as np"
   ]
  },
  {
   "cell_type": "code",
   "execution_count": 50,
   "metadata": {
    "collapsed": true
   },
   "outputs": [],
   "source": [
    "from tensorflow.examples.tutorials.mnist import input_data"
   ]
  },
  {
   "cell_type": "code",
   "execution_count": 51,
   "metadata": {},
   "outputs": [
    {
     "name": "stdout",
     "output_type": "stream",
     "text": [
      "Extracting mnist_data\\train-images-idx3-ubyte.gz\n",
      "Extracting mnist_data\\train-labels-idx1-ubyte.gz\n",
      "Extracting mnist_data\\t10k-images-idx3-ubyte.gz\n",
      "Extracting mnist_data\\t10k-labels-idx1-ubyte.gz\n"
     ]
    }
   ],
   "source": [
    "mnist_data = input_data.read_data_sets(\"mnist_data\", one_hot=True)"
   ]
  },
  {
   "cell_type": "code",
   "execution_count": 104,
   "metadata": {
    "collapsed": true
   },
   "outputs": [],
   "source": [
    "# shape = [batch_size, no_of_columns]\n",
    "# placeholder as we want to feed data this\n",
    "x = tf.placeholder(dtype=tf.float32, shape=[None, 784])"
   ]
  },
  {
   "cell_type": "code",
   "execution_count": 105,
   "metadata": {
    "collapsed": true
   },
   "outputs": [],
   "source": [
    "# variable because it can change or learn.\n",
    "# shape = [no_of_columns_in_x, no_of_output]\n",
    "# we want to do (Wi * Xi) so if the shape of W is (m*n) then the shape of X should be (n*p)\n",
    "# where \"p\" is the number of output class because we want different weight for different output class.\n",
    "\n",
    "# predicted probability:               [0.1    0.2   0.4   0.5   0.6   0.3   0.6   0.7   0.1   0.8]\n",
    "# label:                                 0      1     2     3     4     5     6     7     8     9   \n",
    "# then we apply argmax and we will get 9 as output\n",
    "\n",
    "# https://miro.medium.com/max/2000/0*9OP1A-ai99b6S53b.jpg\n",
    "# https://towardsdatascience.com/linear-algebra-for-deep-learning-f21d7e7d7f23 -- matrix form of Ax + B is used.\n",
    "w = tf.Variable(initial_value=tf.zeros(shape=[784, 10]))"
   ]
  },
  {
   "cell_type": "code",
   "execution_count": 106,
   "metadata": {
    "collapsed": true
   },
   "outputs": [],
   "source": [
    "# shape = [None, 10] -- None means we will y_true for the length of batch size.\n",
    "#                         10 because we have 10 class and we need to check whether we have predicted true index or not to calculate\n",
    "#                         the error\n",
    "y_true = tf.placeholder(dtype=tf.int32, shape=[None, 10])"
   ]
  },
  {
   "cell_type": "code",
   "execution_count": 107,
   "metadata": {
    "collapsed": true
   },
   "outputs": [],
   "source": [
    "# matmul is a node\n",
    "# w and x are edges\n",
    "y_pred = tf.matmul(x, w)  "
   ]
  },
  {
   "cell_type": "code",
   "execution_count": 108,
   "metadata": {
    "collapsed": true
   },
   "outputs": [],
   "source": [
    "# now we need to calculate the error\n",
    "# logits are y_pred\n",
    "# labels are y_true\n",
    "cross_entropy_error = tf.reduce_mean(tf.nn.softmax_cross_entropy_with_logits(logits=y_pred, labels=y_true))"
   ]
  },
  {
   "cell_type": "code",
   "execution_count": 109,
   "metadata": {
    "collapsed": true
   },
   "outputs": [],
   "source": [
    "# we need to optimise the error \n",
    "optimizer = tf.train.GradientDescentOptimizer(learning_rate=0.5)\n",
    "train = optimizer.minimize(cross_entropy_error)"
   ]
  },
  {
   "cell_type": "code",
   "execution_count": 110,
   "metadata": {
    "collapsed": true
   },
   "outputs": [],
   "source": [
    "# we need to initialise the variables\n",
    "init = tf.global_variables_initializer()"
   ]
  },
  {
   "cell_type": "code",
   "execution_count": 111,
   "metadata": {
    "collapsed": true
   },
   "outputs": [],
   "source": [
    "# we need to calculate the accuracy\n",
    "correct_mask = tf.equal(tf.argmax(y_pred, 1), tf.argmax(y_true, 1))\n",
    "accuracy = tf.reduce_mean(tf.cast(correct_mask, tf.float32))"
   ]
  },
  {
   "cell_type": "code",
   "execution_count": 125,
   "metadata": {},
   "outputs": [
    {
     "name": "stdout",
     "output_type": "stream",
     "text": [
      "Accuracy is:  88.9999985695\n"
     ]
    },
    {
     "data": {
      "image/png": "[encoded data removed]",
      "text/plain": [
       "<matplotlib.figure.Figure at 0x1a4c1ad3ac8>"
      ]
     },
     "metadata": {},
     "output_type": "display_data"
    }
   ],
   "source": [
    "# running the graph\n",
    "with tf.Session() as sess:\n",
    "    sess.run(init)\n",
    "    epochs = 50\n",
    "    batch_size = 1000\n",
    "    # training\n",
    "    error = []\n",
    "    for _ in range(epochs):\n",
    "        batch_x, batch_y = mnist_data.train.next_batch(batch_size)\n",
    "        feed_dict = {x:batch_x, y_true:batch_y}\n",
    "        sess.run(train, feed_dict)\n",
    "        error_per_epoch = sess.run(cross_entropy_error, feed_dict=feed_dict)\n",
    "        error.append(error_per_epoch)\n",
    "    new_weight = sess.run(w)\n",
    "    # testing\n",
    "    test_batch_size = 1000\n",
    "    test_batch_x, test_batch_y = mnist_data.test.next_batch(test_batch_size)\n",
    "    feed_dict = {x:test_batch_x, y_true:test_batch_y}\n",
    "    acc = sess.run(accuracy, feed_dict)\n",
    "    \n",
    "print(\"Accuracy is: \", acc*100)\n",
    "# print(\"New weights are\\n\", new_weight)\n",
    "plt.plot(error)\n",
    "plt.title(\"Error Plot\")\n",
    "plt.show()"
   ]
  },
  {
   "cell_type": "code",
   "execution_count": 114,
   "metadata": {},
   "outputs": [
    {
     "data": {
      "text/plain": [
       "784"
      ]
     },
     "execution_count": 114,
     "metadata": {},
     "output_type": "execute_result"
    }
   ],
   "source": [
    "len(new_weight)"
   ]
  },
  {
   "cell_type": "code",
   "execution_count": 115,
   "metadata": {},
   "outputs": [
    {
     "data": {
      "text/plain": [
       "(784, 10)"
      ]
     },
     "execution_count": 115,
     "metadata": {},
     "output_type": "execute_result"
    }
   ],
   "source": [
    "new_weight.shape"
   ]
  },
  {
   "cell_type": "code",
   "execution_count": 116,
   "metadata": {
    "collapsed": true
   },
   "outputs": [],
   "source": [
    "# dont know I think it is correct\n",
    "# 784 rows and 10 columns in weight means all 784 rows at index 0 is the weight value for all pixel of \"0\" to classify it as \"0\"\n",
    "# similarly for all other columns"
   ]
  },
  {
   "cell_type": "markdown",
   "metadata": {},
   "source": [
    "# Visualisation of y_pred"
   ]
  },
  {
   "cell_type": "code",
   "execution_count": 117,
   "metadata": {
    "collapsed": true
   },
   "outputs": [],
   "source": [
    "sess = tf.Session()"
   ]
  },
  {
   "cell_type": "code",
   "execution_count": 118,
   "metadata": {
    "collapsed": true
   },
   "outputs": [],
   "source": [
    "sess.run(init)"
   ]
  },
  {
   "cell_type": "code",
   "execution_count": 119,
   "metadata": {
    "collapsed": true
   },
   "outputs": [],
   "source": [
    "batch_size = 100\n",
    "batch_x, batch_y = mnist_data.train.next_batch(batch_size)\n",
    "feed_dict = {x:batch_x}"
   ]
  },
  {
   "cell_type": "code",
   "execution_count": 120,
   "metadata": {
    "collapsed": true
   },
   "outputs": [],
   "source": [
    "a = sess.run(y_pred, feed_dict=feed_dict)"
   ]
  },
  {
   "cell_type": "code",
   "execution_count": 121,
   "metadata": {},
   "outputs": [
    {
     "data": {
      "text/plain": [
       "100"
      ]
     },
     "execution_count": 121,
     "metadata": {},
     "output_type": "execute_result"
    }
   ],
   "source": [
    "len(a)"
   ]
  },
  {
   "cell_type": "code",
   "execution_count": 122,
   "metadata": {
    "collapsed": true
   },
   "outputs": [],
   "source": [
    "b = a.tolist()"
   ]
  },
  {
   "cell_type": "code",
   "execution_count": 123,
   "metadata": {},
   "outputs": [
    {
     "data": {
      "text/plain": [
       "{0.0}"
      ]
     },
     "execution_count": 123,
     "metadata": {},
     "output_type": "execute_result"
    }
   ],
   "source": [
    "set(b[0])"
   ]
  },
  {
   "cell_type": "code",
   "execution_count": 124,
   "metadata": {
    "collapsed": true
   },
   "outputs": [],
   "source": [
    "sess.close()"
   ]
  }
 ],
 "metadata": {
  "kernelspec": {
   "display_name": "Python 3",
   "language": "python",
   "name": "python3"
  },
  "language_info": {
   "codemirror_mode": {
    "name": "ipython",
    "version": 3
   },
   "file_extension": ".py",
   "mimetype": "text/x-python",
   "name": "python",
   "nbconvert_exporter": "python",
   "pygments_lexer": "ipython3",
   "version": "3.5.4"
  }
 },
 "nbformat": 4,
 "nbformat_minor": 2
}
