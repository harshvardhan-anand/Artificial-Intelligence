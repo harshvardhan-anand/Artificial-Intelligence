{
 "cells": [
  {
   "cell_type": "code",
   "execution_count": 1,
   "metadata": {},
   "outputs": [],
   "source": [
    "import tensorflow as tf\n",
    "from tensorflow import keras as k\n",
    "import numpy as np\n",
    "import matplotlib.pyplot as plt\n",
    "from tensorflow.keras import Sequential\n",
    "from tensorflow.keras.layers import Dense"
   ]
  },
  {
   "cell_type": "code",
   "execution_count": 2,
   "metadata": {},
   "outputs": [],
   "source": [
    "with tf.name_scope('data'):\n",
    "    N = 100\n",
    "    w_true = 5\n",
    "    b_true = 7\n",
    "    x = np.random.rand(N, 1)\n",
    "    noise = np.random.normal(0,1,size=(N, 1))"
   ]
  },
  {
   "cell_type": "code",
   "execution_count": 3,
   "metadata": {},
   "outputs": [],
   "source": [
    "with tf.name_scope('y_true'):\n",
    "    y_true = w_true*x+b_true+noise"
   ]
  },
  {
   "cell_type": "code",
   "execution_count": 4,
   "metadata": {},
   "outputs": [
    {
     "data": {
      "text/plain": [
       "(100, 1)"
      ]
     },
     "execution_count": 4,
     "metadata": {},
     "output_type": "execute_result"
    }
   ],
   "source": [
    "x.shape"
   ]
  },
  {
   "cell_type": "code",
   "execution_count": 5,
   "metadata": {},
   "outputs": [
    {
     "data": {
      "text/plain": [
       "(100, 1)"
      ]
     },
     "execution_count": 5,
     "metadata": {},
     "output_type": "execute_result"
    }
   ],
   "source": [
    "y_true.shape"
   ]
  },
  {
   "cell_type": "code",
   "execution_count": 6,
   "metadata": {},
   "outputs": [
    {
     "data": {
      "text/plain": [
       "<matplotlib.collections.PathCollection at 0x1a3fbf65a08>"
      ]
     },
     "execution_count": 6,
     "metadata": {},
     "output_type": "execute_result"
    },
    {
     "data": {
      "image/png": "[encoded data removed]",
      "text/plain": [
       "<Figure size 432x288 with 1 Axes>"
      ]
     },
     "metadata": {
      "needs_background": "light"
     },
     "output_type": "display_data"
    }
   ],
   "source": [
    "plt.scatter(x, y_true)"
   ]
  },
  {
   "cell_type": "code",
   "execution_count": 7,
   "metadata": {},
   "outputs": [],
   "source": [
    "x = x.astype(np.float32) # we can perform matrix multiplication b/w similar data types"
   ]
  },
  {
   "cell_type": "code",
   "execution_count": 8,
   "metadata": {},
   "outputs": [],
   "source": [
    "with tf.name_scope('variables'):\n",
    "    w = tf.Variable(tf.random.normal(shape=[1, 1]))\n",
    "    b = tf.Variable(tf.random.normal(shape=[1,]))"
   ]
  },
  {
   "cell_type": "code",
   "execution_count": 9,
   "metadata": {},
   "outputs": [],
   "source": [
    "with tf.name_scope('y_pred'):\n",
    "    y_pred = tf.matmul(x, w)+b"
   ]
  },
  {
   "cell_type": "code",
   "execution_count": 9,
   "metadata": {},
   "outputs": [],
   "source": [
    "with tf.name_scope('optimizer'):\n",
    "    optimizer = k.optimizers.Adam(0.001)"
   ]
  },
  {
   "cell_type": "code",
   "execution_count": 10,
   "metadata": {},
   "outputs": [
    {
     "data": {
      "text/plain": [
       "(100, 1)"
      ]
     },
     "execution_count": 10,
     "metadata": {},
     "output_type": "execute_result"
    }
   ],
   "source": [
    "x.shape"
   ]
  },
  {
   "cell_type": "code",
   "execution_count": 11,
   "metadata": {},
   "outputs": [],
   "source": [
    "# dense have 1 cell and input shape of (n rows, 1) column\n",
    "with tf.name_scope('model'):\n",
    "    model = Sequential([\n",
    "        Dense(1, input_shape=(1,))\n",
    "    ])"
   ]
  },
  {
   "cell_type": "code",
   "execution_count": 12,
   "metadata": {},
   "outputs": [],
   "source": [
    "with tf.name_scope('loss'):\n",
    "    loss = lambda y_true, y_pred : tf.reduce_sum((y_true - y_pred)**2)"
   ]
  },
  {
   "cell_type": "code",
   "execution_count": 14,
   "metadata": {},
   "outputs": [],
   "source": [
    "model.compile(loss=loss, optimizer='adam', metrics=['mse'])"
   ]
  },
  {
   "cell_type": "code",
   "execution_count": 15,
   "metadata": {},
   "outputs": [
    {
     "name": "stdout",
     "output_type": "stream",
     "text": [
      "Model: \"sequential\"\n",
      "_________________________________________________________________\n",
      "Layer (type)                 Output Shape              Param #   \n",
      "=================================================================\n",
      "dense (Dense)                (None, 1)                 2         \n",
      "=================================================================\n",
      "Total params: 2\n",
      "Trainable params: 2\n",
      "Non-trainable params: 0\n",
      "_________________________________________________________________\n"
     ]
    }
   ],
   "source": [
    "model.summary()"
   ]
  },
  {
   "cell_type": "code",
   "execution_count": 16,
   "metadata": {},
   "outputs": [],
   "source": [
    "tensorboard = tf.keras.callbacks.TensorBoard(log_dir='.\\log')"
   ]
  },
  {
   "cell_type": "code",
   "execution_count": 17,
   "metadata": {},
   "outputs": [
    {
     "name": "stdout",
     "output_type": "stream",
     "text": [
      "Train on 100 samples\n",
      "Epoch 1/100\n",
      "100/100 [==============================] - 1s 9ms/sample - loss: 2555.2501 - mse: 83.1850\n",
      "Epoch 2/100\n",
      "100/100 [==============================] - 0s 310us/sample - loss: 2568.3748 - mse: 83.0830\n",
      "Epoch 3/100\n",
      "100/100 [==============================] - 0s 330us/sample - loss: 2547.6118 - mse: 82.9828\n",
      "Epoch 4/100\n",
      "100/100 [==============================] - 0s 350us/sample - loss: 2569.8152 - mse: 82.8846\n",
      "Epoch 5/100\n",
      "100/100 [==============================] - 0s 320us/sample - loss: 2550.4969 - mse: 82.7846\n",
      "Epoch 6/100\n",
      "100/100 [==============================] - 0s 320us/sample - loss: 2553.4667 - mse: 82.6868\n",
      "Epoch 7/100\n",
      "100/100 [==============================] - 0s 280us/sample - loss: 2557.5202 - mse: 82.5890\n",
      "Epoch 8/100\n",
      "100/100 [==============================] - 0s 230us/sample - loss: 2553.1962 - mse: 82.4914\n",
      "Epoch 9/100\n",
      "100/100 [==============================] - 0s 260us/sample - loss: 2569.1711 - mse: 82.3927\n",
      "Epoch 10/100\n",
      "100/100 [==============================] - 0s 380us/sample - loss: 2563.7585 - mse: 82.2962\n",
      "Epoch 11/100\n",
      "100/100 [==============================] - 0s 290us/sample - loss: 2542.0395 - mse: 82.1970\n",
      "Epoch 12/100\n",
      "100/100 [==============================] - ETA: 0s - loss: 2490.5386 - mse: 77.829 - 0s 300us/sample - loss: 2538.4154 - mse: 82.0994\n",
      "Epoch 13/100\n",
      "100/100 [==============================] - 0s 260us/sample - loss: 2516.6475 - mse: 82.0019\n",
      "Epoch 14/100\n",
      "100/100 [==============================] - 0s 260us/sample - loss: 2517.5562 - mse: 81.9041\n",
      "Epoch 15/100\n",
      "100/100 [==============================] - 0s 210us/sample - loss: 2502.9279 - mse: 81.8071\n",
      "Epoch 16/100\n",
      "100/100 [==============================] - 0s 230us/sample - loss: 2507.2587 - mse: 81.7103\n",
      "Epoch 17/100\n",
      "100/100 [==============================] - 0s 320us/sample - loss: 2541.6639 - mse: 81.6127\n",
      "Epoch 18/100\n",
      "100/100 [==============================] - 0s 260us/sample - loss: 2524.8033 - mse: 81.5155\n",
      "Epoch 19/100\n",
      "100/100 [==============================] - 0s 270us/sample - loss: 2525.3100 - mse: 81.4177\n",
      "Epoch 20/100\n",
      "100/100 [==============================] - 0s 240us/sample - loss: 2511.6270 - mse: 81.3201\n",
      "Epoch 21/100\n",
      "100/100 [==============================] - 0s 270us/sample - loss: 2487.1326 - mse: 81.2234\n",
      "Epoch 22/100\n",
      "100/100 [==============================] - 0s 250us/sample - loss: 2508.2549 - mse: 81.1270\n",
      "Epoch 23/100\n",
      "100/100 [==============================] - 0s 230us/sample - loss: 2505.0981 - mse: 81.0289\n",
      "Epoch 24/100\n",
      "100/100 [==============================] - 0s 250us/sample - loss: 2491.6711 - mse: 80.9326\n",
      "Epoch 25/100\n",
      "100/100 [==============================] - 0s 230us/sample - loss: 2500.2327 - mse: 80.8354\n",
      "Epoch 26/100\n",
      "100/100 [==============================] - 0s 280us/sample - loss: 2463.0728 - mse: 80.7387\n",
      "Epoch 27/100\n",
      "100/100 [==============================] - 0s 270us/sample - loss: 2493.2585 - mse: 80.6412\n",
      "Epoch 28/100\n",
      "100/100 [==============================] - 0s 200us/sample - loss: 2479.9733 - mse: 80.5446\n",
      "Epoch 29/100\n",
      "100/100 [==============================] - 0s 210us/sample - loss: 2472.8293 - mse: 80.4490\n",
      "Epoch 30/100\n",
      "100/100 [==============================] - 0s 180us/sample - loss: 2485.1223 - mse: 80.3515\n",
      "Epoch 31/100\n",
      "100/100 [==============================] - 0s 260us/sample - loss: 2473.7925 - mse: 80.2556\n",
      "Epoch 32/100\n",
      "100/100 [==============================] - 0s 310us/sample - loss: 2468.7002 - mse: 80.1584\n",
      "Epoch 33/100\n",
      "100/100 [==============================] - 0s 170us/sample - loss: 2492.5105 - mse: 80.0623\n",
      "Epoch 34/100\n",
      "100/100 [==============================] - 0s 230us/sample - loss: 2481.0194 - mse: 79.9663\n",
      "Epoch 35/100\n",
      "100/100 [==============================] - 0s 310us/sample - loss: 2475.2146 - mse: 79.8703\n",
      "Epoch 36/100\n",
      "100/100 [==============================] - 0s 220us/sample - loss: 2440.7162 - mse: 79.7737\n",
      "Epoch 37/100\n",
      "100/100 [==============================] - 0s 230us/sample - loss: 2450.5265 - mse: 79.6783\n",
      "Epoch 38/100\n",
      "100/100 [==============================] - 0s 260us/sample - loss: 2442.4075 - mse: 79.5826\n",
      "Epoch 39/100\n",
      "100/100 [==============================] - 0s 240us/sample - loss: 2450.1059 - mse: 79.4862\n",
      "Epoch 40/100\n",
      "100/100 [==============================] - 0s 190us/sample - loss: 2435.9840 - mse: 79.3893\n",
      "Epoch 41/100\n",
      "100/100 [==============================] - 0s 200us/sample - loss: 2443.4023 - mse: 79.2940\n",
      "Epoch 42/100\n",
      "100/100 [==============================] - 0s 190us/sample - loss: 2467.2326 - mse: 79.1997\n",
      "Epoch 43/100\n",
      "100/100 [==============================] - 0s 270us/sample - loss: 2445.5312 - mse: 79.1047\n",
      "Epoch 44/100\n",
      "100/100 [==============================] - 0s 190us/sample - loss: 2425.3338 - mse: 79.0068\n",
      "Epoch 45/100\n",
      "100/100 [==============================] - 0s 260us/sample - loss: 2453.6370 - mse: 78.9131\n",
      "Epoch 46/100\n",
      "100/100 [==============================] - 0s 250us/sample - loss: 2431.9804 - mse: 78.8172\n",
      "Epoch 47/100\n",
      "100/100 [==============================] - 0s 250us/sample - loss: 2438.4150 - mse: 78.7225\n",
      "Epoch 48/100\n",
      "100/100 [==============================] - 0s 230us/sample - loss: 2437.9933 - mse: 78.6267\n",
      "Epoch 49/100\n",
      "100/100 [==============================] - 0s 170us/sample - loss: 2415.6005 - mse: 78.5316\n",
      "Epoch 50/100\n",
      "100/100 [==============================] - 0s 250us/sample - loss: 2425.4332 - mse: 78.4384\n",
      "Epoch 51/100\n",
      "100/100 [==============================] - 0s 240us/sample - loss: 2436.5760 - mse: 78.3426\n",
      "Epoch 52/100\n",
      "100/100 [==============================] - 0s 180us/sample - loss: 2407.0445 - mse: 78.2473\n",
      "Epoch 53/100\n",
      "100/100 [==============================] - 0s 230us/sample - loss: 2405.0764 - mse: 78.1527\n",
      "Epoch 54/100\n",
      "100/100 [==============================] - 0s 170us/sample - loss: 2421.8807 - mse: 78.0582\n",
      "Epoch 55/100\n",
      "100/100 [==============================] - 0s 220us/sample - loss: 2405.7351 - mse: 77.9651\n",
      "Epoch 56/100\n",
      "100/100 [==============================] - 0s 240us/sample - loss: 2409.7979 - mse: 77.8694\n",
      "Epoch 57/100\n",
      "100/100 [==============================] - 0s 260us/sample - loss: 2411.7449 - mse: 77.7744\n",
      "Epoch 58/100\n",
      "100/100 [==============================] - ETA: 0s - loss: 2705.6670 - mse: 84.552 - 0s 180us/sample - loss: 2400.6068 - mse: 77.6817\n",
      "Epoch 59/100\n",
      "100/100 [==============================] - 0s 280us/sample - loss: 2380.4583 - mse: 77.5873\n",
      "Epoch 60/100\n",
      "100/100 [==============================] - ETA: 0s - loss: 2332.5791 - mse: 72.893 - 0s 210us/sample - loss: 2407.9836 - mse: 77.4926\n",
      "Epoch 61/100\n",
      "100/100 [==============================] - 0s 260us/sample - loss: 2403.9835 - mse: 77.3999\n",
      "Epoch 62/100\n",
      "100/100 [==============================] - 0s 210us/sample - loss: 2403.2631 - mse: 77.3048\n",
      "Epoch 63/100\n",
      "100/100 [==============================] - 0s 220us/sample - loss: 2382.2702 - mse: 77.2118\n",
      "Epoch 64/100\n",
      "100/100 [==============================] - 0s 300us/sample - loss: 2374.8601 - mse: 77.1170\n",
      "Epoch 65/100\n",
      "100/100 [==============================] - 0s 190us/sample - loss: 2345.7190 - mse: 77.0237\n",
      "Epoch 66/100\n",
      "100/100 [==============================] - 0s 280us/sample - loss: 2378.8848 - mse: 76.9308\n",
      "Epoch 67/100\n",
      "100/100 [==============================] - 0s 280us/sample - loss: 2376.2876 - mse: 76.8376\n",
      "Epoch 68/100\n",
      "100/100 [==============================] - 0s 160us/sample - loss: 2356.1728 - mse: 76.7435\n",
      "Epoch 69/100\n",
      "100/100 [==============================] - 0s 190us/sample - loss: 2350.3186 - mse: 76.6504\n",
      "Epoch 70/100\n",
      "100/100 [==============================] - 0s 200us/sample - loss: 2375.5361 - mse: 76.5583\n",
      "Epoch 71/100\n",
      "100/100 [==============================] - 0s 210us/sample - loss: 2361.2002 - mse: 76.4643\n",
      "Epoch 72/100\n",
      "100/100 [==============================] - 0s 220us/sample - loss: 2349.9904 - mse: 76.3709\n",
      "Epoch 73/100\n",
      "100/100 [==============================] - 0s 220us/sample - loss: 2377.9634 - mse: 76.2791\n",
      "Epoch 74/100\n",
      "100/100 [==============================] - 0s 270us/sample - loss: 2364.8047 - mse: 76.1853\n",
      "Epoch 75/100\n",
      "100/100 [==============================] - 0s 290us/sample - loss: 2365.3570 - mse: 76.0924\n",
      "Epoch 76/100\n",
      "100/100 [==============================] - 0s 180us/sample - loss: 2358.0167 - mse: 76.0000\n",
      "Epoch 77/100\n",
      "100/100 [==============================] - 0s 260us/sample - loss: 2334.6239 - mse: 75.9072\n",
      "Epoch 78/100\n",
      "100/100 [==============================] - 0s 220us/sample - loss: 2353.6280 - mse: 75.8150\n",
      "Epoch 79/100\n",
      "100/100 [==============================] - 0s 250us/sample - loss: 2349.0365 - mse: 75.7225\n",
      "Epoch 80/100\n",
      "100/100 [==============================] - 0s 250us/sample - loss: 2334.6146 - mse: 75.6295\n",
      "Epoch 81/100\n",
      "100/100 [==============================] - 0s 220us/sample - loss: 2326.3522 - mse: 75.5376\n",
      "Epoch 82/100\n",
      "100/100 [==============================] - 0s 200us/sample - loss: 2330.9460 - mse: 75.4464\n",
      "Epoch 83/100\n",
      "100/100 [==============================] - 0s 210us/sample - loss: 2317.8349 - mse: 75.3536\n",
      "Epoch 84/100\n",
      "100/100 [==============================] - 0s 200us/sample - loss: 2329.5037 - mse: 75.2613\n",
      "Epoch 85/100\n",
      "100/100 [==============================] - 0s 220us/sample - loss: 2333.8199 - mse: 75.1696\n",
      "Epoch 86/100\n",
      "100/100 [==============================] - 0s 240us/sample - loss: 2339.4882 - mse: 75.0778\n",
      "Epoch 87/100\n",
      "100/100 [==============================] - 0s 220us/sample - loss: 2317.1155 - mse: 74.9864\n",
      "Epoch 88/100\n",
      "100/100 [==============================] - 0s 220us/sample - loss: 2301.4016 - mse: 74.8942\n",
      "Epoch 89/100\n",
      "100/100 [==============================] - 0s 260us/sample - loss: 2331.4151 - mse: 74.8034\n",
      "Epoch 90/100\n",
      "100/100 [==============================] - 0s 240us/sample - loss: 2302.9090 - mse: 74.7099\n",
      "Epoch 91/100\n",
      "100/100 [==============================] - 0s 200us/sample - loss: 2312.0534 - mse: 74.6201\n",
      "Epoch 92/100\n",
      "100/100 [==============================] - 0s 270us/sample - loss: 2280.1994 - mse: 74.5284\n",
      "Epoch 93/100\n",
      "100/100 [==============================] - 0s 220us/sample - loss: 2305.3751 - mse: 74.4369\n",
      "Epoch 94/100\n",
      "100/100 [==============================] - 0s 200us/sample - loss: 2296.1634 - mse: 74.3458\n",
      "Epoch 95/100\n",
      "100/100 [==============================] - 0s 230us/sample - loss: 2268.6729 - mse: 74.2539\n",
      "Epoch 96/100\n",
      "100/100 [==============================] - 0s 240us/sample - loss: 2282.7724 - mse: 74.1642\n",
      "Epoch 97/100\n",
      "100/100 [==============================] - 0s 270us/sample - loss: 2296.1453 - mse: 74.0734\n",
      "Epoch 98/100\n",
      "100/100 [==============================] - 0s 220us/sample - loss: 2277.9954 - mse: 73.9819\n",
      "Epoch 99/100\n",
      "100/100 [==============================] - 0s 260us/sample - loss: 2288.3434 - mse: 73.8909\n",
      "Epoch 100/100\n",
      "100/100 [==============================] - 0s 220us/sample - loss: 2265.4256 - mse: 73.8001\n"
     ]
    }
   ],
   "source": [
    "history = model.fit(x, y_true, epochs=100, verbose=1,callbacks=[tensorboard])"
   ]
  },
  {
   "cell_type": "code",
   "execution_count": 18,
   "metadata": {},
   "outputs": [
    {
     "data": {
      "text/plain": [
       "[<matplotlib.lines.Line2D at 0x1c332bfab48>]"
      ]
     },
     "execution_count": 18,
     "metadata": {},
     "output_type": "execute_result"
    },
    {
     "data": {
      "image/png": "[encoded data removed]",
      "text/plain": [
       "<Figure size 432x288 with 1 Axes>"
      ]
     },
     "metadata": {
      "needs_background": "light"
     },
     "output_type": "display_data"
    }
   ],
   "source": [
    "plt.plot(history.history['loss'])"
   ]
  },
  {
   "cell_type": "markdown",
   "metadata": {},
   "source": [
    "# Starting TensorBoard\n",
    "**Try navigating to localhost:6006 instead (equivalent to http://127.0.0.1:6006/).**"
   ]
  },
  {
   "cell_type": "code",
   "execution_count": 19,
   "metadata": {},
   "outputs": [],
   "source": [
    "# ! tensorboard --logdir=.\\log"
   ]
  },
  {
   "attachments": {
    "image.png": {
     "image/png": "[encoded data removed]"
    }
   },
   "cell_type": "markdown",
   "metadata": {},
   "source": [
    "### Stop TensorBoard server if stated from jupyter notebook or else start TensorBoard from cmd\n",
    "### https://stackoverflow.com/a/39633428/11121579\n",
    "![image.png](attachment:image.png)"
   ]
  },
  {
   "cell_type": "code",
   "execution_count": null,
   "metadata": {},
   "outputs": [],
   "source": []
  }
 ],
 "metadata": {
  "kernelspec": {
   "display_name": "Python 3",
   "language": "python",
   "name": "python3"
  },
  "language_info": {
   "codemirror_mode": {
    "name": "ipython",
    "version": 3
   },
   "file_extension": ".py",
   "mimetype": "text/x-python",
   "name": "python",
   "nbconvert_exporter": "python",
   "pygments_lexer": "ipython3",
   "version": "3.7.6"
  }
 },
 "nbformat": 4,
 "nbformat_minor": 4
}
